{
 "cells": [
  {
   "cell_type": "code",
   "execution_count": 1,
   "metadata": {},
   "outputs": [
    {
     "name": "stderr",
     "output_type": "stream",
     "text": [
      "Using TensorFlow backend.\n"
     ]
    }
   ],
   "source": [
    "import pandas as pd\n",
    "import numpy as np\n",
    "import string\n",
    "from string import digits\n",
    "import matplotlib.pyplot as plt\n",
    "%matplotlib inline\n",
    "import re\n",
    "from sklearn.utils import shuffle\n",
    "from sklearn.model_selection import train_test_split\n",
    "from keras.layers import Input, LSTM, Embedding, Dense\n",
    "from keras.models import Model"
   ]
  },
  {
   "cell_type": "code",
   "execution_count": 2,
   "metadata": {},
   "outputs": [
    {
     "name": "stderr",
     "output_type": "stream",
     "text": [
      "C:\\Users\\Jayashree\\Anaconda3\\lib\\site-packages\\ipykernel_launcher.py:1: FutureWarning: read_table is deprecated, use read_csv instead.\n",
      "  \"\"\"Entry point for launching an IPython kernel.\n"
     ]
    }
   ],
   "source": [
    "lines= pd.read_table('kan.txt', names=['correct', 'wrong'],delimiter='~')"
   ]
  },
  {
   "cell_type": "code",
   "execution_count": 3,
   "metadata": {},
   "outputs": [
    {
     "data": {
      "text/html": [
       "<div>\n",
       "<style scoped>\n",
       "    .dataframe tbody tr th:only-of-type {\n",
       "        vertical-align: middle;\n",
       "    }\n",
       "\n",
       "    .dataframe tbody tr th {\n",
       "        vertical-align: top;\n",
       "    }\n",
       "\n",
       "    .dataframe thead th {\n",
       "        text-align: right;\n",
       "    }\n",
       "</style>\n",
       "<table border=\"1\" class=\"dataframe\">\n",
       "  <thead>\n",
       "    <tr style=\"text-align: right;\">\n",
       "      <th></th>\n",
       "      <th>correct</th>\n",
       "      <th>wrong</th>\n",
       "    </tr>\n",
       "  </thead>\n",
       "  <tbody>\n",
       "    <tr>\n",
       "      <th>0</th>\n",
       "      <td>ಅವಳು ಏನು ಮಾಡುತ್ತಿದ್ದಳು?</td>\n",
       "      <td>ಅವಳು ಏನು ಮಾಡುತ್ತಿದ್ದನು?</td>\n",
       "    </tr>\n",
       "    <tr>\n",
       "      <th>1</th>\n",
       "      <td>ಅವನು ಏನು ಮಾಡುತ್ತಿದ್ದನು?</td>\n",
       "      <td>ಅವನು ಏನು ಮಾಡುತ್ತಿದ್ದಳು?</td>\n",
       "    </tr>\n",
       "    <tr>\n",
       "      <th>2</th>\n",
       "      <td>ಅವಳು ಏನು ಬಯಸುತ್ತಾಳೆ?</td>\n",
       "      <td>ಅವಳು ಏನು ಬಯಸುತ್ತಾನೆ?</td>\n",
       "    </tr>\n",
       "    <tr>\n",
       "      <th>3</th>\n",
       "      <td>ಅವನು ಏನು ಬಯಸುತ್ತಾನೆ?</td>\n",
       "      <td>ಅವನು ಏನು ಬಯಸುತ್ತಾಳೆ?</td>\n",
       "    </tr>\n",
       "    <tr>\n",
       "      <th>4</th>\n",
       "      <td>ಅವಳು ತನ್ನ ಪುಸ್ತಕವನ್ನು ಓದುತ್ತಿದ್ದಾಳೆ.</td>\n",
       "      <td>ಅವಳು ತನ್ನ ಪುಸ್ತಕವನ್ನು ಓದುತ್ತಿದ್ದಾನೆ.</td>\n",
       "    </tr>\n",
       "    <tr>\n",
       "      <th>5</th>\n",
       "      <td>ಅವನು ತನ್ನ ಪುಸ್ತಕವನ್ನು ಓದುತ್ತಿದ್ದಾನೆ.</td>\n",
       "      <td>ಅವನು ತನ್ನ ಪುಸ್ತಕವನ್ನು ಓದುತ್ತಿದ್ದಾಳೆ.</td>\n",
       "    </tr>\n",
       "    <tr>\n",
       "      <th>6</th>\n",
       "      <td>ಅವಳು  ಪುಸ್ತಕವನ್ನು ಓದುತ್ತಿದ್ದಾಳೆ.</td>\n",
       "      <td>ಅವಳು ಪುಸ್ತಕವನ್ನು ಓದುತ್ತಿದ್ದಾನೆ.</td>\n",
       "    </tr>\n",
       "    <tr>\n",
       "      <th>7</th>\n",
       "      <td>ಅವಳು  ಪುಸ್ತಕವನ್ನು ಓದುತ್ತಿದ್ದಾಳೆ.</td>\n",
       "      <td>ಅವಳು ಪುಸ್ತಕವನ್ನು ಓದುತ್ತಿದ್ದಾರೆ.</td>\n",
       "    </tr>\n",
       "    <tr>\n",
       "      <th>8</th>\n",
       "      <td>ಅವಳು  ಪುಸ್ತಕವನ್ನು ಓದುತ್ತಿದ್ದಾಳೆ.</td>\n",
       "      <td>ಅವರು ಪುಸ್ತಕವನ್ನು ಓದುತ್ತಿದ್ದಾಳೆ?</td>\n",
       "    </tr>\n",
       "    <tr>\n",
       "      <th>9</th>\n",
       "      <td>ಅವಳು  ಪುಸ್ತಕವನ್ನು ಓದುತ್ತಿದ್ದಾಳೆ.</td>\n",
       "      <td>ಅವನು ಪುಸ್ತಕವನ್ನು ಓದುತ್ತಿದ್ದಾಳೆ?</td>\n",
       "    </tr>\n",
       "    <tr>\n",
       "      <th>10</th>\n",
       "      <td>ಅವಳು ನಗರದಲ್ಲಿ ವಾಸಿಸುತ್ತಾಳೆ.</td>\n",
       "      <td>ಅವಳು ನಗರದಲ್ಲಿ ವಾಸಿಸುತ್ತಾನೆ.</td>\n",
       "    </tr>\n",
       "    <tr>\n",
       "      <th>11</th>\n",
       "      <td>ಅವನು ನಗರದಲ್ಲಿ ವಾಸಿಸುತ್ತಾನೆ.</td>\n",
       "      <td>ಅವನು ನಗರದಲ್ಲಿ ವಾಸಿಸುತ್ತಾಳೆ.</td>\n",
       "    </tr>\n",
       "    <tr>\n",
       "      <th>12</th>\n",
       "      <td>ಅವರು ನಗರದಲ್ಲಿ ವಾಸಿಸುತ್ತಾರೆ.</td>\n",
       "      <td>ಅವರು ನಗರದಲ್ಲಿ ವಾಸಿಸುತ್ತಾಳೆ.</td>\n",
       "    </tr>\n",
       "    <tr>\n",
       "      <th>13</th>\n",
       "      <td>ಅವರು ನಗರದಲ್ಲಿ ವಾಸಿಸುತ್ತಾರೆ.</td>\n",
       "      <td>ಅವರು ನಗರದಲ್ಲಿ ವಾಸಿಸುತ್ತಾನೆ?</td>\n",
       "    </tr>\n",
       "    <tr>\n",
       "      <th>14</th>\n",
       "      <td>ಅವರು ಊರಿಗೆ ಹೋದರು.</td>\n",
       "      <td>ಅವನು ಊರಿಗೆ ಹೋದರು.</td>\n",
       "    </tr>\n",
       "    <tr>\n",
       "      <th>15</th>\n",
       "      <td>ಅವರು ಊರಿಗೆ ಹೋದರು.</td>\n",
       "      <td>ಅವಳು ಊರಿಗೆ ಹೋದರು.</td>\n",
       "    </tr>\n",
       "    <tr>\n",
       "      <th>16</th>\n",
       "      <td>ರಾಮನು ಬೆಂಗಳೂರಿಗೆ ಹೋದನು.</td>\n",
       "      <td>ರಾಮನು ಬೆಂಗಳೂರಿಗೆ ಹೋದಳು.</td>\n",
       "    </tr>\n",
       "    <tr>\n",
       "      <th>17</th>\n",
       "      <td>ರಾಮನು ಬೆಂಗಳೂರಿಗೆ ಹೋದನು.</td>\n",
       "      <td>ರಾಮನು ಬೆಂಗಳೂರಿಗೆ ಹೋದಳು?</td>\n",
       "    </tr>\n",
       "    <tr>\n",
       "      <th>18</th>\n",
       "      <td>ರಾಮ ಲಕ್ಷ್ಮಣರು ಯುದ್ಧಕ್ಕೆ ಹೋದರು.</td>\n",
       "      <td>ರಾಮ ಲಕ್ಷ್ಮಣರು ಯುದ್ಧಕ್ಕೆ ಹೋದನು.</td>\n",
       "    </tr>\n",
       "    <tr>\n",
       "      <th>19</th>\n",
       "      <td>ರಾಮ ಲಕ್ಷ್ಮಣರು ಯುದ್ಧಕ್ಕೆ ಹೋದರು.</td>\n",
       "      <td>ರಾಮ ಲಕ್ಷ್ಮಣರು ಯುದ್ಧಕ್ಕೆ ಹೋದಳು.</td>\n",
       "    </tr>\n",
       "    <tr>\n",
       "      <th>20</th>\n",
       "      <td>ನಿನ್ನಾ ಹೆಸರು ಏನು?</td>\n",
       "      <td>ನಿನ್ನಾ ಹೆಸರು ಏನು!</td>\n",
       "    </tr>\n",
       "    <tr>\n",
       "      <th>21</th>\n",
       "      <td>ನಿನ್ನಾ ಹೆಸರು ಏನು?</td>\n",
       "      <td>ನಿನ್ನಾ ಹೆಸರು ಏನು.</td>\n",
       "    </tr>\n",
       "    <tr>\n",
       "      <th>22</th>\n",
       "      <td>ನಿನ್ನಾ ಹೆಸರು ಏನು?</td>\n",
       "      <td>ನಿನ್ನಾ ಹೆಸರು ಯಾವುದು?</td>\n",
       "    </tr>\n",
       "    <tr>\n",
       "      <th>23</th>\n",
       "      <td>ನಾಳೆ ಶಾಲೆಗೆ ಹೋಗುವೆನು.</td>\n",
       "      <td>ನಾಳೆ ಶಾಲೆಗೆ ಹೋಗಿದ್ದೆ.</td>\n",
       "    </tr>\n",
       "    <tr>\n",
       "      <th>24</th>\n",
       "      <td>ನಾಳೆ ಶಾಲೆಗೆ ಹೋಗುವೆನು.</td>\n",
       "      <td>ನಾಳೆ ಶಾಲೆಗೆ ಹೋಗಿದ್ದಾರೆ.</td>\n",
       "    </tr>\n",
       "    <tr>\n",
       "      <th>25</th>\n",
       "      <td>ಅವಳು ಶಾಲೆಗೆ ಹೋದಳು.</td>\n",
       "      <td>ಅವಳು ಶಾಲೆಗೆ ಹೋದನು.</td>\n",
       "    </tr>\n",
       "    <tr>\n",
       "      <th>26</th>\n",
       "      <td>ಅವಳು ಶಾಲೆಗೆ ಹೋದಳು.</td>\n",
       "      <td>ಅವಳು ಶಾಲೆಗೆ ಹೋದರು.</td>\n",
       "    </tr>\n",
       "    <tr>\n",
       "      <th>27</th>\n",
       "      <td>ಅವರು ಶಾಲೆಗೆ ಹೋದರು.</td>\n",
       "      <td>ಅವಳು ಶಾಲೆಗೆ ಹೋದರು.</td>\n",
       "    </tr>\n",
       "    <tr>\n",
       "      <th>28</th>\n",
       "      <td>ಅವರು ಶಾಲೆಗೆ ಹೋದರು.</td>\n",
       "      <td>ಅವನು ಶಾಲೆಗೆ ಹೋದರು.</td>\n",
       "    </tr>\n",
       "    <tr>\n",
       "      <th>29</th>\n",
       "      <td>ಅವರು ಶಾಲೆಗೆ ಹೋದರು.</td>\n",
       "      <td>ಅವರು ಶಾಲೆಗೆ ಹೋದನು.</td>\n",
       "    </tr>\n",
       "    <tr>\n",
       "      <th>...</th>\n",
       "      <td>...</td>\n",
       "      <td>...</td>\n",
       "    </tr>\n",
       "    <tr>\n",
       "      <th>909</th>\n",
       "      <td>ನೀವು ನಗರದಲ್ಲಿ ವಾಸಿಸುತ್ತಿದ್ದೀರಾ?</td>\n",
       "      <td>ನೀವು ನಗರದಲ್ಲಿ ವಾಸಿಸುತ್ತಿದ್ದೀರಾ!</td>\n",
       "    </tr>\n",
       "    <tr>\n",
       "      <th>910</th>\n",
       "      <td>ನೀವು ಪಕ್ಷಕ್ಕೆ ಬರುತ್ತಿದ್ದೀರಾ?</td>\n",
       "      <td>ನೀವು ಪಕ್ಷಕ್ಕೆ ಬರುತ್ತಿದ್ದೀರಾ.</td>\n",
       "    </tr>\n",
       "    <tr>\n",
       "      <th>911</th>\n",
       "      <td>ನೀವು ಪಕ್ಷಕ್ಕೆ ಬರುತ್ತಿದ್ದೀರಾ?</td>\n",
       "      <td>ನೀವು ಪಕ್ಷಕ್ಕೆ ಬರುತ್ತಿದ್ದೀರಾ!</td>\n",
       "    </tr>\n",
       "    <tr>\n",
       "      <th>912</th>\n",
       "      <td>ನೀವು ಪಕ್ಷಕ್ಕೆ ಬರುತ್ತಿದ್ದೀರಾ?</td>\n",
       "      <td>ನೀವು ಪಕ್ಷಕ್ಕೆ ಬರುತ್ತಿದ್ದೀರಾ</td>\n",
       "    </tr>\n",
       "    <tr>\n",
       "      <th>913</th>\n",
       "      <td>ನೀವು ಪಕ್ಷಕ್ಕೆ ಬರುತ್ತಿದ್ದೀರಾ?</td>\n",
       "      <td>ನೀವು ಪಕ್ಷಕ್ಕೆ ಬರುತ್ತಿದ್ದೀಯ?</td>\n",
       "    </tr>\n",
       "    <tr>\n",
       "      <th>914</th>\n",
       "      <td>ನೀವು ಪಕ್ಷಕ್ಕೆ ಬರುತ್ತಿದ್ದೀರಾ?</td>\n",
       "      <td>ನೀವು ಪಕ್ಷಕ್ಕೆ ಬರುತ್ತಿದ್ದಾನಾ?</td>\n",
       "    </tr>\n",
       "    <tr>\n",
       "      <th>915</th>\n",
       "      <td>ನೀವು ಪಕ್ಷಕ್ಕೆ ಬರುತ್ತಿದ್ದೀರಾ?</td>\n",
       "      <td>ನೀವು ಪಕ್ಷಕ್ಕೆ ಬರುತ್ತಿದ್ದಾಳಾ?</td>\n",
       "    </tr>\n",
       "    <tr>\n",
       "      <th>916</th>\n",
       "      <td>ನೀವು ಪಕ್ಷಕ್ಕೆ ಬರುತ್ತಿದ್ದೀರಾ?</td>\n",
       "      <td>ನೀವು ಪಕ್ಷಕ್ಕೆ ಬರುತ್ತಿದ್ದಾರಾ?</td>\n",
       "    </tr>\n",
       "    <tr>\n",
       "      <th>917</th>\n",
       "      <td>ನೀವು ಪಕ್ಷಕ್ಕೆ ಬರುತ್ತಿದ್ದೀರಾ?</td>\n",
       "      <td>ನೀನು ಪಕ್ಷಕ್ಕೆ ಬರುತ್ತಿದ್ದೀರಾ?</td>\n",
       "    </tr>\n",
       "    <tr>\n",
       "      <th>918</th>\n",
       "      <td>ನೀವು ಪಕ್ಷಕ್ಕೆ ಬರುತ್ತಿದ್ದೀರಾ?</td>\n",
       "      <td>ನೀನೇ ಪಕ್ಷಕ್ಕೆ ಬರುತ್ತಿದ್ದೀರಾ?</td>\n",
       "    </tr>\n",
       "    <tr>\n",
       "      <th>919</th>\n",
       "      <td>ನೀವು ಪಕ್ಷಕ್ಕೆ ಬರುತ್ತಿದ್ದೀರಾ?</td>\n",
       "      <td>ನಾನು ಪಕ್ಷಕ್ಕೆ ಬರುತ್ತಿದ್ದೀರಾ?</td>\n",
       "    </tr>\n",
       "    <tr>\n",
       "      <th>920</th>\n",
       "      <td>ನೀವು ಪಕ್ಷಕ್ಕೆ ಬರುತ್ತಿದ್ದೀರಾ?</td>\n",
       "      <td>ಅವನು ಪಕ್ಷಕ್ಕೆ ಬರುತ್ತಿದ್ದೀರಾ?</td>\n",
       "    </tr>\n",
       "    <tr>\n",
       "      <th>921</th>\n",
       "      <td>ನೀವು ಪಕ್ಷಕ್ಕೆ ಬರುತ್ತಿದ್ದೀರಾ?</td>\n",
       "      <td>ಅವಳು ಪಕ್ಷಕ್ಕೆ ಬರುತ್ತಿದ್ದೀರಾ?</td>\n",
       "    </tr>\n",
       "    <tr>\n",
       "      <th>922</th>\n",
       "      <td>ನೀವು ಪಕ್ಷಕ್ಕೆ ಬರುತ್ತಿದ್ದೀರಾ?</td>\n",
       "      <td>ಅವರು ಪಕ್ಷಕ್ಕೆ ಬರುತ್ತಿದ್ದೀರಾ?</td>\n",
       "    </tr>\n",
       "    <tr>\n",
       "      <th>923</th>\n",
       "      <td>ನೀವು ಪಕ್ಷಕ್ಕೆ ಬರುತ್ತಿದ್ದೀರಾ?</td>\n",
       "      <td>ಅದು ಪಕ್ಷಕ್ಕೆ ಬರುತ್ತಿದ್ದೀರಾ?</td>\n",
       "    </tr>\n",
       "    <tr>\n",
       "      <th>924</th>\n",
       "      <td>ಏನು ಅದ್ಭುತ ಕಲ್ಪನೆ!</td>\n",
       "      <td>ಏನು ಅದ್ಭುತ ಕಲ್ಪನೆ</td>\n",
       "    </tr>\n",
       "    <tr>\n",
       "      <th>925</th>\n",
       "      <td>ಏನು ಅದ್ಭುತ ಕಲ್ಪನೆ!</td>\n",
       "      <td>ಏನು ಅದ್ಭುತ ಕಲ್ಪನೆ.</td>\n",
       "    </tr>\n",
       "    <tr>\n",
       "      <th>926</th>\n",
       "      <td>ಏನು ಅದ್ಭುತ ಕಲ್ಪನೆ!</td>\n",
       "      <td>ಏನು ಅದ್ಭುತ ಕಲ್ಪನೆ?</td>\n",
       "    </tr>\n",
       "    <tr>\n",
       "      <th>927</th>\n",
       "      <td>ಎಷ್ಟು ಸುಂದರ!</td>\n",
       "      <td>ಎಷ್ಟು ಸುಂದರ.</td>\n",
       "    </tr>\n",
       "    <tr>\n",
       "      <th>928</th>\n",
       "      <td>ಎಷ್ಟು ಸುಂದರ!</td>\n",
       "      <td>ಎಷ್ಟು ಸುಂದರ?</td>\n",
       "    </tr>\n",
       "    <tr>\n",
       "      <th>929</th>\n",
       "      <td>ಎಷ್ಟು ಸುಂದರ!</td>\n",
       "      <td>ಎಷ್ಟು ಸುಂದರ</td>\n",
       "    </tr>\n",
       "    <tr>\n",
       "      <th>930</th>\n",
       "      <td>ಎಷ್ಟು ವಿಶೇಷ!</td>\n",
       "      <td>ಎಷ್ಟು ವಿಶೇಷ.</td>\n",
       "    </tr>\n",
       "    <tr>\n",
       "      <th>931</th>\n",
       "      <td>ಎಷ್ಟು ವಿಶೇಷ!</td>\n",
       "      <td>ಎಷ್ಟು ವಿಶೇಷ?</td>\n",
       "    </tr>\n",
       "    <tr>\n",
       "      <th>932</th>\n",
       "      <td>ಎಷ್ಟು ವಿಶೇಷ!</td>\n",
       "      <td>ಎಷ್ಟು ವಿಶೇಷ</td>\n",
       "    </tr>\n",
       "    <tr>\n",
       "      <th>933</th>\n",
       "      <td>ಎಷ್ಟು ಅದ್ಭುತವಾಗಿದೆ!</td>\n",
       "      <td>ಎಷ್ಟು ಅದ್ಭುತವಾಗಿದೆ.</td>\n",
       "    </tr>\n",
       "    <tr>\n",
       "      <th>934</th>\n",
       "      <td>ಎಷ್ಟು ಅದ್ಭುತವಾಗಿದೆ!</td>\n",
       "      <td>ಎಷ್ಟು ಅದ್ಭುತವಾಗಿದೆ?</td>\n",
       "    </tr>\n",
       "    <tr>\n",
       "      <th>935</th>\n",
       "      <td>ಎಷ್ಟು ಅದ್ಭುತವಾಗಿದೆ!</td>\n",
       "      <td>ಎಷ್ಟು ಅದ್ಭುತವಾಗಿದೆ</td>\n",
       "    </tr>\n",
       "    <tr>\n",
       "      <th>936</th>\n",
       "      <td>ಎಂಥಾ ವಿಚಿತ್ರ!</td>\n",
       "      <td>ಎಂಥಾ ವಿಚಿತ್ರ</td>\n",
       "    </tr>\n",
       "    <tr>\n",
       "      <th>937</th>\n",
       "      <td>ಎಂಥಾ ವಿಚಿತ್ರ!</td>\n",
       "      <td>ಎಂಥಾ ವಿಚಿತ್ರ?</td>\n",
       "    </tr>\n",
       "    <tr>\n",
       "      <th>938</th>\n",
       "      <td>ಎಂಥಾ ವಿಚಿತ್ರ!</td>\n",
       "      <td>ಎಂಥಾ ವಿಚಿತ್ರ.</td>\n",
       "    </tr>\n",
       "  </tbody>\n",
       "</table>\n",
       "<p>939 rows × 2 columns</p>\n",
       "</div>"
      ],
      "text/plain": [
       "                                  correct  \\\n",
       "0                 ಅವಳು ಏನು ಮಾಡುತ್ತಿದ್ದಳು?   \n",
       "1                 ಅವನು ಏನು ಮಾಡುತ್ತಿದ್ದನು?   \n",
       "2                    ಅವಳು ಏನು ಬಯಸುತ್ತಾಳೆ?   \n",
       "3                    ಅವನು ಏನು ಬಯಸುತ್ತಾನೆ?   \n",
       "4    ಅವಳು ತನ್ನ ಪುಸ್ತಕವನ್ನು ಓದುತ್ತಿದ್ದಾಳೆ.   \n",
       "5    ಅವನು ತನ್ನ ಪುಸ್ತಕವನ್ನು ಓದುತ್ತಿದ್ದಾನೆ.   \n",
       "6        ಅವಳು  ಪುಸ್ತಕವನ್ನು ಓದುತ್ತಿದ್ದಾಳೆ.   \n",
       "7        ಅವಳು  ಪುಸ್ತಕವನ್ನು ಓದುತ್ತಿದ್ದಾಳೆ.   \n",
       "8        ಅವಳು  ಪುಸ್ತಕವನ್ನು ಓದುತ್ತಿದ್ದಾಳೆ.   \n",
       "9        ಅವಳು  ಪುಸ್ತಕವನ್ನು ಓದುತ್ತಿದ್ದಾಳೆ.   \n",
       "10            ಅವಳು ನಗರದಲ್ಲಿ ವಾಸಿಸುತ್ತಾಳೆ.   \n",
       "11            ಅವನು ನಗರದಲ್ಲಿ ವಾಸಿಸುತ್ತಾನೆ.   \n",
       "12            ಅವರು ನಗರದಲ್ಲಿ ವಾಸಿಸುತ್ತಾರೆ.   \n",
       "13            ಅವರು ನಗರದಲ್ಲಿ ವಾಸಿಸುತ್ತಾರೆ.   \n",
       "14                      ಅವರು ಊರಿಗೆ ಹೋದರು.   \n",
       "15                      ಅವರು ಊರಿಗೆ ಹೋದರು.   \n",
       "16                ರಾಮನು ಬೆಂಗಳೂರಿಗೆ ಹೋದನು.   \n",
       "17                ರಾಮನು ಬೆಂಗಳೂರಿಗೆ ಹೋದನು.   \n",
       "18         ರಾಮ ಲಕ್ಷ್ಮಣರು ಯುದ್ಧಕ್ಕೆ ಹೋದರು.   \n",
       "19         ರಾಮ ಲಕ್ಷ್ಮಣರು ಯುದ್ಧಕ್ಕೆ ಹೋದರು.   \n",
       "20                      ನಿನ್ನಾ ಹೆಸರು ಏನು?   \n",
       "21                      ನಿನ್ನಾ ಹೆಸರು ಏನು?   \n",
       "22                      ನಿನ್ನಾ ಹೆಸರು ಏನು?   \n",
       "23                  ನಾಳೆ ಶಾಲೆಗೆ ಹೋಗುವೆನು.   \n",
       "24                  ನಾಳೆ ಶಾಲೆಗೆ ಹೋಗುವೆನು.   \n",
       "25                     ಅವಳು ಶಾಲೆಗೆ ಹೋದಳು.   \n",
       "26                     ಅವಳು ಶಾಲೆಗೆ ಹೋದಳು.   \n",
       "27                     ಅವರು ಶಾಲೆಗೆ ಹೋದರು.   \n",
       "28                     ಅವರು ಶಾಲೆಗೆ ಹೋದರು.   \n",
       "29                     ಅವರು ಶಾಲೆಗೆ ಹೋದರು.   \n",
       "..                                    ...   \n",
       "909       ನೀವು ನಗರದಲ್ಲಿ ವಾಸಿಸುತ್ತಿದ್ದೀರಾ?   \n",
       "910          ನೀವು ಪಕ್ಷಕ್ಕೆ ಬರುತ್ತಿದ್ದೀರಾ?   \n",
       "911          ನೀವು ಪಕ್ಷಕ್ಕೆ ಬರುತ್ತಿದ್ದೀರಾ?   \n",
       "912          ನೀವು ಪಕ್ಷಕ್ಕೆ ಬರುತ್ತಿದ್ದೀರಾ?   \n",
       "913          ನೀವು ಪಕ್ಷಕ್ಕೆ ಬರುತ್ತಿದ್ದೀರಾ?   \n",
       "914          ನೀವು ಪಕ್ಷಕ್ಕೆ ಬರುತ್ತಿದ್ದೀರಾ?   \n",
       "915          ನೀವು ಪಕ್ಷಕ್ಕೆ ಬರುತ್ತಿದ್ದೀರಾ?   \n",
       "916          ನೀವು ಪಕ್ಷಕ್ಕೆ ಬರುತ್ತಿದ್ದೀರಾ?   \n",
       "917          ನೀವು ಪಕ್ಷಕ್ಕೆ ಬರುತ್ತಿದ್ದೀರಾ?   \n",
       "918          ನೀವು ಪಕ್ಷಕ್ಕೆ ಬರುತ್ತಿದ್ದೀರಾ?   \n",
       "919          ನೀವು ಪಕ್ಷಕ್ಕೆ ಬರುತ್ತಿದ್ದೀರಾ?   \n",
       "920          ನೀವು ಪಕ್ಷಕ್ಕೆ ಬರುತ್ತಿದ್ದೀರಾ?   \n",
       "921          ನೀವು ಪಕ್ಷಕ್ಕೆ ಬರುತ್ತಿದ್ದೀರಾ?   \n",
       "922          ನೀವು ಪಕ್ಷಕ್ಕೆ ಬರುತ್ತಿದ್ದೀರಾ?   \n",
       "923          ನೀವು ಪಕ್ಷಕ್ಕೆ ಬರುತ್ತಿದ್ದೀರಾ?   \n",
       "924                    ಏನು ಅದ್ಭುತ ಕಲ್ಪನೆ!   \n",
       "925                    ಏನು ಅದ್ಭುತ ಕಲ್ಪನೆ!   \n",
       "926                    ಏನು ಅದ್ಭುತ ಕಲ್ಪನೆ!   \n",
       "927                          ಎಷ್ಟು ಸುಂದರ!   \n",
       "928                          ಎಷ್ಟು ಸುಂದರ!   \n",
       "929                          ಎಷ್ಟು ಸುಂದರ!   \n",
       "930                          ಎಷ್ಟು ವಿಶೇಷ!   \n",
       "931                          ಎಷ್ಟು ವಿಶೇಷ!   \n",
       "932                          ಎಷ್ಟು ವಿಶೇಷ!   \n",
       "933                   ಎಷ್ಟು ಅದ್ಭುತವಾಗಿದೆ!   \n",
       "934                   ಎಷ್ಟು ಅದ್ಭುತವಾಗಿದೆ!   \n",
       "935                   ಎಷ್ಟು ಅದ್ಭುತವಾಗಿದೆ!   \n",
       "936                         ಎಂಥಾ ವಿಚಿತ್ರ!   \n",
       "937                         ಎಂಥಾ ವಿಚಿತ್ರ!   \n",
       "938                         ಎಂಥಾ ವಿಚಿತ್ರ!   \n",
       "\n",
       "                                    wrong  \n",
       "0                 ಅವಳು ಏನು ಮಾಡುತ್ತಿದ್ದನು?  \n",
       "1                 ಅವನು ಏನು ಮಾಡುತ್ತಿದ್ದಳು?  \n",
       "2                    ಅವಳು ಏನು ಬಯಸುತ್ತಾನೆ?  \n",
       "3                    ಅವನು ಏನು ಬಯಸುತ್ತಾಳೆ?  \n",
       "4    ಅವಳು ತನ್ನ ಪುಸ್ತಕವನ್ನು ಓದುತ್ತಿದ್ದಾನೆ.  \n",
       "5    ಅವನು ತನ್ನ ಪುಸ್ತಕವನ್ನು ಓದುತ್ತಿದ್ದಾಳೆ.  \n",
       "6         ಅವಳು ಪುಸ್ತಕವನ್ನು ಓದುತ್ತಿದ್ದಾನೆ.  \n",
       "7         ಅವಳು ಪುಸ್ತಕವನ್ನು ಓದುತ್ತಿದ್ದಾರೆ.  \n",
       "8         ಅವರು ಪುಸ್ತಕವನ್ನು ಓದುತ್ತಿದ್ದಾಳೆ?  \n",
       "9         ಅವನು ಪುಸ್ತಕವನ್ನು ಓದುತ್ತಿದ್ದಾಳೆ?  \n",
       "10            ಅವಳು ನಗರದಲ್ಲಿ ವಾಸಿಸುತ್ತಾನೆ.  \n",
       "11            ಅವನು ನಗರದಲ್ಲಿ ವಾಸಿಸುತ್ತಾಳೆ.  \n",
       "12            ಅವರು ನಗರದಲ್ಲಿ ವಾಸಿಸುತ್ತಾಳೆ.  \n",
       "13            ಅವರು ನಗರದಲ್ಲಿ ವಾಸಿಸುತ್ತಾನೆ?  \n",
       "14                      ಅವನು ಊರಿಗೆ ಹೋದರು.  \n",
       "15                      ಅವಳು ಊರಿಗೆ ಹೋದರು.  \n",
       "16                ರಾಮನು ಬೆಂಗಳೂರಿಗೆ ಹೋದಳು.  \n",
       "17                ರಾಮನು ಬೆಂಗಳೂರಿಗೆ ಹೋದಳು?  \n",
       "18         ರಾಮ ಲಕ್ಷ್ಮಣರು ಯುದ್ಧಕ್ಕೆ ಹೋದನು.  \n",
       "19         ರಾಮ ಲಕ್ಷ್ಮಣರು ಯುದ್ಧಕ್ಕೆ ಹೋದಳು.  \n",
       "20                      ನಿನ್ನಾ ಹೆಸರು ಏನು!  \n",
       "21                      ನಿನ್ನಾ ಹೆಸರು ಏನು.  \n",
       "22                   ನಿನ್ನಾ ಹೆಸರು ಯಾವುದು?  \n",
       "23                  ನಾಳೆ ಶಾಲೆಗೆ ಹೋಗಿದ್ದೆ.  \n",
       "24                ನಾಳೆ ಶಾಲೆಗೆ ಹೋಗಿದ್ದಾರೆ.  \n",
       "25                     ಅವಳು ಶಾಲೆಗೆ ಹೋದನು.  \n",
       "26                     ಅವಳು ಶಾಲೆಗೆ ಹೋದರು.  \n",
       "27                     ಅವಳು ಶಾಲೆಗೆ ಹೋದರು.  \n",
       "28                     ಅವನು ಶಾಲೆಗೆ ಹೋದರು.  \n",
       "29                     ಅವರು ಶಾಲೆಗೆ ಹೋದನು.  \n",
       "..                                    ...  \n",
       "909       ನೀವು ನಗರದಲ್ಲಿ ವಾಸಿಸುತ್ತಿದ್ದೀರಾ!  \n",
       "910          ನೀವು ಪಕ್ಷಕ್ಕೆ ಬರುತ್ತಿದ್ದೀರಾ.  \n",
       "911          ನೀವು ಪಕ್ಷಕ್ಕೆ ಬರುತ್ತಿದ್ದೀರಾ!  \n",
       "912           ನೀವು ಪಕ್ಷಕ್ಕೆ ಬರುತ್ತಿದ್ದೀರಾ  \n",
       "913           ನೀವು ಪಕ್ಷಕ್ಕೆ ಬರುತ್ತಿದ್ದೀಯ?  \n",
       "914          ನೀವು ಪಕ್ಷಕ್ಕೆ ಬರುತ್ತಿದ್ದಾನಾ?  \n",
       "915          ನೀವು ಪಕ್ಷಕ್ಕೆ ಬರುತ್ತಿದ್ದಾಳಾ?  \n",
       "916          ನೀವು ಪಕ್ಷಕ್ಕೆ ಬರುತ್ತಿದ್ದಾರಾ?  \n",
       "917          ನೀನು ಪಕ್ಷಕ್ಕೆ ಬರುತ್ತಿದ್ದೀರಾ?  \n",
       "918          ನೀನೇ ಪಕ್ಷಕ್ಕೆ ಬರುತ್ತಿದ್ದೀರಾ?  \n",
       "919          ನಾನು ಪಕ್ಷಕ್ಕೆ ಬರುತ್ತಿದ್ದೀರಾ?  \n",
       "920          ಅವನು ಪಕ್ಷಕ್ಕೆ ಬರುತ್ತಿದ್ದೀರಾ?  \n",
       "921          ಅವಳು ಪಕ್ಷಕ್ಕೆ ಬರುತ್ತಿದ್ದೀರಾ?  \n",
       "922          ಅವರು ಪಕ್ಷಕ್ಕೆ ಬರುತ್ತಿದ್ದೀರಾ?  \n",
       "923           ಅದು ಪಕ್ಷಕ್ಕೆ ಬರುತ್ತಿದ್ದೀರಾ?  \n",
       "924                     ಏನು ಅದ್ಭುತ ಕಲ್ಪನೆ  \n",
       "925                    ಏನು ಅದ್ಭುತ ಕಲ್ಪನೆ.  \n",
       "926                    ಏನು ಅದ್ಭುತ ಕಲ್ಪನೆ?  \n",
       "927                          ಎಷ್ಟು ಸುಂದರ.  \n",
       "928                          ಎಷ್ಟು ಸುಂದರ?  \n",
       "929                           ಎಷ್ಟು ಸುಂದರ  \n",
       "930                          ಎಷ್ಟು ವಿಶೇಷ.  \n",
       "931                          ಎಷ್ಟು ವಿಶೇಷ?  \n",
       "932                           ಎಷ್ಟು ವಿಶೇಷ  \n",
       "933                   ಎಷ್ಟು ಅದ್ಭುತವಾಗಿದೆ.  \n",
       "934                   ಎಷ್ಟು ಅದ್ಭುತವಾಗಿದೆ?  \n",
       "935                    ಎಷ್ಟು ಅದ್ಭುತವಾಗಿದೆ  \n",
       "936                          ಎಂಥಾ ವಿಚಿತ್ರ  \n",
       "937                         ಎಂಥಾ ವಿಚಿತ್ರ?  \n",
       "938                         ಎಂಥಾ ವಿಚಿತ್ರ.  \n",
       "\n",
       "[939 rows x 2 columns]"
      ]
     },
     "execution_count": 3,
     "metadata": {},
     "output_type": "execute_result"
    }
   ],
   "source": [
    "lines.shape\n",
    "lines"
   ]
  },
  {
   "cell_type": "code",
   "execution_count": null,
   "metadata": {},
   "outputs": [],
   "source": []
  },
  {
   "cell_type": "code",
   "execution_count": 4,
   "metadata": {},
   "outputs": [],
   "source": [
    "# Remove quotes\n",
    "lines.correct=lines.correct.apply(lambda x: re.sub(\"'\", '', x))\n",
    "lines.wrong=lines.wrong.apply(lambda x: re.sub(\"'\", '', x))"
   ]
  },
  {
   "cell_type": "code",
   "execution_count": null,
   "metadata": {},
   "outputs": [],
   "source": []
  },
  {
   "cell_type": "code",
   "execution_count": 5,
   "metadata": {},
   "outputs": [],
   "source": [
    "# Remove all numbers from text\n",
    "#remove_digits = str.maketrans('', '', digits)\n",
    "lines.correct=lines.correct.apply(lambda x: re.sub(\"[೦೧೨೩೪೫೬೭೮೯]\", \"\", x))\n",
    "lines.wrong = lines.wrong.apply(lambda x: re.sub(\"[೦೧೨೩೪೫೬೭೮೯]\", \"\", x))"
   ]
  },
  {
   "cell_type": "code",
   "execution_count": 6,
   "metadata": {},
   "outputs": [],
   "source": [
    "# Remove extra spaces\n",
    "lines.correct=lines.correct.apply(lambda x: x.strip())\n",
    "lines.wrong=lines.wrong.apply(lambda x: x.strip())\n",
    "lines.correct=lines.correct.apply(lambda x: re.sub(\" +\", \" \", x))\n",
    "lines.wrong=lines.wrong.apply(lambda x: re.sub(\" +\", \" \", x))\n",
    "lines.correct=lines.correct.apply(lambda x: re.sub(r\"([?.!,¿])\", r\" \\1 \", x))\n",
    "lines.wrong=lines.wrong.apply(lambda x: re.sub(r\"([?.!,¿])\", r\" \\1 \", x))"
   ]
  },
  {
   "cell_type": "code",
   "execution_count": 7,
   "metadata": {},
   "outputs": [],
   "source": [
    "# Add start and end tokens to target sequences\n",
    "lines.correct = lines.correct.apply(lambda x : 'START_ '+ x + ' _END')"
   ]
  },
  {
   "cell_type": "code",
   "execution_count": 8,
   "metadata": {},
   "outputs": [
    {
     "data": {
      "text/html": [
       "<div>\n",
       "<style scoped>\n",
       "    .dataframe tbody tr th:only-of-type {\n",
       "        vertical-align: middle;\n",
       "    }\n",
       "\n",
       "    .dataframe tbody tr th {\n",
       "        vertical-align: top;\n",
       "    }\n",
       "\n",
       "    .dataframe thead th {\n",
       "        text-align: right;\n",
       "    }\n",
       "</style>\n",
       "<table border=\"1\" class=\"dataframe\">\n",
       "  <thead>\n",
       "    <tr style=\"text-align: right;\">\n",
       "      <th></th>\n",
       "      <th>correct</th>\n",
       "      <th>wrong</th>\n",
       "    </tr>\n",
       "  </thead>\n",
       "  <tbody>\n",
       "    <tr>\n",
       "      <th>439</th>\n",
       "      <td>START_ ನೀವು ಹೇಗಿದ್ದೀರಾ ?  _END</td>\n",
       "      <td>ನೀನು ಹೇಗಿದ್ದೀರಾ ?</td>\n",
       "    </tr>\n",
       "    <tr>\n",
       "      <th>796</th>\n",
       "      <td>START_ ಅವಳು ಉತ್ತಮ ಫೋಟೋಗಳನ್ನು ಕ್ಲಿಕ್ ಮಾಡುತ್ತಾಳೆ...</td>\n",
       "      <td>ಅವರು ಉತ್ತಮ ಫೋಟೋಗಳನ್ನು ಕ್ಲಿಕ್ ಮಾಡುತ್ತಾಳೆ .</td>\n",
       "    </tr>\n",
       "    <tr>\n",
       "      <th>320</th>\n",
       "      <td>START_ ಅವನು ಅಳುತ್ತಿದ್ದಾನೆ .  _END</td>\n",
       "      <td>ಅವನು ಅಳುತ್ತಿದ್ದಾರೆ .</td>\n",
       "    </tr>\n",
       "    <tr>\n",
       "      <th>180</th>\n",
       "      <td>START_ ಅಜ್ಜ ಈಗ ಮಲಿಗಿದ್ದಾರೆ .  _END</td>\n",
       "      <td>ಅಜ್ಜ ಈಗ ಮಲಿಗಿದ್ದಳು ?</td>\n",
       "    </tr>\n",
       "    <tr>\n",
       "      <th>849</th>\n",
       "      <td>START_ ಅವಳು ಬಂದಾಗ ನಾವು ಅದನ್ನು ಅವಳಿಗೆ ಕೊಡೋಣ .  ...</td>\n",
       "      <td>ಅವಳು ಬಂದಿದ್ದಾಗ ನಾವು ಅದನ್ನು ಅವಳಿಗೆ ಕೊಡೋಣ .</td>\n",
       "    </tr>\n",
       "    <tr>\n",
       "      <th>902</th>\n",
       "      <td>START_ ಇದರ ಅರ್ಥವೇನು ?  _END</td>\n",
       "      <td>ಇದರ ಅರ್ಥವೇನು !</td>\n",
       "    </tr>\n",
       "    <tr>\n",
       "      <th>417</th>\n",
       "      <td>START_ ಮನೆಯಲ್ಲಿ ಅನೇಕ ಇಲಿಗಳು ಇವೆ .  _END</td>\n",
       "      <td>ಮನೆಯಲ್ಲಿ ಅನೇಕ ಇಲಿಗಳು ಇದಾರೆ .</td>\n",
       "    </tr>\n",
       "    <tr>\n",
       "      <th>886</th>\n",
       "      <td>START_ ನಮ್ಮ ರಜೆಗಳು ನಾಳೆಯಿಂದ ಪ್ರಾರಂಭವಾಗುತ್ತಾ ? ...</td>\n",
       "      <td>ನಮ್ಮ ರಜೆಗಳು ನಾಳೆಯಿಂದ ಪ್ರಾರಂಭವಾಗುತ್ತದ ?</td>\n",
       "    </tr>\n",
       "    <tr>\n",
       "      <th>190</th>\n",
       "      <td>START_ ನೀವು ನಮ್ಮ ಮನೆಗೆ ಬನ್ನಿ .  _END</td>\n",
       "      <td>ನೀವು ನಮ್ಮ ಮನೆಗೆ ಬಾ .</td>\n",
       "    </tr>\n",
       "    <tr>\n",
       "      <th>820</th>\n",
       "      <td>START_ ಅವನು ಪ್ರತಿದಿನ ಶಾಲೆಗೆ ಹೋಗುತ್ತಾನೆ .  _END</td>\n",
       "      <td>ಅವನು ಪ್ರತಿದಿನ ಶಾಲೆಗೆ ಹೋಗುತ್ತಾಳೆ .</td>\n",
       "    </tr>\n",
       "  </tbody>\n",
       "</table>\n",
       "</div>"
      ],
      "text/plain": [
       "                                               correct  \\\n",
       "439                  START_ ನೀವು ಹೇಗಿದ್ದೀರಾ ?  _END   \n",
       "796  START_ ಅವಳು ಉತ್ತಮ ಫೋಟೋಗಳನ್ನು ಕ್ಲಿಕ್ ಮಾಡುತ್ತಾಳೆ...   \n",
       "320                  START_ ಅವನು ಅಳುತ್ತಿದ್ದಾನೆ .  _END   \n",
       "180                 START_ ಅಜ್ಜ ಈಗ ಮಲಿಗಿದ್ದಾರೆ .  _END   \n",
       "849  START_ ಅವಳು ಬಂದಾಗ ನಾವು ಅದನ್ನು ಅವಳಿಗೆ ಕೊಡೋಣ .  ...   \n",
       "902                       START_ ಇದರ ಅರ್ಥವೇನು ?  _END   \n",
       "417            START_ ಮನೆಯಲ್ಲಿ ಅನೇಕ ಇಲಿಗಳು ಇವೆ .  _END   \n",
       "886  START_ ನಮ್ಮ ರಜೆಗಳು ನಾಳೆಯಿಂದ ಪ್ರಾರಂಭವಾಗುತ್ತಾ ? ...   \n",
       "190               START_ ನೀವು ನಮ್ಮ ಮನೆಗೆ ಬನ್ನಿ .  _END   \n",
       "820     START_ ಅವನು ಪ್ರತಿದಿನ ಶಾಲೆಗೆ ಹೋಗುತ್ತಾನೆ .  _END   \n",
       "\n",
       "                                          wrong  \n",
       "439                       ನೀನು ಹೇಗಿದ್ದೀರಾ ?   \n",
       "796  ಅವರು ಉತ್ತಮ ಫೋಟೋಗಳನ್ನು ಕ್ಲಿಕ್ ಮಾಡುತ್ತಾಳೆ .   \n",
       "320                       ಅವನು ಅಳುತ್ತಿದ್ದಾರೆ .   \n",
       "180                       ಅಜ್ಜ ಈಗ ಮಲಿಗಿದ್ದಳು ?   \n",
       "849  ಅವಳು ಬಂದಿದ್ದಾಗ ನಾವು ಅದನ್ನು ಅವಳಿಗೆ ಕೊಡೋಣ .   \n",
       "902                            ಇದರ ಅರ್ಥವೇನು !   \n",
       "417               ಮನೆಯಲ್ಲಿ ಅನೇಕ ಇಲಿಗಳು ಇದಾರೆ .   \n",
       "886     ನಮ್ಮ ರಜೆಗಳು ನಾಳೆಯಿಂದ ಪ್ರಾರಂಭವಾಗುತ್ತದ ?   \n",
       "190                       ನೀವು ನಮ್ಮ ಮನೆಗೆ ಬಾ .   \n",
       "820          ಅವನು ಪ್ರತಿದಿನ ಶಾಲೆಗೆ ಹೋಗುತ್ತಾಳೆ .   "
      ]
     },
     "execution_count": 8,
     "metadata": {},
     "output_type": "execute_result"
    }
   ],
   "source": [
    "lines.sample(10)"
   ]
  },
  {
   "cell_type": "code",
   "execution_count": 9,
   "metadata": {},
   "outputs": [],
   "source": [
    "# Vocabulary of English\n",
    "all_correct_words=set()\n",
    "for correct in lines.correct:\n",
    "    for word in correct.split():\n",
    "        if word not in all_correct_words:\n",
    "            all_correct_words.add(word)\n",
    "\n",
    "# Vocabulary of French \n",
    "all_wrong_words=set()\n",
    "for wrong in lines.wrong:\n",
    "    for word in wrong.split():\n",
    "        if word not in all_wrong_words:\n",
    "            all_wrong_words.add(word)"
   ]
  },
  {
   "cell_type": "code",
   "execution_count": 10,
   "metadata": {},
   "outputs": [
    {
     "data": {
      "text/plain": [
       "12"
      ]
     },
     "execution_count": 10,
     "metadata": {},
     "output_type": "execute_result"
    }
   ],
   "source": [
    "# Max Length of source sequence\n",
    "lenght_list=[]\n",
    "for l in lines.wrong:\n",
    "    lenght_list.append(len(l.split(' ')))\n",
    "max_length_src = np.max(lenght_list)\n",
    "max_length_src"
   ]
  },
  {
   "cell_type": "code",
   "execution_count": 11,
   "metadata": {},
   "outputs": [
    {
     "data": {
      "text/plain": [
       "12"
      ]
     },
     "execution_count": 11,
     "metadata": {},
     "output_type": "execute_result"
    }
   ],
   "source": [
    "# Max Length of target sequence\n",
    "lenght_list=[]\n",
    "for l in lines.correct:\n",
    "    lenght_list.append(len(l.split(' ')))\n",
    "max_length_tar = np.max(lenght_list)\n",
    "max_length_tar"
   ]
  },
  {
   "cell_type": "code",
   "execution_count": 12,
   "metadata": {},
   "outputs": [
    {
     "data": {
      "text/plain": [
       "(757, 575)"
      ]
     },
     "execution_count": 12,
     "metadata": {},
     "output_type": "execute_result"
    }
   ],
   "source": [
    "input_words = sorted(list(all_wrong_words))\n",
    "target_words = sorted(list(all_correct_words))\n",
    "num_encoder_tokens = len(all_wrong_words)\n",
    "num_decoder_tokens = len(all_correct_words)\n",
    "num_encoder_tokens+=1\n",
    "num_encoder_tokens, num_decoder_tokens"
   ]
  },
  {
   "cell_type": "code",
   "execution_count": 13,
   "metadata": {},
   "outputs": [
    {
     "data": {
      "text/plain": [
       "576"
      ]
     },
     "execution_count": 13,
     "metadata": {},
     "output_type": "execute_result"
    }
   ],
   "source": [
    "num_decoder_tokens += 1 # For zero padding\n",
    "num_decoder_tokens"
   ]
  },
  {
   "cell_type": "code",
   "execution_count": 14,
   "metadata": {},
   "outputs": [],
   "source": [
    "input_token_index = dict([(word, i+1) for i, word in enumerate(input_words)])\n",
    "target_token_index = dict([(word, i+1) for i, word in enumerate(target_words)])"
   ]
  },
  {
   "cell_type": "code",
   "execution_count": 15,
   "metadata": {},
   "outputs": [],
   "source": [
    "reverse_input_char_index = dict((i, word) for word, i in input_token_index.items())\n",
    "reverse_target_char_index = dict((i, word) for word, i in target_token_index.items())"
   ]
  },
  {
   "cell_type": "code",
   "execution_count": 16,
   "metadata": {},
   "outputs": [
    {
     "data": {
      "text/html": [
       "<div>\n",
       "<style scoped>\n",
       "    .dataframe tbody tr th:only-of-type {\n",
       "        vertical-align: middle;\n",
       "    }\n",
       "\n",
       "    .dataframe tbody tr th {\n",
       "        vertical-align: top;\n",
       "    }\n",
       "\n",
       "    .dataframe thead th {\n",
       "        text-align: right;\n",
       "    }\n",
       "</style>\n",
       "<table border=\"1\" class=\"dataframe\">\n",
       "  <thead>\n",
       "    <tr style=\"text-align: right;\">\n",
       "      <th></th>\n",
       "      <th>correct</th>\n",
       "      <th>wrong</th>\n",
       "    </tr>\n",
       "  </thead>\n",
       "  <tbody>\n",
       "    <tr>\n",
       "      <th>219</th>\n",
       "      <td>START_ ಗುರುಗಳು ದೀಪ ಬೆಳಗಿದರು .  _END</td>\n",
       "      <td>ಗುರುಗಳು ದೀಪ ಬೆಳಗಿದನು ?</td>\n",
       "    </tr>\n",
       "    <tr>\n",
       "      <th>282</th>\n",
       "      <td>START_ ಅವನು ನಗರದಲ್ಲಿ ಇರುತ್ತಾನೆ .  _END</td>\n",
       "      <td>ಅದು ನಗರದಲ್ಲಿ ಇರುತ್ತಾನೆ .</td>\n",
       "    </tr>\n",
       "    <tr>\n",
       "      <th>886</th>\n",
       "      <td>START_ ನಮ್ಮ ರಜೆಗಳು ನಾಳೆಯಿಂದ ಪ್ರಾರಂಭವಾಗುತ್ತಾ ? ...</td>\n",
       "      <td>ನಮ್ಮ ರಜೆಗಳು ನಾಳೆಯಿಂದ ಪ್ರಾರಂಭವಾಗುತ್ತದ ?</td>\n",
       "    </tr>\n",
       "    <tr>\n",
       "      <th>190</th>\n",
       "      <td>START_ ನೀವು ನಮ್ಮ ಮನೆಗೆ ಬನ್ನಿ .  _END</td>\n",
       "      <td>ನೀವು ನಮ್ಮ ಮನೆಗೆ ಬಾ .</td>\n",
       "    </tr>\n",
       "    <tr>\n",
       "      <th>140</th>\n",
       "      <td>START_ ಅವಳು ಭೋಜನಾ ಮಾಡುತ್ತಿದ್ದಾಳೆ .  _END</td>\n",
       "      <td>ಅವನು ಭೋಜನಾ ಮಾಡುತ್ತಿದ್ದಾಳೆ .</td>\n",
       "    </tr>\n",
       "    <tr>\n",
       "      <th>777</th>\n",
       "      <td>START_ ನಾನು ಬೆಕ್ಕುಗಳು ,  ನಾಯಿಗಳು ಮತ್ತು ಪಕ್ಷಿಗಳ...</td>\n",
       "      <td>ನಾನು ಬೆಕ್ಕುಗಳು ,  ನಾಯಿಗಳು ಮತ್ತು ಪಕ್ಷಿಗಳನ್ನು ಇಷ...</td>\n",
       "    </tr>\n",
       "    <tr>\n",
       "      <th>869</th>\n",
       "      <td>START_ ಅವಳು ಹೊರಡುವ ಮೊದಲು ನಿನ್ನನ್ನು ನೋಡುತ್ತಾಳೆ ...</td>\n",
       "      <td>ಅವಳು ಹೊರಡುವ ಮೊದಲು ನಿನ್ನನ್ನು ನೋಡಿದಳು .</td>\n",
       "    </tr>\n",
       "    <tr>\n",
       "      <th>45</th>\n",
       "      <td>START_ ನೀವು ಮಾತನಾಡುತಿರಾ ?  _END</td>\n",
       "      <td>ನೀವು ಮಾತನಾಡುತಿಯಾ ?</td>\n",
       "    </tr>\n",
       "    <tr>\n",
       "      <th>738</th>\n",
       "      <td>START_ ಅಂಗಡಿಯಲ್ಲಿ ನೂರಾರು ಟೋಪಿಗಳು ಇವೆ .  _END</td>\n",
       "      <td>ಅಂಗಡಿಯಲ್ಲಿ ನೂರಾರು ಟೋಪಿ ಇದ್ದಾಳೆ .</td>\n",
       "    </tr>\n",
       "    <tr>\n",
       "      <th>64</th>\n",
       "      <td>START_ ರಾಮನು ಗಾಜನ್ನು ಒಡೆದನು .  _END</td>\n",
       "      <td>ರಾಮನು ಗಾಜನ್ನು ಒಡೆದರು .</td>\n",
       "    </tr>\n",
       "  </tbody>\n",
       "</table>\n",
       "</div>"
      ],
      "text/plain": [
       "                                               correct  \\\n",
       "219                START_ ಗುರುಗಳು ದೀಪ ಬೆಳಗಿದರು .  _END   \n",
       "282             START_ ಅವನು ನಗರದಲ್ಲಿ ಇರುತ್ತಾನೆ .  _END   \n",
       "886  START_ ನಮ್ಮ ರಜೆಗಳು ನಾಳೆಯಿಂದ ಪ್ರಾರಂಭವಾಗುತ್ತಾ ? ...   \n",
       "190               START_ ನೀವು ನಮ್ಮ ಮನೆಗೆ ಬನ್ನಿ .  _END   \n",
       "140           START_ ಅವಳು ಭೋಜನಾ ಮಾಡುತ್ತಿದ್ದಾಳೆ .  _END   \n",
       "777  START_ ನಾನು ಬೆಕ್ಕುಗಳು ,  ನಾಯಿಗಳು ಮತ್ತು ಪಕ್ಷಿಗಳ...   \n",
       "869  START_ ಅವಳು ಹೊರಡುವ ಮೊದಲು ನಿನ್ನನ್ನು ನೋಡುತ್ತಾಳೆ ...   \n",
       "45                     START_ ನೀವು ಮಾತನಾಡುತಿರಾ ?  _END   \n",
       "738       START_ ಅಂಗಡಿಯಲ್ಲಿ ನೂರಾರು ಟೋಪಿಗಳು ಇವೆ .  _END   \n",
       "64                 START_ ರಾಮನು ಗಾಜನ್ನು ಒಡೆದನು .  _END   \n",
       "\n",
       "                                                 wrong  \n",
       "219                            ಗುರುಗಳು ದೀಪ ಬೆಳಗಿದನು ?   \n",
       "282                          ಅದು ನಗರದಲ್ಲಿ ಇರುತ್ತಾನೆ .   \n",
       "886            ನಮ್ಮ ರಜೆಗಳು ನಾಳೆಯಿಂದ ಪ್ರಾರಂಭವಾಗುತ್ತದ ?   \n",
       "190                              ನೀವು ನಮ್ಮ ಮನೆಗೆ ಬಾ .   \n",
       "140                       ಅವನು ಭೋಜನಾ ಮಾಡುತ್ತಿದ್ದಾಳೆ .   \n",
       "777  ನಾನು ಬೆಕ್ಕುಗಳು ,  ನಾಯಿಗಳು ಮತ್ತು ಪಕ್ಷಿಗಳನ್ನು ಇಷ...  \n",
       "869             ಅವಳು ಹೊರಡುವ ಮೊದಲು ನಿನ್ನನ್ನು ನೋಡಿದಳು .   \n",
       "45                                 ನೀವು ಮಾತನಾಡುತಿಯಾ ?   \n",
       "738                  ಅಂಗಡಿಯಲ್ಲಿ ನೂರಾರು ಟೋಪಿ ಇದ್ದಾಳೆ .   \n",
       "64                             ರಾಮನು ಗಾಜನ್ನು ಒಡೆದರು .   "
      ]
     },
     "execution_count": 16,
     "metadata": {},
     "output_type": "execute_result"
    }
   ],
   "source": [
    "lines = shuffle(lines)\n",
    "lines.head(10)"
   ]
  },
  {
   "cell_type": "code",
   "execution_count": 17,
   "metadata": {},
   "outputs": [
    {
     "data": {
      "text/plain": [
       "((751,), (188,))"
      ]
     },
     "execution_count": 17,
     "metadata": {},
     "output_type": "execute_result"
    }
   ],
   "source": [
    "# Train - Test Split\n",
    "X, y = lines.wrong, lines.correct\n",
    "X_train, X_test, y_train, y_test = train_test_split(X, y, test_size = 0.2)\n",
    "X_train.shape, X_test.shape"
   ]
  },
  {
   "cell_type": "markdown",
   "metadata": {},
   "source": [
    "#### Save the train and test dataframes for reproducing the results later, as they are shuffled."
   ]
  },
  {
   "cell_type": "code",
   "execution_count": 18,
   "metadata": {},
   "outputs": [],
   "source": [
    "X_train.to_pickle('Weights/X_train.pkl')\n",
    "X_test.to_pickle('Weights/X_test.pkl')\n",
    "y_train.to_pickle('Weights/y_train.pkl')\n",
    "y_test.to_pickle('Weights/y_test.pkl')"
   ]
  },
  {
   "cell_type": "code",
   "execution_count": 19,
   "metadata": {},
   "outputs": [],
   "source": [
    "def generate_batch(X = X_train, y = y_train, batch_size = 32):\n",
    "    ''' Generate a batch of data '''\n",
    "    while True:\n",
    "        for j in range(0, len(X), batch_size):\n",
    "            encoder_input_data = np.zeros((batch_size, max_length_src),dtype='float32')\n",
    "            decoder_input_data = np.zeros((batch_size, max_length_tar),dtype='float32')\n",
    "            decoder_target_data = np.zeros((batch_size, max_length_tar, num_decoder_tokens),dtype='float32')\n",
    "            for i, (input_text, target_text) in enumerate(zip(X[j:j+batch_size], y[j:j+batch_size])):\n",
    "                for t, word in enumerate(input_text.split()):\n",
    "                    encoder_input_data[i, t] = input_token_index[word] # encoder input seq\n",
    "                for t, word in enumerate(target_text.split()):\n",
    "                    if t<len(target_text.split())-1:\n",
    "                        decoder_input_data[i, t] = target_token_index[word] # decoder input seq\n",
    "                    if t>0:\n",
    "                        # decoder target sequence (one hot encoded)\n",
    "                        # does not include the START_ token\n",
    "                        # Offset by one timestep\n",
    "                        decoder_target_data[i, t - 1, target_token_index[word]] = 1.\n",
    "            yield([encoder_input_data, decoder_input_data], decoder_target_data)"
   ]
  },
  {
   "cell_type": "markdown",
   "metadata": {},
   "source": [
    "### Encoder - Decoder Model Architecture"
   ]
  },
  {
   "cell_type": "code",
   "execution_count": 20,
   "metadata": {},
   "outputs": [],
   "source": [
    "latent_dim = 50"
   ]
  },
  {
   "cell_type": "code",
   "execution_count": 21,
   "metadata": {},
   "outputs": [
    {
     "name": "stdout",
     "output_type": "stream",
     "text": [
      "WARNING:tensorflow:From C:\\Users\\Jayashree\\Anaconda3\\lib\\site-packages\\tensorflow\\python\\ops\\resource_variable_ops.py:435: colocate_with (from tensorflow.python.framework.ops) is deprecated and will be removed in a future version.\n",
      "Instructions for updating:\n",
      "Colocations handled automatically by placer.\n"
     ]
    }
   ],
   "source": [
    "# Encoder\n",
    "encoder_inputs = Input(shape=(None,))\n",
    "enc_emb =  Embedding(num_encoder_tokens, latent_dim, mask_zero = True)(encoder_inputs)\n",
    "encoder_lstm = LSTM(latent_dim, return_state=True)\n",
    "encoder_outputs, state_h, state_c = encoder_lstm(enc_emb)\n",
    "# We discard `encoder_outputs` and only keep the states.\n",
    "encoder_states = [state_h, state_c]"
   ]
  },
  {
   "cell_type": "code",
   "execution_count": 22,
   "metadata": {},
   "outputs": [],
   "source": [
    "# Set up the decoder, using `encoder_states` as initial state.\n",
    "decoder_inputs = Input(shape=(None,))\n",
    "dec_emb_layer = Embedding(num_decoder_tokens, latent_dim, mask_zero = True)\n",
    "dec_emb = dec_emb_layer(decoder_inputs)\n",
    "# We set up our decoder to return full output sequences,\n",
    "# and to return internal states as well. We don't use the\n",
    "# return states in the training model, but we will use them in inference.\n",
    "decoder_lstm = LSTM(latent_dim, return_sequences=True, return_state=True)\n",
    "decoder_outputs, _, _ = decoder_lstm(dec_emb,\n",
    "                                     initial_state=encoder_states)\n",
    "decoder_dense = Dense(num_decoder_tokens, activation='softmax')\n",
    "decoder_outputs = decoder_dense(decoder_outputs)\n",
    "\n",
    "# Define the model that will turn\n",
    "# `encoder_input_data` & `decoder_input_data` into `decoder_target_data`\n",
    "model = Model([encoder_inputs, decoder_inputs], decoder_outputs)"
   ]
  },
  {
   "cell_type": "code",
   "execution_count": 23,
   "metadata": {},
   "outputs": [],
   "source": [
    "model.compile(optimizer='rmsprop', loss='categorical_crossentropy', metrics=['acc'])"
   ]
  },
  {
   "cell_type": "code",
   "execution_count": null,
   "metadata": {},
   "outputs": [],
   "source": []
  },
  {
   "cell_type": "code",
   "execution_count": 24,
   "metadata": {},
   "outputs": [],
   "source": [
    "train_samples = len(X_train)\n",
    "val_samples = len(X_test)\n",
    "batch_size = 32\n",
    "epochs = 100"
   ]
  },
  {
   "cell_type": "code",
   "execution_count": 25,
   "metadata": {},
   "outputs": [
    {
     "name": "stdout",
     "output_type": "stream",
     "text": [
      "WARNING:tensorflow:From C:\\Users\\Jayashree\\Anaconda3\\lib\\site-packages\\tensorflow\\python\\ops\\math_ops.py:3066: to_int32 (from tensorflow.python.ops.math_ops) is deprecated and will be removed in a future version.\n",
      "Instructions for updating:\n",
      "Use tf.cast instead.\n",
      "WARNING:tensorflow:From C:\\Users\\Jayashree\\Anaconda3\\lib\\site-packages\\tensorflow\\python\\ops\\math_grad.py:102: div (from tensorflow.python.ops.math_ops) is deprecated and will be removed in a future version.\n",
      "Instructions for updating:\n",
      "Deprecated in favor of operator or tf.math.divide.\n",
      "Epoch 1/100\n",
      "23/23 [==============================] - 3s 112ms/step - loss: 2.7625 - acc: 0.1670 - val_loss: 2.3104 - val_acc: 0.1786\n",
      "Epoch 2/100\n",
      "23/23 [==============================] - 1s 33ms/step - loss: 2.1299 - acc: 0.1760 - val_loss: 2.1874 - val_acc: 0.1806\n",
      "Epoch 3/100\n",
      "23/23 [==============================] - 1s 32ms/step - loss: 2.0514 - acc: 0.1762 - val_loss: 2.1587 - val_acc: 0.1799\n",
      "Epoch 4/100\n",
      "23/23 [==============================] - 1s 35ms/step - loss: 1.9972 - acc: 0.1765 - val_loss: 1.9968 - val_acc: 0.1817\n",
      "Epoch 5/100\n",
      "23/23 [==============================] - 1s 30ms/step - loss: 1.9264 - acc: 0.1808 - val_loss: 1.8790 - val_acc: 0.2025\n",
      "Epoch 6/100\n",
      "23/23 [==============================] - 1s 29ms/step - loss: 1.8561 - acc: 0.1949 - val_loss: 1.5906 - val_acc: 0.2377\n",
      "Epoch 7/100\n",
      "23/23 [==============================] - 1s 36ms/step - loss: 1.7980 - acc: 0.2381 - val_loss: 1.8636 - val_acc: 0.2645\n",
      "Epoch 8/100\n",
      "23/23 [==============================] - 1s 31ms/step - loss: 1.7372 - acc: 0.2814 - val_loss: 1.8949 - val_acc: 0.3113\n",
      "Epoch 9/100\n",
      "23/23 [==============================] - 1s 33ms/step - loss: 1.6817 - acc: 0.3054 - val_loss: 1.7897 - val_acc: 0.3206\n",
      "Epoch 10/100\n",
      "23/23 [==============================] - 1s 34ms/step - loss: 1.6329 - acc: 0.3174 - val_loss: 1.7079 - val_acc: 0.3218\n",
      "Epoch 11/100\n",
      "23/23 [==============================] - 1s 32ms/step - loss: 1.5846 - acc: 0.3328 - val_loss: 1.5904 - val_acc: 0.3284\n",
      "Epoch 12/100\n",
      "23/23 [==============================] - 1s 31ms/step - loss: 1.5335 - acc: 0.3450 - val_loss: 1.3411 - val_acc: 0.3451\n",
      "Epoch 13/100\n",
      "23/23 [==============================] - 1s 32ms/step - loss: 1.4872 - acc: 0.3643 - val_loss: 1.5742 - val_acc: 0.3817\n",
      "Epoch 14/100\n",
      "23/23 [==============================] - 1s 30ms/step - loss: 1.4419 - acc: 0.3956 - val_loss: 1.6639 - val_acc: 0.3947\n",
      "Epoch 15/100\n",
      "23/23 [==============================] - 1s 32ms/step - loss: 1.3999 - acc: 0.4074 - val_loss: 1.5434 - val_acc: 0.4048\n",
      "Epoch 16/100\n",
      "23/23 [==============================] - 1s 31ms/step - loss: 1.3553 - acc: 0.4131 - val_loss: 1.5176 - val_acc: 0.4190\n",
      "Epoch 17/100\n",
      "23/23 [==============================] - 1s 31ms/step - loss: 1.3093 - acc: 0.4188 - val_loss: 1.4019 - val_acc: 0.4233\n",
      "Epoch 18/100\n",
      "23/23 [==============================] - 1s 30ms/step - loss: 1.2828 - acc: 0.4210 - val_loss: 1.1437 - val_acc: 0.4331\n",
      "Epoch 19/100\n",
      "23/23 [==============================] - 1s 40ms/step - loss: 1.2450 - acc: 0.4320 - val_loss: 1.3539 - val_acc: 0.4219\n",
      "Epoch 20/100\n",
      "23/23 [==============================] - 1s 33ms/step - loss: 1.2147 - acc: 0.4506 - val_loss: 1.4861 - val_acc: 0.4491\n",
      "Epoch 21/100\n",
      "23/23 [==============================] - 1s 31ms/step - loss: 1.1747 - acc: 0.4690 - val_loss: 1.3699 - val_acc: 0.4567\n",
      "Epoch 22/100\n",
      "23/23 [==============================] - 1s 36ms/step - loss: 1.1470 - acc: 0.4766 - val_loss: 1.3717 - val_acc: 0.4618\n",
      "Epoch 23/100\n",
      "23/23 [==============================] - 1s 34ms/step - loss: 1.1183 - acc: 0.4859 - val_loss: 1.2805 - val_acc: 0.4771\n",
      "Epoch 24/100\n",
      "23/23 [==============================] - 1s 48ms/step - loss: 1.0861 - acc: 0.4980 - val_loss: 1.0029 - val_acc: 0.4869\n",
      "Epoch 25/100\n",
      "23/23 [==============================] - 1s 38ms/step - loss: 1.0833 - acc: 0.5151 - val_loss: 1.1900 - val_acc: 0.4788\n",
      "Epoch 26/100\n",
      "23/23 [==============================] - 1s 34ms/step - loss: 1.0326 - acc: 0.5235 - val_loss: 1.3679 - val_acc: 0.4988\n",
      "Epoch 27/100\n",
      "23/23 [==============================] - 1s 34ms/step - loss: 1.0063 - acc: 0.5376 - val_loss: 1.2197 - val_acc: 0.5087\n",
      "Epoch 28/100\n",
      "23/23 [==============================] - 1s 30ms/step - loss: 0.9758 - acc: 0.5546 - val_loss: 1.2482 - val_acc: 0.5058\n",
      "Epoch 29/100\n",
      "23/23 [==============================] - 1s 29ms/step - loss: 0.9438 - acc: 0.5692 - val_loss: 1.1762 - val_acc: 0.5275\n",
      "Epoch 30/100\n",
      "23/23 [==============================] - 1s 29ms/step - loss: 0.9164 - acc: 0.5874 - val_loss: 0.8820 - val_acc: 0.5474\n",
      "Epoch 31/100\n",
      "23/23 [==============================] - 1s 29ms/step - loss: 0.8946 - acc: 0.5967 - val_loss: 1.0258 - val_acc: 0.5391\n",
      "Epoch 32/100\n",
      "23/23 [==============================] - 1s 28ms/step - loss: 0.8657 - acc: 0.6066 - val_loss: 1.2506 - val_acc: 0.5417\n",
      "Epoch 33/100\n",
      "23/23 [==============================] - 1s 29ms/step - loss: 0.8385 - acc: 0.6181 - val_loss: 1.0817 - val_acc: 0.5629\n",
      "Epoch 34/100\n",
      "23/23 [==============================] - 1s 29ms/step - loss: 0.8165 - acc: 0.6253 - val_loss: 1.1137 - val_acc: 0.5764\n",
      "Epoch 35/100\n",
      "23/23 [==============================] - 1s 30ms/step - loss: 0.7998 - acc: 0.6370 - val_loss: 1.0741 - val_acc: 0.5938\n",
      "Epoch 36/100\n",
      "23/23 [==============================] - 1s 30ms/step - loss: 0.7733 - acc: 0.6450 - val_loss: 0.7863 - val_acc: 0.5966\n",
      "Epoch 37/100\n",
      "23/23 [==============================] - 1s 29ms/step - loss: 0.7524 - acc: 0.6533 - val_loss: 0.9025 - val_acc: 0.5915\n",
      "Epoch 38/100\n",
      "23/23 [==============================] - 1s 27ms/step - loss: 0.7337 - acc: 0.6653 - val_loss: 1.1735 - val_acc: 0.6042\n",
      "Epoch 39/100\n",
      "23/23 [==============================] - 1s 29ms/step - loss: 0.7135 - acc: 0.6758 - val_loss: 0.9891 - val_acc: 0.6148\n",
      "Epoch 40/100\n",
      "23/23 [==============================] - 1s 27ms/step - loss: 0.6932 - acc: 0.6886 - val_loss: 0.9932 - val_acc: 0.6238\n",
      "Epoch 41/100\n",
      "23/23 [==============================] - 1s 31ms/step - loss: 0.6714 - acc: 0.7030 - val_loss: 1.0053 - val_acc: 0.6384\n",
      "Epoch 42/100\n",
      "23/23 [==============================] - 1s 32ms/step - loss: 0.6562 - acc: 0.7137 - val_loss: 0.6991 - val_acc: 0.6583\n",
      "Epoch 43/100\n",
      "23/23 [==============================] - 1s 29ms/step - loss: 0.6375 - acc: 0.7219 - val_loss: 0.7906 - val_acc: 0.6529\n",
      "Epoch 44/100\n",
      "23/23 [==============================] - 1s 28ms/step - loss: 0.6228 - acc: 0.7265 - val_loss: 1.1081 - val_acc: 0.6597\n",
      "Epoch 45/100\n",
      "23/23 [==============================] - 1s 29ms/step - loss: 0.6012 - acc: 0.7378 - val_loss: 0.9032 - val_acc: 0.6759\n",
      "Epoch 46/100\n",
      "23/23 [==============================] - 1s 29ms/step - loss: 0.5854 - acc: 0.7479 - val_loss: 0.8849 - val_acc: 0.6806\n",
      "Epoch 47/100\n",
      "23/23 [==============================] - 1s 28ms/step - loss: 0.5701 - acc: 0.7571 - val_loss: 0.9344 - val_acc: 0.7059\n",
      "Epoch 48/100\n",
      "23/23 [==============================] - 1s 28ms/step - loss: 0.5519 - acc: 0.7633 - val_loss: 0.6295 - val_acc: 0.7120\n",
      "Epoch 49/100\n",
      "23/23 [==============================] - 1s 31ms/step - loss: 0.5496 - acc: 0.7744 - val_loss: 0.6942 - val_acc: 0.6908\n",
      "Epoch 50/100\n",
      "23/23 [==============================] - 1s 30ms/step - loss: 0.5262 - acc: 0.7775 - val_loss: 1.0504 - val_acc: 0.6933\n",
      "Epoch 51/100\n",
      "23/23 [==============================] - 1s 28ms/step - loss: 0.5130 - acc: 0.7883 - val_loss: 0.8358 - val_acc: 0.7186\n",
      "Epoch 52/100\n",
      "23/23 [==============================] - 1s 29ms/step - loss: 0.4966 - acc: 0.7961 - val_loss: 0.7833 - val_acc: 0.7211\n",
      "Epoch 53/100\n",
      "23/23 [==============================] - 1s 28ms/step - loss: 0.4756 - acc: 0.8087 - val_loss: 0.8804 - val_acc: 0.7506\n",
      "Epoch 54/100\n",
      "23/23 [==============================] - 1s 29ms/step - loss: 0.4610 - acc: 0.8220 - val_loss: 0.5709 - val_acc: 0.7531\n",
      "Epoch 55/100\n",
      "23/23 [==============================] - 1s 28ms/step - loss: 0.4492 - acc: 0.8265 - val_loss: 0.6163 - val_acc: 0.7355\n",
      "Epoch 56/100\n",
      "23/23 [==============================] - 1s 27ms/step - loss: 0.4322 - acc: 0.8370 - val_loss: 0.9924 - val_acc: 0.7315\n",
      "Epoch 57/100\n",
      "23/23 [==============================] - 1s 28ms/step - loss: 0.4190 - acc: 0.8409 - val_loss: 0.7842 - val_acc: 0.7509\n",
      "Epoch 58/100\n",
      "23/23 [==============================] - 1s 32ms/step - loss: 0.4048 - acc: 0.8468 - val_loss: 0.7019 - val_acc: 0.7419\n",
      "Epoch 59/100\n",
      "23/23 [==============================] - 1s 32ms/step - loss: 0.4010 - acc: 0.8474 - val_loss: 0.8378 - val_acc: 0.7597\n",
      "Epoch 60/100\n",
      "23/23 [==============================] - 1s 32ms/step - loss: 0.3832 - acc: 0.8554 - val_loss: 0.5263 - val_acc: 0.7714\n",
      "Epoch 61/100\n",
      "23/23 [==============================] - 1s 35ms/step - loss: 0.3741 - acc: 0.8572 - val_loss: 0.5460 - val_acc: 0.7533\n",
      "Epoch 62/100\n",
      "23/23 [==============================] - 1s 36ms/step - loss: 0.3641 - acc: 0.8631 - val_loss: 0.9528 - val_acc: 0.7465\n",
      "Epoch 63/100\n",
      "23/23 [==============================] - 1s 32ms/step - loss: 0.3543 - acc: 0.8667 - val_loss: 0.7345 - val_acc: 0.7705\n",
      "Epoch 64/100\n",
      "23/23 [==============================] - 1s 35ms/step - loss: 0.3416 - acc: 0.8731 - val_loss: 0.6154 - val_acc: 0.7627\n",
      "Epoch 65/100\n",
      "23/23 [==============================] - 1s 31ms/step - loss: 0.3303 - acc: 0.8743 - val_loss: 0.7948 - val_acc: 0.7792\n",
      "Epoch 66/100\n",
      "23/23 [==============================] - 1s 34ms/step - loss: 0.3234 - acc: 0.8810 - val_loss: 0.4820 - val_acc: 0.7874\n",
      "Epoch 67/100\n",
      "23/23 [==============================] - 1s 35ms/step - loss: 0.3129 - acc: 0.8852 - val_loss: 0.4911 - val_acc: 0.7701\n",
      "Epoch 68/100\n",
      "23/23 [==============================] - 1s 32ms/step - loss: 0.3050 - acc: 0.8889 - val_loss: 0.9206 - val_acc: 0.7662\n",
      "Epoch 69/100\n",
      "23/23 [==============================] - 1s 31ms/step - loss: 0.2958 - acc: 0.8927 - val_loss: 0.6989 - val_acc: 0.7912\n",
      "Epoch 70/100\n",
      "23/23 [==============================] - 1s 34ms/step - loss: 0.2858 - acc: 0.8966 - val_loss: 0.5311 - val_acc: 0.7894\n",
      "Epoch 71/100\n",
      "23/23 [==============================] - 1s 30ms/step - loss: 0.2786 - acc: 0.9002 - val_loss: 0.7588 - val_acc: 0.8021\n",
      "Epoch 72/100\n",
      "23/23 [==============================] - 1s 33ms/step - loss: 0.2677 - acc: 0.9085 - val_loss: 0.4490 - val_acc: 0.8206\n",
      "Epoch 73/100\n",
      "23/23 [==============================] - 1s 37ms/step - loss: 0.2671 - acc: 0.9109 - val_loss: 0.4525 - val_acc: 0.8058\n",
      "Epoch 74/100\n",
      "23/23 [==============================] - 1s 33ms/step - loss: 0.2563 - acc: 0.9141 - val_loss: 0.8687 - val_acc: 0.8021\n",
      "Epoch 75/100\n",
      "23/23 [==============================] - 1s 34ms/step - loss: 0.2495 - acc: 0.9155 - val_loss: 0.6622 - val_acc: 0.8224\n",
      "Epoch 76/100\n",
      "23/23 [==============================] - 1s 32ms/step - loss: 0.2409 - acc: 0.9173 - val_loss: 0.4664 - val_acc: 0.8206\n",
      "Epoch 77/100\n",
      "23/23 [==============================] - 1s 32ms/step - loss: 0.2299 - acc: 0.9220 - val_loss: 0.7266 - val_acc: 0.8284\n",
      "Epoch 78/100\n",
      "23/23 [==============================] - 1s 32ms/step - loss: 0.2221 - acc: 0.9265 - val_loss: 0.4067 - val_acc: 0.8434\n",
      "Epoch 79/100\n",
      "23/23 [==============================] - 1s 34ms/step - loss: 0.2171 - acc: 0.9295 - val_loss: 0.4189 - val_acc: 0.8237\n",
      "Epoch 80/100\n",
      "23/23 [==============================] - 1s 34ms/step - loss: 0.2071 - acc: 0.9359 - val_loss: 0.8439 - val_acc: 0.8137\n",
      "Epoch 81/100\n",
      "23/23 [==============================] - 1s 36ms/step - loss: 0.2016 - acc: 0.9382 - val_loss: 0.6362 - val_acc: 0.8351\n",
      "Epoch 82/100\n",
      "23/23 [==============================] - 1s 31ms/step - loss: 0.1926 - acc: 0.9413 - val_loss: 0.4128 - val_acc: 0.8241\n",
      "Epoch 83/100\n",
      "23/23 [==============================] - 1s 31ms/step - loss: 0.1941 - acc: 0.9395 - val_loss: 0.7050 - val_acc: 0.8295\n",
      "Epoch 84/100\n",
      "23/23 [==============================] - 1s 32ms/step - loss: 0.1827 - acc: 0.9445 - val_loss: 0.3812 - val_acc: 0.8469\n",
      "Epoch 85/100\n",
      "23/23 [==============================] - 1s 30ms/step - loss: 0.1799 - acc: 0.9449 - val_loss: 0.3921 - val_acc: 0.8337\n",
      "Epoch 86/100\n",
      "23/23 [==============================] - 1s 31ms/step - loss: 0.1750 - acc: 0.9452 - val_loss: 0.8138 - val_acc: 0.8264\n",
      "Epoch 87/100\n",
      "23/23 [==============================] - 1s 33ms/step - loss: 0.1687 - acc: 0.9471 - val_loss: 0.6051 - val_acc: 0.8397\n",
      "Epoch 88/100\n",
      "23/23 [==============================] - 1s 30ms/step - loss: 0.1627 - acc: 0.9505 - val_loss: 0.3624 - val_acc: 0.8356\n",
      "Epoch 89/100\n",
      "23/23 [==============================] - 1s 28ms/step - loss: 0.1578 - acc: 0.9499 - val_loss: 0.6790 - val_acc: 0.8398\n",
      "Epoch 90/100\n",
      "23/23 [==============================] - 1s 30ms/step - loss: 0.1553 - acc: 0.9521 - val_loss: 0.3555 - val_acc: 0.8594\n",
      "Epoch 91/100\n",
      "23/23 [==============================] - 1s 32ms/step - loss: 0.1491 - acc: 0.9546 - val_loss: 0.3658 - val_acc: 0.8382\n",
      "Epoch 92/100\n",
      "23/23 [==============================] - 1s 32ms/step - loss: 0.1454 - acc: 0.9545 - val_loss: 0.7869 - val_acc: 0.8333\n",
      "Epoch 93/100\n",
      "23/23 [==============================] - 1s 31ms/step - loss: 0.1414 - acc: 0.9554 - val_loss: 0.5838 - val_acc: 0.8524\n",
      "Epoch 94/100\n",
      "23/23 [==============================] - 1s 28ms/step - loss: 0.1370 - acc: 0.9574 - val_loss: 0.3081 - val_acc: 0.8530\n",
      "Epoch 95/100\n",
      "23/23 [==============================] - 1s 26ms/step - loss: 0.1332 - acc: 0.9585 - val_loss: 0.6529 - val_acc: 0.8513\n",
      "Epoch 96/100\n",
      "23/23 [==============================] - 1s 26ms/step - loss: 0.1273 - acc: 0.9621 - val_loss: 0.3371 - val_acc: 0.8697\n",
      "Epoch 97/100\n",
      "23/23 [==============================] - 1s 27ms/step - loss: 0.1277 - acc: 0.9609 - val_loss: 0.3423 - val_acc: 0.8549\n",
      "Epoch 98/100\n",
      "23/23 [==============================] - 1s 32ms/step - loss: 0.1229 - acc: 0.9635 - val_loss: 0.7630 - val_acc: 0.8519\n",
      "Epoch 99/100\n",
      "23/23 [==============================] - 1s 30ms/step - loss: 0.1193 - acc: 0.9650 - val_loss: 0.5635 - val_acc: 0.8685\n",
      "Epoch 100/100\n",
      "23/23 [==============================] - 1s 28ms/step - loss: 0.1151 - acc: 0.9670 - val_loss: 0.2629 - val_acc: 0.8681\n"
     ]
    },
    {
     "data": {
      "text/plain": [
       "<keras.callbacks.callbacks.History at 0x1874ef3ee10>"
      ]
     },
     "execution_count": 25,
     "metadata": {},
     "output_type": "execute_result"
    }
   ],
   "source": [
    "model.fit_generator(generator = generate_batch(X_train, y_train, batch_size = batch_size),\n",
    "                    steps_per_epoch = train_samples//batch_size,\n",
    "                    epochs=epochs,\n",
    "                    validation_data = generate_batch(X_test, y_test, batch_size = batch_size),\n",
    "                    validation_steps = val_samples//batch_size)"
   ]
  },
  {
   "cell_type": "markdown",
   "metadata": {},
   "source": [
    "### Always remember to save the weights"
   ]
  },
  {
   "cell_type": "code",
   "execution_count": 26,
   "metadata": {},
   "outputs": [],
   "source": [
    "'''model_json = model.to_json()\n",
    "with open(\"model.json\", \"w\") as json_file:\n",
    "    json_file.write(model_json)\n",
    "# serialize weights to HDF5\n",
    "'''\n",
    "model.save_weights('kannadamodel_weights.h5',overwrite=True)"
   ]
  },
  {
   "cell_type": "markdown",
   "metadata": {},
   "source": [
    "### Load the weights, if you close the application"
   ]
  },
  {
   "cell_type": "code",
   "execution_count": 29,
   "metadata": {},
   "outputs": [],
   "source": [
    "model.load_weights('kannadamodel_weights.h5')"
   ]
  },
  {
   "cell_type": "markdown",
   "metadata": {},
   "source": [
    "### Inference Setup"
   ]
  },
  {
   "cell_type": "code",
   "execution_count": 25,
   "metadata": {},
   "outputs": [],
   "source": [
    "# Encode the input sequence to get the \"thought vectors\"\n",
    "encoder_model = Model(encoder_inputs, encoder_states)\n",
    "\n",
    "# Decoder setup\n",
    "# Below tensors will hold the states of the previous time step\n",
    "decoder_state_input_h = Input(shape=(latent_dim,))\n",
    "decoder_state_input_c = Input(shape=(latent_dim,))\n",
    "decoder_states_inputs = [decoder_state_input_h, decoder_state_input_c]\n",
    "\n",
    "dec_emb2= dec_emb_layer(decoder_inputs) # Get the embeddings of the decoder sequence\n",
    "\n",
    "# To predict the next word in the sequence, set the initial states to the states from the previous time step\n",
    "decoder_outputs2, state_h2, state_c2 = decoder_lstm(dec_emb2, initial_state=decoder_states_inputs)\n",
    "decoder_states2 = [state_h2, state_c2]\n",
    "decoder_outputs2 = decoder_dense(decoder_outputs2) # A dense softmax layer to generate prob dist. over the target vocabulary\n",
    "\n",
    "# Final decoder model\n",
    "decoder_model = Model(\n",
    "    [decoder_inputs] + decoder_states_inputs,\n",
    "    [decoder_outputs2] + decoder_states2)"
   ]
  },
  {
   "cell_type": "code",
   "execution_count": null,
   "metadata": {},
   "outputs": [],
   "source": []
  },
  {
   "cell_type": "code",
   "execution_count": null,
   "metadata": {},
   "outputs": [],
   "source": []
  },
  {
   "cell_type": "markdown",
   "metadata": {},
   "source": [
    "### Decode sample sequeces"
   ]
  },
  {
   "cell_type": "code",
   "execution_count": 26,
   "metadata": {},
   "outputs": [],
   "source": [
    "def decode_sequence(input_seq):\n",
    "    # Encode the input as state vectors.\n",
    "    states_value = encoder_model.predict(input_seq)\n",
    "    # Generate empty target sequence of length 1.\n",
    "    target_seq = np.zeros((1,1))\n",
    "    # Populate the first character of target sequence with the start character.\n",
    "    target_seq[0, 0] = target_token_index['START_']\n",
    "    # Sampling loop for a batch of sequences\n",
    "    # (to simplify, here we assume a batch of size 1).\n",
    "    stop_condition = False\n",
    "    decoded_sentence = ''\n",
    "    while not stop_condition:\n",
    "        output_tokens, h, c = decoder_model.predict([target_seq] + states_value)\n",
    "        # Sample a token\n",
    "        sampled_token_index = np.argmax(output_tokens[0, -1, :])\n",
    "        sampled_char = reverse_target_char_index[sampled_token_index]\n",
    "        decoded_sentence += ' '+sampled_char\n",
    "        # Exit condition: either hit max length\n",
    "        # or find stop character.\n",
    "        if (sampled_char == '_END' or\n",
    "           len(decoded_sentence) > 50):\n",
    "            stop_condition = True\n",
    "        # Update the target sequence (of length 1).\n",
    "        target_seq = np.zeros((1,1))\n",
    "        target_seq[0, 0] = sampled_token_index\n",
    "        # Update states\n",
    "        states_value = [h, c]\n",
    "    return decoded_sentence"
   ]
  },
  {
   "cell_type": "markdown",
   "metadata": {},
   "source": [
    "### Evaluation on Train Dataset"
   ]
  },
  {
   "cell_type": "code",
   "execution_count": 30,
   "metadata": {},
   "outputs": [],
   "source": [
    "train_gen = generate_batch(X_train, y_train, batch_size = 1)\n",
    "k=-1"
   ]
  },
  {
   "cell_type": "code",
   "execution_count": 31,
   "metadata": {},
   "outputs": [
    {
     "name": "stdout",
     "output_type": "stream",
     "text": [
      "Input wrong sentence: ನನ್ನ ಹಕ್ಕಿ ಹಾಡುತ್ತಿದ್ದಾನೆ . \n",
      "Actual corrected sentence  ನನ್ನ ಹಕ್ಕಿ ಹಾಡುತ್ತಿದೆ .  \n",
      "Predicted Translation:  ನನ್ನ ಹಕ್ಕಿ ಹಾಡುತ್ತಿದೆ . \n"
     ]
    }
   ],
   "source": [
    "k+=1\n",
    "(input_seq, actual_output), _ = next(train_gen)\n",
    "decoded_sentence = decode_sequence(input_seq)\n",
    "print('Input wrong sentence:', X_train[k:k+1].values[0])\n",
    "print('Actual corrected sentence', y_train[k:k+1].values[0][6:-4])\n",
    "print('Predicted Translation:', decoded_sentence[:-4])"
   ]
  },
  {
   "cell_type": "code",
   "execution_count": 32,
   "metadata": {},
   "outputs": [
    {
     "name": "stdout",
     "output_type": "stream",
     "text": [
      "Input wrong sentence: ಅವನು ದೂರದರ್ಶನವನ್ನು ವೀಕ್ಷಿಸುತ್ತಿದ್ದಾರೆ . \n",
      "Actual corrected sentence  ಅವರು ದೂರದರ್ಶನವನ್ನು ವೀಕ್ಷಿಸುತ್ತಿದ್ದಾರೆ .  \n",
      "Predicted Translation:  ಅವರು ದೂರದರ್ಶನವನ್ನು ವೀಕ್ಷಿಸುತ್ತಿದ್ದಾರೆ . \n"
     ]
    }
   ],
   "source": [
    "k+=1\n",
    "(input_seq, actual_output), _ = next(train_gen)\n",
    "decoded_sentence = decode_sequence(input_seq)\n",
    "print('Input wrong sentence:', X_train[k:k+1].values[0])\n",
    "print('Actual corrected sentence', y_train[k:k+1].values[0][6:-4])\n",
    "print('Predicted Translation:', decoded_sentence[:-4])"
   ]
  },
  {
   "cell_type": "code",
   "execution_count": 32,
   "metadata": {},
   "outputs": [
    {
     "name": "stdout",
     "output_type": "stream",
     "text": [
      "Input wrong sentence: ನನ್ನ ಹತ್ತಿರ ಒಂದು ನಾಯಿ ಇವೆ . \n",
      "Actual corrected sentence  ನನ್ನ ಹತ್ತಿರ ಒಂದು ನಾಯಿ ಇದೆ .  \n",
      "Predicted Translation:  ನನ್ನ ಹತ್ತಿರ ಒಂದು ನಾಯಿ ಇದೆ . \n"
     ]
    }
   ],
   "source": [
    "k+=1\n",
    "(input_seq, actual_output), _ = next(train_gen)\n",
    "decoded_sentence = decode_sequence(input_seq)\n",
    "print('Input wrong sentence:', X_train[k:k+1].values[0])\n",
    "print('Actual corrected sentence', y_train[k:k+1].values[0][6:-4])\n",
    "print('Predicted Translation:', decoded_sentence[:-4])"
   ]
  },
  {
   "cell_type": "code",
   "execution_count": 35,
   "metadata": {},
   "outputs": [
    {
     "name": "stdout",
     "output_type": "stream",
     "text": [
      "Input wrong sentence: ಅವರಿಗೆ ಮೂರು ಮಗು ಇದೆ . \n",
      "Actual corrected sentence  ಅವರಿಗೆ ಮೂರು ಮಕ್ಕಳು ಇದ್ದಾರೆ .  \n",
      "Predicted Translation:  ಅವರಿಗೆ ಮೂರು ಮಕ್ಕಳು ಇದ್ದಾರೆ . \n"
     ]
    }
   ],
   "source": [
    "k+=1\n",
    "(input_seq, actual_output), _ = next(train_gen)\n",
    "decoded_sentence = decode_sequence(input_seq)\n",
    "print('Input wrong sentence:', X_train[k:k+1].values[0])\n",
    "print('Actual corrected sentence', y_train[k:k+1].values[0][6:-4])\n",
    "print('Predicted Translation:', decoded_sentence[:-4])"
   ]
  },
  {
   "cell_type": "code",
   "execution_count": 36,
   "metadata": {},
   "outputs": [
    {
     "name": "stdout",
     "output_type": "stream",
     "text": [
      "Input wrong sentence: ಅವನಿಗೆ ಒಬ್ಬ ಉದ್ದನೆಯ ತಂಗಿ ಇದ್ದಾನೆ ! \n",
      "Actual corrected sentence  ಅವನಿಗೆ ಒಬ್ಬ ಉದ್ದನೆಯ ಅಣ್ಣ ಇದ್ದಾನೆ .  \n",
      "Predicted Translation:  ಅವನಿಗೆ ಒಬ್ಬ ಉದ್ದನೆಯ ಅಣ್ಣ ಇದ್ದಾನೆ . \n"
     ]
    }
   ],
   "source": [
    "k+=1\n",
    "(input_seq, actual_output), _ = next(train_gen)\n",
    "decoded_sentence = decode_sequence(input_seq)\n",
    "print('Input wrong sentence:', X_train[k:k+1].values[0])\n",
    "print('Actual corrected sentence', y_train[k:k+1].values[0][6:-4])\n",
    "print('Predicted Translation:', decoded_sentence[:-4])"
   ]
  },
  {
   "cell_type": "code",
   "execution_count": 37,
   "metadata": {},
   "outputs": [
    {
     "name": "stdout",
     "output_type": "stream",
     "text": [
      "Input wrong sentence: ಮನೆಯಲ್ಲಿ ಅನೇಕ ಇಲಿಗಳು ಇದಾಳೆ . \n",
      "Actual corrected sentence  ಮನೆಯಲ್ಲಿ ಅನೇಕ ಇಲಿಗಳು ಇವೆ .  \n",
      "Predicted Translation:  ಮನೆಯಲ್ಲಿ ಅನೇಕ ಇಲಿಗಳು ಇವೆ . \n"
     ]
    }
   ],
   "source": [
    "k+=1\n",
    "(input_seq, actual_output), _ = next(train_gen)\n",
    "decoded_sentence = decode_sequence(input_seq)\n",
    "print('Input wrong sentence:', X_train[k:k+1].values[0])\n",
    "print('Actual corrected sentence', y_train[k:k+1].values[0][6:-4])\n",
    "print('Predicted Translation:', decoded_sentence[:-4])"
   ]
  },
  {
   "cell_type": "code",
   "execution_count": 38,
   "metadata": {},
   "outputs": [
    {
     "name": "stdout",
     "output_type": "stream",
     "text": [
      "Input wrong sentence: ನನ್ನ ಕಾಲು ನೋವುತ್ತಿವೆ . \n",
      "Actual corrected sentence  ನನ್ನ ಕಾಲು ನೋವುತ್ತಿದೆ .  \n",
      "Predicted Translation:  ನನ್ನ ಅಕ್ಕ ಊರಿಗೆ ಹೋಗುತ್ತಿದ್ದಾರೆ . \n"
     ]
    }
   ],
   "source": [
    "k+=1\n",
    "(input_seq, actual_output), _ = next(train_gen)\n",
    "decoded_sentence = decode_sequence(input_seq)\n",
    "print('Input wrong sentence:', X_train[k:k+1].values[0])\n",
    "print('Actual corrected sentence', y_train[k:k+1].values[0][6:-4])\n",
    "print('Predicted Translation:', decoded_sentence[:-4])"
   ]
  },
  {
   "cell_type": "code",
   "execution_count": 40,
   "metadata": {},
   "outputs": [
    {
     "name": "stdout",
     "output_type": "stream",
     "text": [
      "Input wrong sentence: ಅವನು ನನ್ನ ಗೆಳತಿ . \n",
      "Actual corrected sentence  ಅವಳು ನನ್ನ ಗೆಳತಿ .  \n",
      "Predicted Translation:  ಅವನು ನನ್ನ ಮನೆಗೆ ಬರುತ್ತಿದ್ದಾನೆ . \n"
     ]
    }
   ],
   "source": [
    "k+=1\n",
    "(input_seq, actual_output), _ = next(train_gen)\n",
    "decoded_sentence = decode_sequence(input_seq)\n",
    "print('Input wrong sentence:', X_train[k:k+1].values[0])\n",
    "print('Actual corrected sentence', y_train[k:k+1].values[0][6:-4])\n",
    "print('Predicted Translation:', decoded_sentence[:-4])"
   ]
  },
  {
   "cell_type": "code",
   "execution_count": 41,
   "metadata": {},
   "outputs": [
    {
     "name": "stdout",
     "output_type": "stream",
     "text": [
      "Input wrong sentence: ಮಾವಿನ ಮರದಲ್ಲಿ ಅನೆಕ ಹಣ್ಣುಗಳು ಇದೆ . \n",
      "Actual corrected sentence  ಮಾವಿನ ಮರದಲ್ಲಿ ಅನೆಕ ಹಣ್ಣುಗಳು ಇವೆ .  \n",
      "Predicted Translation:  ಭಾರತವನ್ನು ಅನೆಕ ರಾಜರು ಆಳಿದರು . \n"
     ]
    }
   ],
   "source": [
    "k+=1\n",
    "(input_seq, actual_output), _ = next(train_gen)\n",
    "decoded_sentence = decode_sequence(input_seq)\n",
    "print('Input wrong sentence:', X_train[k:k+1].values[0])\n",
    "print('Actual corrected sentence', y_train[k:k+1].values[0][6:-4])\n",
    "print('Predicted Translation:', decoded_sentence[:-4])"
   ]
  },
  {
   "cell_type": "code",
   "execution_count": 42,
   "metadata": {},
   "outputs": [
    {
     "name": "stdout",
     "output_type": "stream",
     "text": [
      "Input wrong sentence: ಅಜ್ಜಿ ಈಗ ಮಲಿಗಿದ್ದಳು ? \n",
      "Actual corrected sentence  ಅಜ್ಜಿ ಈಗ ಮಲಿಗಿದ್ದಾರೆ .  \n",
      "Predicted Translation:  ಅಜ್ಜಿ ಈಗ ಮಲಿಗಿದ್ದಾರೆ . \n"
     ]
    }
   ],
   "source": [
    "k+=1\n",
    "(input_seq, actual_output), _ = next(train_gen)\n",
    "decoded_sentence = decode_sequence(input_seq)\n",
    "print('Input wrong sentence:', X_train[k:k+1].values[0])\n",
    "print('Actual corrected sentence', y_train[k:k+1].values[0][6:-4])\n",
    "print('Predicted Translation:', decoded_sentence[:-4])"
   ]
  },
  {
   "cell_type": "code",
   "execution_count": 43,
   "metadata": {},
   "outputs": [
    {
     "name": "stdout",
     "output_type": "stream",
     "text": [
      "Input wrong sentence: ಅವಳು ಶಾಲೆಗೆ ಹೋದನು . \n",
      "Actual corrected sentence  ಅವಳು ಶಾಲೆಗೆ ಹೋದಳು .  \n",
      "Predicted Translation:  ಅವಳು ಶಾಲೆಗೆ ಹೋದಳು . \n"
     ]
    }
   ],
   "source": [
    "k+=1\n",
    "(input_seq, actual_output), _ = next(train_gen)\n",
    "decoded_sentence = decode_sequence(input_seq)\n",
    "print('Input wrong sentence:', X_train[k:k+1].values[0])\n",
    "print('Actual corrected sentence', y_train[k:k+1].values[0][6:-4])\n",
    "print('Predicted Translation:', decoded_sentence[:-4])"
   ]
  },
  {
   "cell_type": "code",
   "execution_count": 44,
   "metadata": {},
   "outputs": [
    {
     "name": "stdout",
     "output_type": "stream",
     "text": [
      "Input wrong sentence: ಅಜ್ಜ ಈಗ ಮಲಿಗಿದ್ದಾಳೆ ? \n",
      "Actual corrected sentence  ಅಜ್ಜ ಈಗ ಮಲಿಗಿದ್ದಾರೆ .  \n",
      "Predicted Translation:  ಅಜ್ಜ ಈಗ ಮಲಿಗಿದ್ದಾರೆ . \n"
     ]
    }
   ],
   "source": [
    "k+=1\n",
    "(input_seq, actual_output), _ = next(train_gen)\n",
    "decoded_sentence = decode_sequence(input_seq)\n",
    "print('Input wrong sentence:', X_train[k:k+1].values[0])\n",
    "print('Actual corrected sentence', y_train[k:k+1].values[0][6:-4])\n",
    "print('Predicted Translation:', decoded_sentence[:-4])"
   ]
  },
  {
   "cell_type": "code",
   "execution_count": 45,
   "metadata": {},
   "outputs": [
    {
     "name": "stdout",
     "output_type": "stream",
     "text": [
      "Input wrong sentence: ಗುರುಗಳು ದೀಪ ಬೆಳಗಿದಳು . \n",
      "Actual corrected sentence  ಗುರುಗಳು ದೀಪ ಬೆಳಗಿದರು .  \n",
      "Predicted Translation:  ಗುರುಗಳು ದೀಪ ಬೆಳಗಿದರು . \n"
     ]
    }
   ],
   "source": [
    "k+=1\n",
    "(input_seq, actual_output), _ = next(train_gen)\n",
    "decoded_sentence = decode_sequence(input_seq)\n",
    "print('Input wrong sentence:', X_train[k:k+1].values[0])\n",
    "print('Actual corrected sentence', y_train[k:k+1].values[0][6:-4])\n",
    "print('Predicted Translation:', decoded_sentence[:-4])"
   ]
  },
  {
   "cell_type": "code",
   "execution_count": 46,
   "metadata": {},
   "outputs": [
    {
     "name": "stdout",
     "output_type": "stream",
     "text": [
      "Input wrong sentence: ಅವರು ನಗರದಲ್ಲಿ ವಾಸಿಸುತ್ತದೆ ? \n",
      "Actual corrected sentence  ಅವರು ನಗರದಲ್ಲಿ ವಾಸಿಸುತ್ತಿದ್ದಾರೆ .  \n",
      "Predicted Translation:  ಅವರು ನಗರದಲ್ಲಿ ವಾಸಿಸುತ್ತಿದ್ದಾರೆ . \n"
     ]
    }
   ],
   "source": [
    "k+=1\n",
    "(input_seq, actual_output), _ = next(train_gen)\n",
    "decoded_sentence = decode_sequence(input_seq)\n",
    "print('Input wrong sentence:', X_train[k:k+1].values[0])\n",
    "print('Actual corrected sentence', y_train[k:k+1].values[0][6:-4])\n",
    "print('Predicted Translation:', decoded_sentence[:-4])"
   ]
  },
  {
   "cell_type": "code",
   "execution_count": 47,
   "metadata": {},
   "outputs": [
    {
     "name": "stdout",
     "output_type": "stream",
     "text": [
      "Input wrong sentence: ನಿಮಗೆ ಎಷ್ಟು ಸಹೋದರಿಯರು ಇದ್ದಾನೆ ? \n",
      "Actual corrected sentence  ನಿಮಗೆ ಎಷ್ಟು ಸಹೋದರಿಯರು ಇದ್ದಾರೆ ?  \n",
      "Predicted Translation:  ನಿಮಗೆ ಎಷ್ಟು ಸಹೋದರಿಯರು ಇದ್ದಾರೆ ? \n"
     ]
    }
   ],
   "source": [
    "k+=1\n",
    "(input_seq, actual_output), _ = next(train_gen)\n",
    "decoded_sentence = decode_sequence(input_seq)\n",
    "print('Input wrong sentence:', X_train[k:k+1].values[0])\n",
    "print('Actual corrected sentence', y_train[k:k+1].values[0][6:-4])\n",
    "print('Predicted Translation:', decoded_sentence[:-4])"
   ]
  },
  {
   "cell_type": "code",
   "execution_count": 48,
   "metadata": {},
   "outputs": [
    {
     "name": "stdout",
     "output_type": "stream",
     "text": [
      "Input wrong sentence: ನನ್ನ ಮನೆ ಹತ್ತಿರ ,  ಹಸುಗಳು ಇವೆ . \n",
      "Actual corrected sentence  ನನ್ನ ಮನೆ ಹತ್ತಿರ ಹಸುಗಳು ಇವೆ .  \n",
      "Predicted Translation:  ನನ್ನ ಮನೆ ಹತ್ತಿರ ಹಸುಗಳು ಇವೆ . \n"
     ]
    }
   ],
   "source": [
    "k+=1\n",
    "(input_seq, actual_output), _ = next(train_gen)\n",
    "decoded_sentence = decode_sequence(input_seq)\n",
    "print('Input wrong sentence:', X_train[k:k+1].values[0])\n",
    "print('Actual corrected sentence', y_train[k:k+1].values[0][6:-4])\n",
    "print('Predicted Translation:', decoded_sentence[:-4])"
   ]
  },
  {
   "cell_type": "code",
   "execution_count": 49,
   "metadata": {},
   "outputs": [
    {
     "name": "stdout",
     "output_type": "stream",
     "text": [
      "Input wrong sentence: ಅವನು ದೂರದರ್ಶನವನ್ನು ವೀಕ್ಷಿಸುತ್ತಿದ್ದಾರೆ . \n",
      "Actual corrected sentence  ಅವರು ದೂರದರ್ಶನವನ್ನು ವೀಕ್ಷಿಸುತ್ತಿದ್ದಾರೆ .  \n",
      "Predicted Translation:  ಅವರು ದೂರದರ್ಶನವನ್ನು ವೀಕ್ಷಿಸುತ್ತಿದ್ದಾರೆ . \n"
     ]
    }
   ],
   "source": [
    "k+=1\n",
    "(input_seq, actual_output), _ = next(train_gen)\n",
    "decoded_sentence = decode_sequence(input_seq)\n",
    "print('Input wrong sentence:', X_train[k:k+1].values[0])\n",
    "print('Actual corrected sentence', y_train[k:k+1].values[0][6:-4])\n",
    "print('Predicted Translation:', decoded_sentence[:-4])"
   ]
  },
  {
   "cell_type": "code",
   "execution_count": 50,
   "metadata": {},
   "outputs": [
    {
     "name": "stdout",
     "output_type": "stream",
     "text": [
      "Input wrong sentence: ನೀನು ಹೋಗಲು ಸಿದ್ಧವಾಗಿದ್ದೀಯ ! \n",
      "Actual corrected sentence  ನೀನು ಹೋಗಲು ಸಿದ್ಧವಾಗಿದ್ದೀಯಾ ?  \n",
      "Predicted Translation:  ನೀನು ಹೋಗಲು ಸಿದ್ಧವಾಗಿದ್ದೀಯಾ ? \n"
     ]
    }
   ],
   "source": [
    "k+=1\n",
    "(input_seq, actual_output), _ = next(train_gen)\n",
    "decoded_sentence = decode_sequence(input_seq)\n",
    "print('Input wrong sentence:', X_train[k:k+1].values[0])\n",
    "print('Actual corrected sentence', y_train[k:k+1].values[0][6:-4])\n",
    "print('Predicted Translation:', decoded_sentence[:-4])"
   ]
  },
  {
   "cell_type": "code",
   "execution_count": 51,
   "metadata": {},
   "outputs": [
    {
     "name": "stdout",
     "output_type": "stream",
     "text": [
      "Input wrong sentence: ರಾಮನು ಗಾಜನ್ನು ಒಡೆದನು ! \n",
      "Actual corrected sentence  ರಾಮನು ಗಾಜನ್ನು ಒಡೆದನು .  \n",
      "Predicted Translation:  ರಾಮನು ಗಾಜನ್ನು ಒಡೆದನು . \n"
     ]
    }
   ],
   "source": [
    "k+=1\n",
    "(input_seq, actual_output), _ = next(train_gen)\n",
    "decoded_sentence = decode_sequence(input_seq)\n",
    "print('Input wrong sentence:', X_train[k:k+1].values[0])\n",
    "print('Actual corrected sentence', y_train[k:k+1].values[0][6:-4])\n",
    "print('Predicted Translation:', decoded_sentence[:-4])"
   ]
  },
  {
   "cell_type": "code",
   "execution_count": 52,
   "metadata": {},
   "outputs": [
    {
     "name": "stdout",
     "output_type": "stream",
     "text": [
      "Input wrong sentence: ಅವರು ಹೋರಾಟವನ್ನು ನಿಲ್ಲಿಸಲು ನಿರ್ಧರಿಸಿದನು . \n",
      "Actual corrected sentence  ಅವರು ಹೋರಾಟವನ್ನು ನಿಲ್ಲಿಸಲು ನಿರ್ಧರಿಸಿದರು .  \n",
      "Predicted Translation:  ಅವರು ಹೋರಾಟವನ್ನು ನಿಲ್ಲಿಸಲು ನಿರ್ಧರಿಸಿದರು . \n"
     ]
    }
   ],
   "source": [
    "k+=1\n",
    "(input_seq, actual_output), _ = next(train_gen)\n",
    "decoded_sentence = decode_sequence(input_seq)\n",
    "print('Input wrong sentence:', X_train[k:k+1].values[0])\n",
    "print('Actual corrected sentence', y_train[k:k+1].values[0][6:-4])\n",
    "print('Predicted Translation:', decoded_sentence[:-4])"
   ]
  },
  {
   "cell_type": "code",
   "execution_count": 53,
   "metadata": {},
   "outputs": [
    {
     "name": "stdout",
     "output_type": "stream",
     "text": [
      "Input wrong sentence: ಅವನು ನಾಳೆ ಬರುತ್ತಿದ್ದಾರೆ ? \n",
      "Actual corrected sentence  ಅವನು ನಾಳೆ ಬರುತ್ತಿದ್ದಾನೆ .  \n",
      "Predicted Translation:  ಅವನು ನಾಳೆ ಬರುತ್ತಿದ್ದಾನೆ . \n"
     ]
    }
   ],
   "source": [
    "k+=1\n",
    "(input_seq, actual_output), _ = next(train_gen)\n",
    "decoded_sentence = decode_sequence(input_seq)\n",
    "print('Input wrong sentence:', X_train[k:k+1].values[0])\n",
    "print('Actual corrected sentence', y_train[k:k+1].values[0][6:-4])\n",
    "print('Predicted Translation:', decoded_sentence[:-4])"
   ]
  },
  {
   "cell_type": "code",
   "execution_count": 54,
   "metadata": {},
   "outputs": [
    {
     "name": "stdout",
     "output_type": "stream",
     "text": [
      "Input wrong sentence: ಅವರಿಗೆ ಮೂರು ಮಗು ಇದ್ದಾರೆ . \n",
      "Actual corrected sentence  ಅವರಿಗೆ ಮೂರು ಮಕ್ಕಳು ಇದ್ದಾರೆ .  \n",
      "Predicted Translation:  ಅವರಿಗೆ ಮೂರು ಮಕ್ಕಳು ಇದ್ದಾರೆ . \n"
     ]
    }
   ],
   "source": [
    "k+=1\n",
    "(input_seq, actual_output), _ = next(train_gen)\n",
    "decoded_sentence = decode_sequence(input_seq)\n",
    "print('Input wrong sentence:', X_train[k:k+1].values[0])\n",
    "print('Actual corrected sentence', y_train[k:k+1].values[0][6:-4])\n",
    "print('Predicted Translation:', decoded_sentence[:-4])"
   ]
  },
  {
   "cell_type": "code",
   "execution_count": 55,
   "metadata": {},
   "outputs": [
    {
     "name": "stdout",
     "output_type": "stream",
     "text": [
      "Input wrong sentence: ನೀವು ಎಲ್ಲಿ ವಾಸಿಸುತ್ತೀರ . \n",
      "Actual corrected sentence  ನೀವು ಎಲ್ಲಿ ವಾಸಿಸುತ್ತೀರ ?  \n",
      "Predicted Translation:  ನೀವು ಎಲ್ಲಿ ವಾಸಿಸುತ್ತೀರ ? \n"
     ]
    }
   ],
   "source": [
    "k+=1\n",
    "(input_seq, actual_output), _ = next(train_gen)\n",
    "decoded_sentence = decode_sequence(input_seq)\n",
    "print('Input wrong sentence:', X_train[k:k+1].values[0])\n",
    "print('Actual corrected sentence', y_train[k:k+1].values[0][6:-4])\n",
    "print('Predicted Translation:', decoded_sentence[:-4])"
   ]
  },
  {
   "cell_type": "code",
   "execution_count": 56,
   "metadata": {},
   "outputs": [
    {
     "name": "stdout",
     "output_type": "stream",
     "text": [
      "Input wrong sentence: ನಮ್ಮ ರಜೆಗಳು ನಾಳೆಯಿಂದ ಪ್ರಾರಂಭವಾಗುತ್ತಾಳಾ ? \n",
      "Actual corrected sentence  ನಮ್ಮ ರಜೆಗಳು ನಾಳೆಯಿಂದ ಪ್ರಾರಂಭವಾಗುತ್ತಾ ?  \n",
      "Predicted Translation:  ನಮ್ಮ ರಜೆಗಳು ನಾಳೆಯಿಂದ ಪ್ರಾರಂಭವಾಗುತ್ತಾ ? \n"
     ]
    }
   ],
   "source": [
    "k+=1\n",
    "(input_seq, actual_output), _ = next(train_gen)\n",
    "decoded_sentence = decode_sequence(input_seq)\n",
    "print('Input wrong sentence:', X_train[k:k+1].values[0])\n",
    "print('Actual corrected sentence', y_train[k:k+1].values[0][6:-4])\n",
    "print('Predicted Translation:', decoded_sentence[:-4])"
   ]
  },
  {
   "cell_type": "code",
   "execution_count": 57,
   "metadata": {},
   "outputs": [
    {
     "name": "stdout",
     "output_type": "stream",
     "text": [
      "Input wrong sentence: ನಾನು ರಜೆಗಳು ನಾಳೆಯಿಂದ ಪ್ರಾರಂಭವಾಗುತ್ತವೆ . \n",
      "Actual corrected sentence  ನಮ್ಮ ರಜೆಗಳು ನಾಳೆಯಿಂದ ಪ್ರಾರಂಭವಾಗುತ್ತವೆ .  \n",
      "Predicted Translation:  ನಮ್ಮ ರಜೆಗಳು ನಾಳೆಯಿಂದ ಪ್ರಾರಂಭವಾಗುತ್ತವೆ . \n"
     ]
    }
   ],
   "source": [
    "k+=1\n",
    "(input_seq, actual_output), _ = next(train_gen)\n",
    "decoded_sentence = decode_sequence(input_seq)\n",
    "print('Input wrong sentence:', X_train[k:k+1].values[0])\n",
    "print('Actual corrected sentence', y_train[k:k+1].values[0][6:-4])\n",
    "print('Predicted Translation:', decoded_sentence[:-4])"
   ]
  },
  {
   "cell_type": "code",
   "execution_count": 58,
   "metadata": {},
   "outputs": [
    {
     "name": "stdout",
     "output_type": "stream",
     "text": [
      "Input wrong sentence: ಅವನು ಬೆಕ್ಕುಗಳು ಮತ್ತು ನಾಯಿಗಳನ್ನು ಇಷ್ಟಪಡುತ್ತದೆ . \n",
      "Actual corrected sentence  ಅವನು ಬೆಕ್ಕುಗಳು ಮತ್ತು ನಾಯಿಗಳನ್ನು ಇಷ್ಟಪಡುತ್ತಾನೆ .  \n",
      "Predicted Translation:  ಅವನು ಬೆಕ್ಕುಗಳು ಮತ್ತು ನಾಯಿಗಳನ್ನು ಇಷ್ಟಪಡುತ್ತಾನೆ . \n"
     ]
    }
   ],
   "source": [
    "k+=1\n",
    "(input_seq, actual_output), _ = next(train_gen)\n",
    "decoded_sentence = decode_sequence(input_seq)\n",
    "print('Input wrong sentence:', X_train[k:k+1].values[0])\n",
    "print('Actual corrected sentence', y_train[k:k+1].values[0][6:-4])\n",
    "print('Predicted Translation:', decoded_sentence[:-4])"
   ]
  },
  {
   "cell_type": "code",
   "execution_count": 59,
   "metadata": {},
   "outputs": [
    {
     "name": "stdout",
     "output_type": "stream",
     "text": [
      "Input wrong sentence: ಆ ಸ್ಥಳ ಎಲ್ಲಿದೆ ! \n",
      "Actual corrected sentence  ಆ ಸ್ಥಳ ಎಲ್ಲಿದೆ ?  \n",
      "Predicted Translation:  ಆ ಸ್ಥಳ ಎಲ್ಲಿದೆ ? \n"
     ]
    }
   ],
   "source": [
    "k+=1\n",
    "(input_seq, actual_output), _ = next(train_gen)\n",
    "decoded_sentence = decode_sequence(input_seq)\n",
    "print('Input wrong sentence:', X_train[k:k+1].values[0])\n",
    "print('Actual corrected sentence', y_train[k:k+1].values[0][6:-4])\n",
    "print('Predicted Translation:', decoded_sentence[:-4])"
   ]
  },
  {
   "cell_type": "code",
   "execution_count": 60,
   "metadata": {},
   "outputs": [
    {
     "name": "stdout",
     "output_type": "stream",
     "text": [
      "Input wrong sentence: ಅವಳು ಊರಿಗೆ ಹೋದರು . \n",
      "Actual corrected sentence  ಅವರು ಊರಿಗೆ ಹೋದರು .  \n",
      "Predicted Translation:  ಅವರು ಊರಿಗೆ ಹೋದರು . \n"
     ]
    }
   ],
   "source": [
    "k+=1\n",
    "(input_seq, actual_output), _ = next(train_gen)\n",
    "decoded_sentence = decode_sequence(input_seq)\n",
    "print('Input wrong sentence:', X_train[k:k+1].values[0])\n",
    "print('Actual corrected sentence', y_train[k:k+1].values[0][6:-4])\n",
    "print('Predicted Translation:', decoded_sentence[:-4])"
   ]
  },
  {
   "cell_type": "code",
   "execution_count": 61,
   "metadata": {},
   "outputs": [
    {
     "name": "stdout",
     "output_type": "stream",
     "text": [
      "Input wrong sentence: ಅವನು ಸಂಗೀತ ಕಲಿತರು . \n",
      "Actual corrected sentence  ಅವನು ಸಂಗೀತ ಕಲಿತನು .  \n",
      "Predicted Translation:  ಅವನು ಸಂಗೀತ ಕಲಿತನು . \n"
     ]
    }
   ],
   "source": [
    "k+=1\n",
    "(input_seq, actual_output), _ = next(train_gen)\n",
    "decoded_sentence = decode_sequence(input_seq)\n",
    "print('Input wrong sentence:', X_train[k:k+1].values[0])\n",
    "print('Actual corrected sentence', y_train[k:k+1].values[0][6:-4])\n",
    "print('Predicted Translation:', decoded_sentence[:-4])"
   ]
  },
  {
   "cell_type": "code",
   "execution_count": 62,
   "metadata": {},
   "outputs": [
    {
     "name": "stdout",
     "output_type": "stream",
     "text": [
      "Input wrong sentence: ನಾನು ಇದನ್ನು ಎಲ್ಲಿ ಬಿಡಬಹುದು ! \n",
      "Actual corrected sentence  ನಾನು ಇದನ್ನು ಎಲ್ಲಿ ಬಿಡಬಹುದು ?  \n",
      "Predicted Translation:  ನಾನು ಇದನ್ನು ಎಲ್ಲಿ ಬಿಡಬಹುದು ? \n"
     ]
    }
   ],
   "source": [
    "k+=1\n",
    "(input_seq, actual_output), _ = next(train_gen)\n",
    "decoded_sentence = decode_sequence(input_seq)\n",
    "print('Input wrong sentence:', X_train[k:k+1].values[0])\n",
    "print('Actual corrected sentence', y_train[k:k+1].values[0][6:-4])\n",
    "print('Predicted Translation:', decoded_sentence[:-4])"
   ]
  },
  {
   "cell_type": "code",
   "execution_count": 63,
   "metadata": {},
   "outputs": [
    {
     "name": "stdout",
     "output_type": "stream",
     "text": [
      "Input wrong sentence: ನಮ್ಮ ಹತ್ತಿರ ಹತ್ತು ಮಾವಿನಹಣ್ಣುಗಳು ಇದೆ . \n",
      "Actual corrected sentence  ನಮ್ಮ ಹತ್ತಿರ ಹತ್ತು ಮಾವಿನಹಣ್ಣುಗಳು ಇವೆ .  \n",
      "Predicted Translation:  ನಮ್ಮ ಹತ್ತಿರ ಹತ್ತು ಮಾವಿನಹಣ್ಣುಗಳು ಇವೆ . \n"
     ]
    }
   ],
   "source": [
    "k+=1\n",
    "(input_seq, actual_output), _ = next(train_gen)\n",
    "decoded_sentence = decode_sequence(input_seq)\n",
    "print('Input wrong sentence:', X_train[k:k+1].values[0])\n",
    "print('Actual corrected sentence', y_train[k:k+1].values[0][6:-4])\n",
    "print('Predicted Translation:', decoded_sentence[:-4])"
   ]
  },
  {
   "cell_type": "code",
   "execution_count": 64,
   "metadata": {},
   "outputs": [
    {
     "name": "stdout",
     "output_type": "stream",
     "text": [
      "Input wrong sentence: ಮತ್ತೆ ಭೇಟಿಮಾಡುವ . \n",
      "Actual corrected sentence  ಮತ್ತೆ ಭೇಟಿಮಾಡುವೆ .  \n",
      "Predicted Translation:  ಕೋತಿಯು ಮರವನ್ನು ಹತ್ತುತ್ತದೆ . \n"
     ]
    }
   ],
   "source": [
    "k+=1\n",
    "(input_seq, actual_output), _ = next(train_gen)\n",
    "decoded_sentence = decode_sequence(input_seq)\n",
    "print('Input wrong sentence:', X_train[k:k+1].values[0])\n",
    "print('Actual corrected sentence', y_train[k:k+1].values[0][6:-4])\n",
    "print('Predicted Translation:', decoded_sentence[:-4])"
   ]
  },
  {
   "cell_type": "code",
   "execution_count": 65,
   "metadata": {},
   "outputs": [
    {
     "name": "stdout",
     "output_type": "stream",
     "text": [
      "Input wrong sentence: ಅವನು ನಗರದಲ್ಲಿ ವಾಸಿಸುತ್ತಾಳೆ . \n",
      "Actual corrected sentence  ಅವನು ನಗರದಲ್ಲಿ ವಾಸಿಸುತ್ತಾನೆ .  \n",
      "Predicted Translation:  ಅವನು ನಗರದಲ್ಲಿ ಇರುತ್ತಾನೆ . \n"
     ]
    }
   ],
   "source": [
    "k+=1\n",
    "(input_seq, actual_output), _ = next(train_gen)\n",
    "decoded_sentence = decode_sequence(input_seq)\n",
    "print('Input wrong sentence:', X_train[k:k+1].values[0])\n",
    "print('Actual corrected sentence', y_train[k:k+1].values[0][6:-4])\n",
    "print('Predicted Translation:', decoded_sentence[:-4])"
   ]
  },
  {
   "cell_type": "code",
   "execution_count": 66,
   "metadata": {},
   "outputs": [
    {
     "name": "stdout",
     "output_type": "stream",
     "text": [
      "Input wrong sentence: ರಾಮನು ಗಾಜನ್ನು ಒಡೆದನು ? \n",
      "Actual corrected sentence  ರಾಮನು ಗಾಜನ್ನು ಒಡೆದನು .  \n",
      "Predicted Translation:  ರಾಮನು ಗಾಜನ್ನು ಒಡೆದನು . \n"
     ]
    }
   ],
   "source": [
    "k+=1\n",
    "(input_seq, actual_output), _ = next(train_gen)\n",
    "decoded_sentence = decode_sequence(input_seq)\n",
    "print('Input wrong sentence:', X_train[k:k+1].values[0])\n",
    "print('Actual corrected sentence', y_train[k:k+1].values[0][6:-4])\n",
    "print('Predicted Translation:', decoded_sentence[:-4])"
   ]
  },
  {
   "cell_type": "code",
   "execution_count": 67,
   "metadata": {},
   "outputs": [
    {
     "name": "stdout",
     "output_type": "stream",
     "text": [
      "Input wrong sentence: ನನಗೆ ತುಂಬಾ ಸ್ನೇಹಿತ ಇದಾನೆ . \n",
      "Actual corrected sentence  ನನಗೆ ತುಂಬಾ ಸ್ನೇಹಿತರಿದ್ದಾರೆ .  \n",
      "Predicted Translation:  ನನಗೆ ತುಂಬಾ ಸ್ನೇಹಿತರಿದ್ದಾರೆ . \n"
     ]
    }
   ],
   "source": [
    "k+=1\n",
    "(input_seq, actual_output), _ = next(train_gen)\n",
    "decoded_sentence = decode_sequence(input_seq)\n",
    "print('Input wrong sentence:', X_train[k:k+1].values[0])\n",
    "print('Actual corrected sentence', y_train[k:k+1].values[0][6:-4])\n",
    "print('Predicted Translation:', decoded_sentence[:-4])"
   ]
  },
  {
   "cell_type": "code",
   "execution_count": 68,
   "metadata": {},
   "outputs": [
    {
     "name": "stdout",
     "output_type": "stream",
     "text": [
      "Input wrong sentence: ಶಿಶು ಮಲಗಿದ್ದಾರೆ . \n",
      "Actual corrected sentence  ಶಿಶುಗಳು ಮಲಗಿದ್ದಾರೆ .  \n",
      "Predicted Translation:  ಶಿಶುಗಳು ಮಲಗಿದ್ದಾರೆ . \n"
     ]
    }
   ],
   "source": [
    "k+=1\n",
    "(input_seq, actual_output), _ = next(train_gen)\n",
    "decoded_sentence = decode_sequence(input_seq)\n",
    "print('Input wrong sentence:', X_train[k:k+1].values[0])\n",
    "print('Actual corrected sentence', y_train[k:k+1].values[0][6:-4])\n",
    "print('Predicted Translation:', decoded_sentence[:-4])"
   ]
  },
  {
   "cell_type": "code",
   "execution_count": 69,
   "metadata": {},
   "outputs": [
    {
     "name": "stdout",
     "output_type": "stream",
     "text": [
      "Input wrong sentence: ಅದು ಹತ್ತು ಪುಸ್ತಕಗಳನ್ನು ಖರೀದಿಸಿದಳು . \n",
      "Actual corrected sentence  ಅವಳು ಹತ್ತು ಪುಸ್ತಕಗಳನ್ನು ಖರೀದಿಸಿದಳು .  \n",
      "Predicted Translation:  ಅವಳು ಹತ್ತು ಪುಸ್ತಕಗಳನ್ನು ಖರೀದಿಸಿದಳು . \n"
     ]
    }
   ],
   "source": [
    "k+=1\n",
    "(input_seq, actual_output), _ = next(train_gen)\n",
    "decoded_sentence = decode_sequence(input_seq)\n",
    "print('Input wrong sentence:', X_train[k:k+1].values[0])\n",
    "print('Actual corrected sentence', y_train[k:k+1].values[0][6:-4])\n",
    "print('Predicted Translation:', decoded_sentence[:-4])"
   ]
  },
  {
   "cell_type": "code",
   "execution_count": 72,
   "metadata": {},
   "outputs": [
    {
     "name": "stdout",
     "output_type": "stream",
     "text": [
      "Input wrong sentence: ನನ್ನ ನೃತ್ಯ ಹೇಗಿತ್ತು . \n",
      "Actual corrected sentence  ನನ್ನ ನೃತ್ಯ ಹೇಗಿತ್ತು ?  \n",
      "Predicted Translation:  ನನ್ನ ನೃತ್ಯ ಹೇಗಿತ್ತು ? \n"
     ]
    }
   ],
   "source": [
    "k+=1\n",
    "(input_seq, actual_output), _ = next(train_gen)\n",
    "decoded_sentence = decode_sequence(input_seq)\n",
    "print('Input wrong sentence:', X_train[k:k+1].values[0])\n",
    "print('Actual corrected sentence', y_train[k:k+1].values[0][6:-4])\n",
    "print('Predicted Translation:', decoded_sentence[:-4])"
   ]
  },
  {
   "cell_type": "code",
   "execution_count": 73,
   "metadata": {},
   "outputs": [
    {
     "name": "stdout",
     "output_type": "stream",
     "text": [
      "Input wrong sentence: ಅವನು ತನ್ನ ಬಟ್ಟೆಗಳನ್ನು ಬದಲಾಯಿಸಿದರು . \n",
      "Actual corrected sentence  ಅವನು ತನ್ನ ಬಟ್ಟೆಗಳನ್ನು ಬದಲಾಯಿಸಿದನು .  \n",
      "Predicted Translation:  ಅವನು ತನ್ನ ಬಟ್ಟೆಗಳನ್ನು ಬದಲಾಯಿಸಿದನು . \n"
     ]
    }
   ],
   "source": [
    "k+=1\n",
    "(input_seq, actual_output), _ = next(train_gen)\n",
    "decoded_sentence = decode_sequence(input_seq)\n",
    "print('Input wrong sentence:', X_train[k:k+1].values[0])\n",
    "print('Actual corrected sentence', y_train[k:k+1].values[0][6:-4])\n",
    "print('Predicted Translation:', decoded_sentence[:-4])"
   ]
  },
  {
   "cell_type": "code",
   "execution_count": 74,
   "metadata": {},
   "outputs": [
    {
     "name": "stdout",
     "output_type": "stream",
     "text": [
      "Input wrong sentence: ನಾನು ಪಕ್ಷಕ್ಕೆ ಬರುತ್ತಿದ್ದೀರಾ ? \n",
      "Actual corrected sentence  ನೀವು ಪಕ್ಷಕ್ಕೆ ಬರುತ್ತಿದ್ದೀರಾ ?  \n",
      "Predicted Translation:  ನೀವು ಪಕ್ಷಕ್ಕೆ ಬರುತ್ತಿದ್ದೀರಾ ? \n"
     ]
    }
   ],
   "source": [
    "k+=1\n",
    "(input_seq, actual_output), _ = next(train_gen)\n",
    "decoded_sentence = decode_sequence(input_seq)\n",
    "print('Input wrong sentence:', X_train[k:k+1].values[0])\n",
    "print('Actual corrected sentence', y_train[k:k+1].values[0][6:-4])\n",
    "print('Predicted Translation:', decoded_sentence[:-4])"
   ]
  },
  {
   "cell_type": "code",
   "execution_count": 75,
   "metadata": {},
   "outputs": [
    {
     "name": "stdout",
     "output_type": "stream",
     "text": [
      "Input wrong sentence: ಅವನಿಗೆ ಈಗ ತಿನ್ನುತ್ತಿದ್ದಾನೆ ? \n",
      "Actual corrected sentence  ಅವನು ಈಗ ತಿನ್ನುತ್ತಿದ್ದಾನೆ .  \n",
      "Predicted Translation:  ಅವನು ಈಗ ತಿನ್ನುತ್ತಿದ್ದಾನೆ . \n"
     ]
    }
   ],
   "source": [
    "k+=1\n",
    "(input_seq, actual_output), _ = next(train_gen)\n",
    "decoded_sentence = decode_sequence(input_seq)\n",
    "print('Input wrong sentence:', X_train[k:k+1].values[0])\n",
    "print('Actual corrected sentence', y_train[k:k+1].values[0][6:-4])\n",
    "print('Predicted Translation:', decoded_sentence[:-4])"
   ]
  },
  {
   "cell_type": "code",
   "execution_count": 76,
   "metadata": {},
   "outputs": [
    {
     "name": "stdout",
     "output_type": "stream",
     "text": [
      "Input wrong sentence: ಆಗ ಅವಳು ಏನು ಮಾಡುತ್ತಿದ್ದಳು . \n",
      "Actual corrected sentence  ಆಗ ಅವಳು ಏನು ಮಾಡುತ್ತಿದ್ದಳು ?  \n",
      "Predicted Translation:  ಅವಳು ಏನು ಮಾಡುತ್ತಿದ್ದಳು ? \n"
     ]
    }
   ],
   "source": [
    "k+=1\n",
    "(input_seq, actual_output), _ = next(train_gen)\n",
    "decoded_sentence = decode_sequence(input_seq)\n",
    "print('Input wrong sentence:', X_train[k:k+1].values[0])\n",
    "print('Actual corrected sentence', y_train[k:k+1].values[0][6:-4])\n",
    "print('Predicted Translation:', decoded_sentence[:-4])"
   ]
  },
  {
   "cell_type": "code",
   "execution_count": 77,
   "metadata": {},
   "outputs": [
    {
     "name": "stdout",
     "output_type": "stream",
     "text": [
      "Input wrong sentence: ಹುಡುಗಿ ಆಡುತ್ತಿದ್ದಾರೆ . \n",
      "Actual corrected sentence  ಹುಡುಗರು ಆಡುತ್ತಿದ್ದಾರೆ .  \n",
      "Predicted Translation:  ಹುಡುಗರು ಆಡುತ್ತಿದ್ದಾರೆ . \n"
     ]
    }
   ],
   "source": [
    "k+=1\n",
    "(input_seq, actual_output), _ = next(train_gen)\n",
    "decoded_sentence = decode_sequence(input_seq)\n",
    "print('Input wrong sentence:', X_train[k:k+1].values[0])\n",
    "print('Actual corrected sentence', y_train[k:k+1].values[0][6:-4])\n",
    "print('Predicted Translation:', decoded_sentence[:-4])"
   ]
  },
  {
   "cell_type": "code",
   "execution_count": 78,
   "metadata": {},
   "outputs": [
    {
     "name": "stdout",
     "output_type": "stream",
     "text": [
      "Input wrong sentence: ನಮ್ಮ ರಜೆಗಳು ನಾಳೆಯಿಂದ ಪ್ರಾರಂಭವಾಗುತ್ತದ ? \n",
      "Actual corrected sentence  ನಮ್ಮ ರಜೆಗಳು ನಾಳೆಯಿಂದ ಪ್ರಾರಂಭವಾಗುತ್ತಾ ?  \n",
      "Predicted Translation:  ನಮ್ಮ ರಜೆಗಳು ನಾಳೆಯಿಂದ ಪ್ರಾರಂಭವಾಗುತ್ತಾ ? \n"
     ]
    }
   ],
   "source": [
    "k+=1\n",
    "(input_seq, actual_output), _ = next(train_gen)\n",
    "decoded_sentence = decode_sequence(input_seq)\n",
    "print('Input wrong sentence:', X_train[k:k+1].values[0])\n",
    "print('Actual corrected sentence', y_train[k:k+1].values[0][6:-4])\n",
    "print('Predicted Translation:', decoded_sentence[:-4])"
   ]
  },
  {
   "cell_type": "code",
   "execution_count": 79,
   "metadata": {},
   "outputs": [
    {
     "name": "stdout",
     "output_type": "stream",
     "text": [
      "Input wrong sentence: ನಾನು ಬೆಕ್ಕುಗಳು ಮತ್ತು ನಾಯಿಗಳನ್ನು ಇಷ್ಟಪಡುತ್ತಾಳೆ . \n",
      "Actual corrected sentence  ನಾನು ಬೆಕ್ಕುಗಳು ಮತ್ತು ನಾಯಿಗಳನ್ನು ಇಷ್ಟಪಡುತ್ತೇನೆ .  \n",
      "Predicted Translation:  ಅವಳು ಬೆಕ್ಕುಗಳು ಮತ್ತು ನಾಯಿಗಳನ್ನು ಇಷ್ಟಪಡುತ್ತಾಳೆ . \n"
     ]
    }
   ],
   "source": [
    "k+=1\n",
    "(input_seq, actual_output), _ = next(train_gen)\n",
    "decoded_sentence = decode_sequence(input_seq)\n",
    "print('Input wrong sentence:', X_train[k:k+1].values[0])\n",
    "print('Actual corrected sentence', y_train[k:k+1].values[0][6:-4])\n",
    "print('Predicted Translation:', decoded_sentence[:-4])"
   ]
  },
  {
   "cell_type": "code",
   "execution_count": 80,
   "metadata": {},
   "outputs": [
    {
     "name": "stdout",
     "output_type": "stream",
     "text": [
      "Input wrong sentence: ಅವರು ನಿದ್ರೆಯಿಂದ ಎದ್ದನು . \n",
      "Actual corrected sentence  ಅವರು ನಿದ್ರೆಯಿಂದ ಎದ್ದರು .  \n",
      "Predicted Translation:  ಅವರು ಲೇಖನಗಳನ್ನು ಓದುತ್ತಿದ್ದರು . \n"
     ]
    }
   ],
   "source": [
    "k+=1\n",
    "(input_seq, actual_output), _ = next(train_gen)\n",
    "decoded_sentence = decode_sequence(input_seq)\n",
    "print('Input wrong sentence:', X_train[k:k+1].values[0])\n",
    "print('Actual corrected sentence', y_train[k:k+1].values[0][6:-4])\n",
    "print('Predicted Translation:', decoded_sentence[:-4])"
   ]
  },
  {
   "cell_type": "code",
   "execution_count": 81,
   "metadata": {},
   "outputs": [
    {
     "name": "stdout",
     "output_type": "stream",
     "text": [
      "Input wrong sentence: ಅದು ತನ್ನ ಬೆಕ್ಕುಗಳ ಜೊತೆ ಆಡುತ್ತಾಳೆ . \n",
      "Actual corrected sentence  ಅವಳು ತನ್ನ ಬೆಕ್ಕುಗಳ ಜೊತೆ ಆಡುತ್ತಾಳೆ .  \n",
      "Predicted Translation:  ಅವಳು ತನ್ನ ಬೆಕ್ಕುಗಳ ಜೊತೆ ಆಡುತ್ತಾಳೆ . \n"
     ]
    }
   ],
   "source": [
    "k+=1\n",
    "(input_seq, actual_output), _ = next(train_gen)\n",
    "decoded_sentence = decode_sequence(input_seq)\n",
    "print('Input wrong sentence:', X_train[k:k+1].values[0])\n",
    "print('Actual corrected sentence', y_train[k:k+1].values[0][6:-4])\n",
    "print('Predicted Translation:', decoded_sentence[:-4])"
   ]
  },
  {
   "cell_type": "code",
   "execution_count": 82,
   "metadata": {},
   "outputs": [
    {
     "name": "stdout",
     "output_type": "stream",
     "text": [
      "Input wrong sentence: ಮರದ ಮೇಲೆ ಅನೇಕ ಕೋತಿಗಳು ಇದೆ . \n",
      "Actual corrected sentence  ಮರದ ಮೇಲೆ ಅನೇಕ ಕೋತಿಗಳು ಇವೆ .  \n",
      "Predicted Translation:  ಮರದ ಮೇಲೆ ಅನೇಕ ಕೋತಿಗಳು ಇವೆ . \n"
     ]
    }
   ],
   "source": [
    "k+=1\n",
    "(input_seq, actual_output), _ = next(train_gen)\n",
    "decoded_sentence = decode_sequence(input_seq)\n",
    "print('Input wrong sentence:', X_train[k:k+1].values[0])\n",
    "print('Actual corrected sentence', y_train[k:k+1].values[0][6:-4])\n",
    "print('Predicted Translation:', decoded_sentence[:-4])"
   ]
  },
  {
   "cell_type": "code",
   "execution_count": 83,
   "metadata": {},
   "outputs": [
    {
     "name": "stdout",
     "output_type": "stream",
     "text": [
      "Input wrong sentence: ಅವನು ಬೆಕ್ಕುಗಳು ,  ನಾಯಿಗಳನ್ನು ಇಷ್ಟಪಡುತ್ತಾನೆ . \n",
      "Actual corrected sentence  ಅವನು ಬೆಕ್ಕುಗಳು ಮತ್ತು ನಾಯಿಗಳನ್ನು ಇಷ್ಟಪಡುತ್ತಾನೆ .  \n",
      "Predicted Translation:  ಅವನು ಬೆಕ್ಕುಗಳು ಮತ್ತು ನಾಯಿಗಳನ್ನು ಇಷ್ಟಪಡುತ್ತಾನೆ . \n"
     ]
    }
   ],
   "source": [
    "k+=1\n",
    "(input_seq, actual_output), _ = next(train_gen)\n",
    "decoded_sentence = decode_sequence(input_seq)\n",
    "print('Input wrong sentence:', X_train[k:k+1].values[0])\n",
    "print('Actual corrected sentence', y_train[k:k+1].values[0][6:-4])\n",
    "print('Predicted Translation:', decoded_sentence[:-4])"
   ]
  },
  {
   "cell_type": "code",
   "execution_count": 84,
   "metadata": {},
   "outputs": [
    {
     "name": "stdout",
     "output_type": "stream",
     "text": [
      "Input wrong sentence: ನಾಳೆ ಶಾಲೆಗೆ ಹೋಗಿದ್ದಾರೆ . \n",
      "Actual corrected sentence  ನಾಳೆ ಶಾಲೆಗೆ ಹೋಗುವೆನು .  \n",
      "Predicted Translation:  ನಾಳೆ ಶಾಲೆಗೆ ಹೋಗುವೆನು . \n"
     ]
    }
   ],
   "source": [
    "k+=1\n",
    "(input_seq, actual_output), _ = next(train_gen)\n",
    "decoded_sentence = decode_sequence(input_seq)\n",
    "print('Input wrong sentence:', X_train[k:k+1].values[0])\n",
    "print('Actual corrected sentence', y_train[k:k+1].values[0][6:-4])\n",
    "print('Predicted Translation:', decoded_sentence[:-4])"
   ]
  },
  {
   "cell_type": "code",
   "execution_count": 85,
   "metadata": {},
   "outputs": [
    {
     "name": "stdout",
     "output_type": "stream",
     "text": [
      "Input wrong sentence: ಅವರ ಮೊಮ್ಮಗಳು ಇವತ್ತು ಬರುತ್ತದೆ ? \n",
      "Actual corrected sentence  ಅವರ ಮೊಮ್ಮಗಳು ಇವತ್ತು ಬರ್ತಾಳೆ .  \n",
      "Predicted Translation:  ಅವರ ಮೊಮ್ಮಗಳು ಇವತ್ತು ಬರ್ತಾಳೆ . \n"
     ]
    }
   ],
   "source": [
    "k+=1\n",
    "(input_seq, actual_output), _ = next(train_gen)\n",
    "decoded_sentence = decode_sequence(input_seq)\n",
    "print('Input wrong sentence:', X_train[k:k+1].values[0])\n",
    "print('Actual corrected sentence', y_train[k:k+1].values[0][6:-4])\n",
    "print('Predicted Translation:', decoded_sentence[:-4])"
   ]
  },
  {
   "cell_type": "code",
   "execution_count": 86,
   "metadata": {},
   "outputs": [
    {
     "name": "stdout",
     "output_type": "stream",
     "text": [
      "Input wrong sentence: ಅವಳು ಬೆಕ್ಕುಗಳು ಮತ್ತು ನಾಯಿಗಳನ್ನು ಇಷ್ಟಪಡುತ್ತಾನೆ . \n",
      "Actual corrected sentence  ಅವಳು ಬೆಕ್ಕುಗಳು ಮತ್ತು ನಾಯಿಗಳನ್ನು ಇಷ್ಟಪಡುತ್ತಾಳೆ .  \n",
      "Predicted Translation:  ಅವನು ಬೆಕ್ಕುಗಳು ಮತ್ತು ನಾಯಿಗಳನ್ನು ಇಷ್ಟಪಡುತ್ತಾನೆ . \n"
     ]
    }
   ],
   "source": [
    "k+=1\n",
    "(input_seq, actual_output), _ = next(train_gen)\n",
    "decoded_sentence = decode_sequence(input_seq)\n",
    "print('Input wrong sentence:', X_train[k:k+1].values[0])\n",
    "print('Actual corrected sentence', y_train[k:k+1].values[0][6:-4])\n",
    "print('Predicted Translation:', decoded_sentence[:-4])"
   ]
  },
  {
   "cell_type": "code",
   "execution_count": null,
   "metadata": {},
   "outputs": [],
   "source": []
  },
  {
   "cell_type": "markdown",
   "metadata": {},
   "source": [
    "### Evaluation on Validation Dataset"
   ]
  },
  {
   "cell_type": "code",
   "execution_count": 33,
   "metadata": {},
   "outputs": [],
   "source": [
    "val_gen = generate_batch(X_test, y_test, batch_size = 1)\n",
    "k=-1"
   ]
  },
  {
   "cell_type": "code",
   "execution_count": 34,
   "metadata": {},
   "outputs": [
    {
     "name": "stdout",
     "output_type": "stream",
     "text": [
      "Input wrong sentence: ಅವನು ನಾಳೆ ಬರುತ್ತಿದೆ . \n",
      "Actual corrected sentence  ಅವನು ನಾಳೆ ಬರುತ್ತಿದ್ದಾನೆ .  \n",
      "Predicted Translation:  ಅವನು ನಾಳೆ ಬರುತ್ತಿದ್ದಾನೆ . \n"
     ]
    }
   ],
   "source": [
    "k+=1\n",
    "(input_seq, actual_output), _ = next(val_gen)\n",
    "decoded_sentence = decode_sequence(input_seq)\n",
    "print('Input wrong sentence:', X_test[k:k+1].values[0])\n",
    "print('Actual corrected sentence', y_test[k:k+1].values[0][6:-4])\n",
    "print('Predicted Translation:', decoded_sentence[:-4])"
   ]
  },
  {
   "cell_type": "code",
   "execution_count": 52,
   "metadata": {},
   "outputs": [
    {
     "name": "stdout",
     "output_type": "stream",
     "text": [
      "Input wrong sentence: ಅವನು ಹಣ್ಣು ತಂದಳು . \n",
      "Actual corrected sentence  ಅವನು ಹಣ್ಣು ತಂದನು .  \n",
      "Predicted Translation:  ಅವರು ಹಣ್ಣು ತಂದರು . \n"
     ]
    }
   ],
   "source": [
    "k+=1\n",
    "(input_seq, actual_output), _ = next(val_gen)\n",
    "decoded_sentence = decode_sequence(input_seq)\n",
    "print('Input wrong sentence:', X_test[k:k+1].values[0])\n",
    "print('Actual corrected sentence', y_test[k:k+1].values[0][6:-4])\n",
    "print('Predicted Translation:', decoded_sentence[:-4])"
   ]
  },
  {
   "cell_type": "code",
   "execution_count": 53,
   "metadata": {},
   "outputs": [
    {
     "name": "stdout",
     "output_type": "stream",
     "text": [
      "Input wrong sentence: ನೀವು ನಮ್ಮ ಮನೆಗೆ ಬಾ . \n",
      "Actual corrected sentence  ನೀವು ನಮ್ಮ ಮನೆಗೆ ಬನ್ನಿ .  \n",
      "Predicted Translation:  ನಮ್ಮ ಹತ್ತಿರ ಹತ್ತು ಮಾವಿನಹಣ್ಣುಗಳು ಇವೆ . \n"
     ]
    }
   ],
   "source": [
    "k+=1\n",
    "(input_seq, actual_output), _ = next(val_gen)\n",
    "decoded_sentence = decode_sequence(input_seq)\n",
    "print('Input wrong sentence:', X_test[k:k+1].values[0])\n",
    "print('Actual corrected sentence', y_test[k:k+1].values[0][6:-4])\n",
    "print('Predicted Translation:', decoded_sentence[:-4])"
   ]
  },
  {
   "cell_type": "code",
   "execution_count": 54,
   "metadata": {},
   "outputs": [
    {
     "name": "stdout",
     "output_type": "stream",
     "text": [
      "Input wrong sentence: ನಮ್ಮ ಹತ್ತಿರ ಹತ್ತು ಮಾವಿನಹಣ್ಣುಗಳು ಇದೆ . \n",
      "Actual corrected sentence  ನಮ್ಮ ಹತ್ತಿರ ಹತ್ತು ಮಾವಿನಹಣ್ಣುಗಳು ಇವೆ .  \n",
      "Predicted Translation:  ನಮ್ಮ ಹತ್ತಿರ ಹತ್ತು ಮಾವಿನಹಣ್ಣುಗಳು ಇವೆ . \n"
     ]
    }
   ],
   "source": [
    "k+=1\n",
    "(input_seq, actual_output), _ = next(val_gen)\n",
    "decoded_sentence = decode_sequence(input_seq)\n",
    "print('Input wrong sentence:', X_test[k:k+1].values[0])\n",
    "print('Actual corrected sentence', y_test[k:k+1].values[0][6:-4])\n",
    "print('Predicted Translation:', decoded_sentence[:-4])"
   ]
  },
  {
   "cell_type": "code",
   "execution_count": 55,
   "metadata": {},
   "outputs": [
    {
     "name": "stdout",
     "output_type": "stream",
     "text": [
      "Input wrong sentence: ಅವರು ಶಾಲೆಗೆ ಹೋದಳು . \n",
      "Actual corrected sentence  ಅವರು ಶಾಲೆಗೆ ಹೋದರು .  \n",
      "Predicted Translation:  ಅವರು ಶಾಲೆಗೆ ಹೋದರು . \n"
     ]
    }
   ],
   "source": [
    "k+=1\n",
    "(input_seq, actual_output), _ = next(val_gen)\n",
    "decoded_sentence = decode_sequence(input_seq)\n",
    "print('Input wrong sentence:', X_test[k:k+1].values[0])\n",
    "print('Actual corrected sentence', y_test[k:k+1].values[0][6:-4])\n",
    "print('Predicted Translation:', decoded_sentence[:-4])"
   ]
  },
  {
   "cell_type": "code",
   "execution_count": 56,
   "metadata": {},
   "outputs": [
    {
     "name": "stdout",
     "output_type": "stream",
     "text": [
      "Input wrong sentence: ಅವರು ಅಳುತ್ತಿದ್ದಾಳೆ . \n",
      "Actual corrected sentence  ಅವಳು ಅಳುತ್ತಿದ್ದಾಳೆ .  \n",
      "Predicted Translation:  ಅವಳು ಅಳುತ್ತಿದ್ದಾಳೆ . \n"
     ]
    }
   ],
   "source": [
    "k+=1\n",
    "(input_seq, actual_output), _ = next(val_gen)\n",
    "decoded_sentence = decode_sequence(input_seq)\n",
    "print('Input wrong sentence:', X_test[k:k+1].values[0])\n",
    "print('Actual corrected sentence', y_test[k:k+1].values[0][6:-4])\n",
    "print('Predicted Translation:', decoded_sentence[:-4])"
   ]
  },
  {
   "cell_type": "code",
   "execution_count": 57,
   "metadata": {},
   "outputs": [
    {
     "name": "stdout",
     "output_type": "stream",
     "text": [
      "Input wrong sentence: ಅವರಿಗೆ ಮೂರು ಮಗು ಇದ್ದಾನೆ . \n",
      "Actual corrected sentence  ಅವರಿಗೆ ಮೂರು ಮಕ್ಕಳು ಇದ್ದಾರೆ .  \n",
      "Predicted Translation:  ಅವರಿಗೆ ಮೂರು ಮಕ್ಕಳು ಇದ್ದಾರೆ . \n"
     ]
    }
   ],
   "source": [
    "k+=1\n",
    "(input_seq, actual_output), _ = next(val_gen)\n",
    "decoded_sentence = decode_sequence(input_seq)\n",
    "print('Input wrong sentence:', X_test[k:k+1].values[0])\n",
    "print('Actual corrected sentence', y_test[k:k+1].values[0][6:-4])\n",
    "print('Predicted Translation:', decoded_sentence[:-4])"
   ]
  },
  {
   "cell_type": "code",
   "execution_count": 58,
   "metadata": {},
   "outputs": [
    {
     "name": "stdout",
     "output_type": "stream",
     "text": [
      "Input wrong sentence: ಅವಳು ಶಾಲೆಗೆ ಹೋದನು . \n",
      "Actual corrected sentence  ಅವಳು ಶಾಲೆಗೆ ಹೋದಳು .  \n",
      "Predicted Translation:  ಅವಳು ಶಾಲೆಗೆ ಹೋಗುತ್ತಿದ್ದಾನೆ . \n"
     ]
    }
   ],
   "source": [
    "k+=1\n",
    "(input_seq, actual_output), _ = next(val_gen)\n",
    "decoded_sentence = decode_sequence(input_seq)\n",
    "print('Input wrong sentence:', X_test[k:k+1].values[0])\n",
    "print('Actual corrected sentence', y_test[k:k+1].values[0][6:-4])\n",
    "print('Predicted Translation:', decoded_sentence[:-4])"
   ]
  },
  {
   "cell_type": "code",
   "execution_count": 59,
   "metadata": {},
   "outputs": [
    {
     "name": "stdout",
     "output_type": "stream",
     "text": [
      "Input wrong sentence: ಅವನು ನನ್ನ ಗೆಳತಿ . \n",
      "Actual corrected sentence  ಅವಳು ನನ್ನ ಗೆಳತಿ .  \n",
      "Predicted Translation:  ಅವನು ನನ್ನ ಗೆಳೆಯ . \n"
     ]
    }
   ],
   "source": [
    "k+=1\n",
    "(input_seq, actual_output), _ = next(val_gen)\n",
    "decoded_sentence = decode_sequence(input_seq)\n",
    "print('Input wrong sentence:', X_test[k:k+1].values[0])\n",
    "print('Actual corrected sentence', y_test[k:k+1].values[0][6:-4])\n",
    "print('Predicted Translation:', decoded_sentence[:-4])"
   ]
  },
  {
   "cell_type": "code",
   "execution_count": 60,
   "metadata": {},
   "outputs": [
    {
     "name": "stdout",
     "output_type": "stream",
     "text": [
      "Input wrong sentence: ಅಮ್ಮ ಅಡಿಗೆ ಮಾಡುತ್ತಿದ್ದಾಳೆ ? \n",
      "Actual corrected sentence  ಅಮ್ಮ ಅಡಿಗೆ ಮಾಡುತ್ತಿದ್ದಾರೆ .  \n",
      "Predicted Translation:  ಶಿಶುಗಳು ಮಲಗಿದ್ದಾರೆ . \n"
     ]
    }
   ],
   "source": [
    "k+=1\n",
    "(input_seq, actual_output), _ = next(val_gen)\n",
    "decoded_sentence = decode_sequence(input_seq)\n",
    "print('Input wrong sentence:', X_test[k:k+1].values[0])\n",
    "print('Actual corrected sentence', y_test[k:k+1].values[0][6:-4])\n",
    "print('Predicted Translation:', decoded_sentence[:-4])"
   ]
  },
  {
   "cell_type": "code",
   "execution_count": 61,
   "metadata": {},
   "outputs": [
    {
     "name": "stdout",
     "output_type": "stream",
     "text": [
      "Input wrong sentence: ನೀವು ಹೇಗಿದ್ದೀರಾ ! \n",
      "Actual corrected sentence  ನೀವು ಹೇಗಿದ್ದೀರಾ ?  \n",
      "Predicted Translation:  ನೀವು ಹೇಗಿದ್ದೀರಾ ? \n"
     ]
    }
   ],
   "source": [
    "k+=1\n",
    "(input_seq, actual_output), _ = next(val_gen)\n",
    "decoded_sentence = decode_sequence(input_seq)\n",
    "print('Input wrong sentence:', X_test[k:k+1].values[0])\n",
    "print('Actual corrected sentence', y_test[k:k+1].values[0][6:-4])\n",
    "print('Predicted Translation:', decoded_sentence[:-4])"
   ]
  },
  {
   "cell_type": "code",
   "execution_count": 62,
   "metadata": {},
   "outputs": [
    {
     "name": "stdout",
     "output_type": "stream",
     "text": [
      "Input wrong sentence: ನಮ್ಮ ರಜೆಗಳು ನಾಳೆಯಿಂದ ಪ್ರಾರಂಭವಾಗುತ್ತಾ . \n",
      "Actual corrected sentence  ನಮ್ಮ ರಜೆಗಳು ನಾಳೆಯಿಂದ ಪ್ರಾರಂಭವಾಗುತ್ತಾ ?  \n",
      "Predicted Translation:  ನಮ್ಮ ರಜೆಗಳು ನಾಳೆಯಿಂದ ಪ್ರಾರಂಭವಾಗುತ್ತವೆ . \n"
     ]
    }
   ],
   "source": [
    "k+=1\n",
    "(input_seq, actual_output), _ = next(val_gen)\n",
    "decoded_sentence = decode_sequence(input_seq)\n",
    "print('Input wrong sentence:', X_test[k:k+1].values[0])\n",
    "print('Actual corrected sentence', y_test[k:k+1].values[0][6:-4])\n",
    "print('Predicted Translation:', decoded_sentence[:-4])"
   ]
  },
  {
   "cell_type": "code",
   "execution_count": 63,
   "metadata": {},
   "outputs": [
    {
     "name": "stdout",
     "output_type": "stream",
     "text": [
      "Input wrong sentence: ಅವಳು ಅವನ ಮನೆಗೆ ಹೋಗುತ್ತಿದ್ದಾನೆ ! \n",
      "Actual corrected sentence  ಅವನು ಅವನ ಮನೆಗೆ ಹೋಗುತ್ತಿದ್ದಾನೆ .  \n",
      "Predicted Translation:  ಅವಳು ನಾಳೆ ದೇಶಗಳನ್ನು ಭೇಟಿ ಮಾಡುತ್ತಾನೆ . \n"
     ]
    }
   ],
   "source": [
    "k+=1\n",
    "(input_seq, actual_output), _ = next(val_gen)\n",
    "decoded_sentence = decode_sequence(input_seq)\n",
    "print('Input wrong sentence:', X_test[k:k+1].values[0])\n",
    "print('Actual corrected sentence', y_test[k:k+1].values[0][6:-4])\n",
    "print('Predicted Translation:', decoded_sentence[:-4])"
   ]
  },
  {
   "cell_type": "code",
   "execution_count": 64,
   "metadata": {},
   "outputs": [
    {
     "name": "stdout",
     "output_type": "stream",
     "text": [
      "Input wrong sentence: ಅವರು ನಗರದಲ್ಲಿ ಇರುತ್ತಾನೆ ! \n",
      "Actual corrected sentence  ಅವನು ನಗರದಲ್ಲಿ ಇರುತ್ತಾನೆ .  \n",
      "Predicted Translation:  ಅವನು ನಗರದಲ್ಲಿ ಇರುತ್ತಾನೆ . \n"
     ]
    }
   ],
   "source": [
    "k+=1\n",
    "(input_seq, actual_output), _ = next(val_gen)\n",
    "decoded_sentence = decode_sequence(input_seq)\n",
    "print('Input wrong sentence:', X_test[k:k+1].values[0])\n",
    "print('Actual corrected sentence', y_test[k:k+1].values[0][6:-4])\n",
    "print('Predicted Translation:', decoded_sentence[:-4])"
   ]
  },
  {
   "cell_type": "code",
   "execution_count": 65,
   "metadata": {},
   "outputs": [
    {
     "name": "stdout",
     "output_type": "stream",
     "text": [
      "Input wrong sentence: ಅವನು ಊಟಾ ಮಾಡುತ್ತಿದ್ದಾಳೆ . \n",
      "Actual corrected sentence  ಅವಳು ಊಟಾ ಮಾಡುತ್ತಿದ್ದಾಳೆ .  \n",
      "Predicted Translation:  ಅವನು ಸಂಗೀತ ಕಲಿತನು . \n"
     ]
    }
   ],
   "source": [
    "k+=1\n",
    "(input_seq, actual_output), _ = next(val_gen)\n",
    "decoded_sentence = decode_sequence(input_seq)\n",
    "print('Input wrong sentence:', X_test[k:k+1].values[0])\n",
    "print('Actual corrected sentence', y_test[k:k+1].values[0][6:-4])\n",
    "print('Predicted Translation:', decoded_sentence[:-4])"
   ]
  },
  {
   "cell_type": "code",
   "execution_count": 66,
   "metadata": {},
   "outputs": [
    {
     "name": "stdout",
     "output_type": "stream",
     "text": [
      "Input wrong sentence: ಅವನು ಪುಸ್ತಕವನ್ನು ಓದುತ್ತಿದ್ದಾಳೆ ? \n",
      "Actual corrected sentence  ಅವಳು ಪುಸ್ತಕವನ್ನು ಓದುತ್ತಿದ್ದಾಳೆ .  \n",
      "Predicted Translation:  ಅವಳು ಪುಸ್ತಕವನ್ನು ಓದುತ್ತಿದ್ದಾಳೆ . \n"
     ]
    }
   ],
   "source": [
    "k+=1\n",
    "(input_seq, actual_output), _ = next(val_gen)\n",
    "decoded_sentence = decode_sequence(input_seq)\n",
    "print('Input wrong sentence:', X_test[k:k+1].values[0])\n",
    "print('Actual corrected sentence', y_test[k:k+1].values[0][6:-4])\n",
    "print('Predicted Translation:', decoded_sentence[:-4])"
   ]
  },
  {
   "cell_type": "code",
   "execution_count": 68,
   "metadata": {},
   "outputs": [
    {
     "name": "stdout",
     "output_type": "stream",
     "text": [
      "Input wrong sentence: ಅವನು ನಾಳೆ ಬರುತ್ತಿದ್ದಾರೆ ? \n",
      "Actual corrected sentence  ಅವನು ನಾಳೆ ಬರುತ್ತಿದ್ದಾನೆ .  \n",
      "Predicted Translation:  ಅವನು ನಾಳೆ ಬರುತ್ತಿದ್ದಾನೆ . \n"
     ]
    }
   ],
   "source": [
    "k+=1\n",
    "(input_seq, actual_output), _ = next(val_gen)\n",
    "decoded_sentence = decode_sequence(input_seq)\n",
    "print('Input wrong sentence:', X_test[k:k+1].values[0])\n",
    "print('Actual corrected sentence', y_test[k:k+1].values[0][6:-4])\n",
    "print('Predicted Translation:', decoded_sentence[:-4])"
   ]
  },
  {
   "cell_type": "code",
   "execution_count": 69,
   "metadata": {},
   "outputs": [
    {
     "name": "stdout",
     "output_type": "stream",
     "text": [
      "Input wrong sentence: ಅತ್ತೆಯು ಹಲ್ಲಿನಿಂದ ಬೆಲ್ಲವನ್ನು ಕಚ್ಚಿದಳು . \n",
      "Actual corrected sentence  ಅತ್ತೆಯು ಹಲ್ಲಿನಿಂದ ಬೆಲ್ಲವನ್ನು ಕಚ್ಚಿದರು .  \n",
      "Predicted Translation:  ಗುರುಗಳು ದೀಪ ಬೆಳಗಿದರು . \n"
     ]
    }
   ],
   "source": [
    "k+=1\n",
    "(input_seq, actual_output), _ = next(val_gen)\n",
    "decoded_sentence = decode_sequence(input_seq)\n",
    "print('Input wrong sentence:', X_test[k:k+1].values[0])\n",
    "print('Actual corrected sentence', y_test[k:k+1].values[0][6:-4])\n",
    "print('Predicted Translation:', decoded_sentence[:-4])"
   ]
  },
  {
   "cell_type": "code",
   "execution_count": 70,
   "metadata": {},
   "outputs": [
    {
     "name": "stdout",
     "output_type": "stream",
     "text": [
      "Input wrong sentence: ಅವನು ಪ್ರತಿದಿನ ಶಾಲೆಗೆ ಹೋಗುತ್ತಾರೆ . \n",
      "Actual corrected sentence  ಅವನು ಪ್ರತಿದಿನ ಶಾಲೆಗೆ ಹೋಗುತ್ತಾನೆ .  \n",
      "Predicted Translation:  ಅವನು ಪ್ರತಿದಿನ ಶಾಲೆಗೆ ಹೋಗುತ್ತಾನೆ . \n"
     ]
    }
   ],
   "source": [
    "k+=1\n",
    "(input_seq, actual_output), _ = next(val_gen)\n",
    "decoded_sentence = decode_sequence(input_seq)\n",
    "print('Input wrong sentence:', X_test[k:k+1].values[0])\n",
    "print('Actual corrected sentence', y_test[k:k+1].values[0][6:-4])\n",
    "print('Predicted Translation:', decoded_sentence[:-4])"
   ]
  },
  {
   "cell_type": "code",
   "execution_count": 71,
   "metadata": {},
   "outputs": [
    {
     "name": "stdout",
     "output_type": "stream",
     "text": [
      "Input wrong sentence: ನನ್ನ ಹತ್ತಿರ ಅನೇಕ ನಾಯಿ ಇದಾಳೆ . \n",
      "Actual corrected sentence  ನನ್ನ ಹತ್ತಿರ ಅನೇಕ ನಾಯಿಗಳು ಇವೆ .  \n",
      "Predicted Translation:  ನನ್ನ ಹತ್ತಿರ ಅನೇಕ ನಾಯಿಗಳು ಇವೆ . \n"
     ]
    }
   ],
   "source": [
    "k+=1\n",
    "(input_seq, actual_output), _ = next(val_gen)\n",
    "decoded_sentence = decode_sequence(input_seq)\n",
    "print('Input wrong sentence:', X_test[k:k+1].values[0])\n",
    "print('Actual corrected sentence', y_test[k:k+1].values[0][6:-4])\n",
    "print('Predicted Translation:', decoded_sentence[:-4])"
   ]
  },
  {
   "cell_type": "code",
   "execution_count": 72,
   "metadata": {},
   "outputs": [
    {
     "name": "stdout",
     "output_type": "stream",
     "text": [
      "Input wrong sentence: ಏನು ಅದ್ಭುತ ಕಲ್ಪನೆ ? \n",
      "Actual corrected sentence  ಏನು ಅದ್ಭುತ ಕಲ್ಪನೆ !  \n",
      "Predicted Translation:  ಏನು ಅದ್ಭುತ ಕಲ್ಪನೆ ! \n"
     ]
    }
   ],
   "source": [
    "k+=1\n",
    "(input_seq, actual_output), _ = next(val_gen)\n",
    "decoded_sentence = decode_sequence(input_seq)\n",
    "print('Input wrong sentence:', X_test[k:k+1].values[0])\n",
    "print('Actual corrected sentence', y_test[k:k+1].values[0][6:-4])\n",
    "print('Predicted Translation:', decoded_sentence[:-4])"
   ]
  },
  {
   "cell_type": "code",
   "execution_count": 73,
   "metadata": {},
   "outputs": [
    {
     "name": "stdout",
     "output_type": "stream",
     "text": [
      "Input wrong sentence: ನಾನು ಬರಬಹುದು ? \n",
      "Actual corrected sentence  ನಾನು ಬರಬಹುದಾ ?  \n",
      "Predicted Translation:  ನಾನು ಸಂಗೀತ ಹೋದರು . \n"
     ]
    }
   ],
   "source": [
    "k+=1\n",
    "(input_seq, actual_output), _ = next(val_gen)\n",
    "decoded_sentence = decode_sequence(input_seq)\n",
    "print('Input wrong sentence:', X_test[k:k+1].values[0])\n",
    "print('Actual corrected sentence', y_test[k:k+1].values[0][6:-4])\n",
    "print('Predicted Translation:', decoded_sentence[:-4])"
   ]
  },
  {
   "cell_type": "code",
   "execution_count": 74,
   "metadata": {},
   "outputs": [
    {
     "name": "stdout",
     "output_type": "stream",
     "text": [
      "Input wrong sentence: ರಾಮನು ಗಾಜನ್ನು ಒಡೆದನು ! \n",
      "Actual corrected sentence  ರಾಮನು ಗಾಜನ್ನು ಒಡೆದನು .  \n",
      "Predicted Translation:  ರಾಮನು ಬೆಂಗಳೂರಿಗೆ ಹೋದನು . \n"
     ]
    }
   ],
   "source": [
    "k+=1\n",
    "(input_seq, actual_output), _ = next(val_gen)\n",
    "decoded_sentence = decode_sequence(input_seq)\n",
    "print('Input wrong sentence:', X_test[k:k+1].values[0])\n",
    "print('Actual corrected sentence', y_test[k:k+1].values[0][6:-4])\n",
    "print('Predicted Translation:', decoded_sentence[:-4])"
   ]
  },
  {
   "cell_type": "code",
   "execution_count": 75,
   "metadata": {},
   "outputs": [
    {
     "name": "stdout",
     "output_type": "stream",
     "text": [
      "Input wrong sentence: ನನ್ನ ತಂಗಿ ಶಾಲೆಗೆ ಹೋಗಿದ್ದಾರೆ ! \n",
      "Actual corrected sentence  ನನ್ನ ತಂಗಿ ಶಾಲೆಗೆ ಹೋಗಿದ್ದಾಳೆ .  \n",
      "Predicted Translation:  ನನ್ನ ತಂಗಿ ಶಾಲೆಗೆ ಹೋಗಿದ್ದಾಳೆ . \n"
     ]
    }
   ],
   "source": [
    "k+=1\n",
    "(input_seq, actual_output), _ = next(val_gen)\n",
    "decoded_sentence = decode_sequence(input_seq)\n",
    "print('Input wrong sentence:', X_test[k:k+1].values[0])\n",
    "print('Actual corrected sentence', y_test[k:k+1].values[0][6:-4])\n",
    "print('Predicted Translation:', decoded_sentence[:-4])"
   ]
  },
  {
   "cell_type": "code",
   "execution_count": 76,
   "metadata": {},
   "outputs": [
    {
     "name": "stdout",
     "output_type": "stream",
     "text": [
      "Input wrong sentence: ಅವನು ಮೂರು ಬೆಕ್ಕುಗಳನ್ನು ಹೊಂದಿದ್ದಾಳೆ . \n",
      "Actual corrected sentence  ಅವಳು ಮೂರು ಬೆಕ್ಕುಗಳನ್ನು ಹೊಂದಿದ್ದಾಳೆ .  \n",
      "Predicted Translation:  ಅವಳು ಮೂರು ಬೆಕ್ಕುಗಳನ್ನು ಹೊಂದಿದ್ದಾಳೆ . \n"
     ]
    }
   ],
   "source": [
    "k+=1\n",
    "(input_seq, actual_output), _ = next(val_gen)\n",
    "decoded_sentence = decode_sequence(input_seq)\n",
    "print('Input wrong sentence:', X_test[k:k+1].values[0])\n",
    "print('Actual corrected sentence', y_test[k:k+1].values[0][6:-4])\n",
    "print('Predicted Translation:', decoded_sentence[:-4])"
   ]
  },
  {
   "cell_type": "code",
   "execution_count": 77,
   "metadata": {},
   "outputs": [
    {
     "name": "stdout",
     "output_type": "stream",
     "text": [
      "Input wrong sentence: ನಿಮ್ಮ ಹತ್ತಿರ ಎಷ್ಟು ಹಣ್ಣು ಇವೆ ? \n",
      "Actual corrected sentence  ನಿಮ್ಮ ಹತ್ತಿರ ಎಷ್ಟು ಹಣ್ಣುಗಳಿವೆ ?  \n",
      "Predicted Translation:  ನಿಮ್ಮ ಹತ್ತಿರ ಎಷ್ಟು ಹಣ್ಣುಗಳಿವೆ ? \n"
     ]
    }
   ],
   "source": [
    "k+=1\n",
    "(input_seq, actual_output), _ = next(val_gen)\n",
    "decoded_sentence = decode_sequence(input_seq)\n",
    "print('Input wrong sentence:', X_test[k:k+1].values[0])\n",
    "print('Actual corrected sentence', y_test[k:k+1].values[0][6:-4])\n",
    "print('Predicted Translation:', decoded_sentence[:-4])"
   ]
  },
  {
   "cell_type": "code",
   "execution_count": 78,
   "metadata": {},
   "outputs": [
    {
     "name": "stdout",
     "output_type": "stream",
     "text": [
      "Input wrong sentence: ಎಂಥಾ ವಿಚಿತ್ರ . \n",
      "Actual corrected sentence  ಎಂಥಾ ವಿಚಿತ್ರ !  \n",
      "Predicted Translation:  ಎಂಥಾ ವಿಚಿತ್ರ ! \n"
     ]
    }
   ],
   "source": [
    "k+=1\n",
    "(input_seq, actual_output), _ = next(val_gen)\n",
    "decoded_sentence = decode_sequence(input_seq)\n",
    "print('Input wrong sentence:', X_test[k:k+1].values[0])\n",
    "print('Actual corrected sentence', y_test[k:k+1].values[0][6:-4])\n",
    "print('Predicted Translation:', decoded_sentence[:-4])"
   ]
  },
  {
   "cell_type": "code",
   "execution_count": 79,
   "metadata": {},
   "outputs": [
    {
     "name": "stdout",
     "output_type": "stream",
     "text": [
      "Input wrong sentence: ಅಜ್ಜ ಈಗ ಮಲಿಗಿದ್ದನು . \n",
      "Actual corrected sentence  ಅಜ್ಜ ಈಗ ಮಲಿಗಿದ್ದಾರೆ .  \n",
      "Predicted Translation:  ಅಜ್ಜ ಈಗ ಮಲಿಗಿದ್ದಾರೆ . \n"
     ]
    }
   ],
   "source": [
    "k+=1\n",
    "(input_seq, actual_output), _ = next(val_gen)\n",
    "decoded_sentence = decode_sequence(input_seq)\n",
    "print('Input wrong sentence:', X_test[k:k+1].values[0])\n",
    "print('Actual corrected sentence', y_test[k:k+1].values[0][6:-4])\n",
    "print('Predicted Translation:', decoded_sentence[:-4])"
   ]
  },
  {
   "cell_type": "code",
   "execution_count": 80,
   "metadata": {},
   "outputs": [
    {
     "name": "stdout",
     "output_type": "stream",
     "text": [
      "Input wrong sentence: ಅಲ್ಲಿ ಒಂದು ಮನೆ ಇದಾನೆ . \n",
      "Actual corrected sentence  ಅಲ್ಲಿ ಒಂದು ಮನೆ ಇದೆ .  \n",
      "Predicted Translation:  ನನ್ನ ಮನೆ ಈಕಡೆ ಇದೆ . \n"
     ]
    }
   ],
   "source": [
    "k+=1\n",
    "(input_seq, actual_output), _ = next(val_gen)\n",
    "decoded_sentence = decode_sequence(input_seq)\n",
    "print('Input wrong sentence:', X_test[k:k+1].values[0])\n",
    "print('Actual corrected sentence', y_test[k:k+1].values[0][6:-4])\n",
    "print('Predicted Translation:', decoded_sentence[:-4])"
   ]
  },
  {
   "cell_type": "code",
   "execution_count": 81,
   "metadata": {},
   "outputs": [
    {
     "name": "stdout",
     "output_type": "stream",
     "text": [
      "Input wrong sentence: ನನ್ನ ಹತ್ತಿರ ಒಂದು ನಾಯಿ ಇದಾರೆ . \n",
      "Actual corrected sentence  ನನ್ನ ಹತ್ತಿರ ಒಂದು ನಾಯಿ ಇದೆ .  \n",
      "Predicted Translation:  ನನ್ನ ಹತ್ತಿರ ಒಂದು ನಾಯಿ ಇದೆ . \n"
     ]
    }
   ],
   "source": [
    "k+=1\n",
    "(input_seq, actual_output), _ = next(val_gen)\n",
    "decoded_sentence = decode_sequence(input_seq)\n",
    "print('Input wrong sentence:', X_test[k:k+1].values[0])\n",
    "print('Actual corrected sentence', y_test[k:k+1].values[0][6:-4])\n",
    "print('Predicted Translation:', decoded_sentence[:-4])"
   ]
  },
  {
   "cell_type": "code",
   "execution_count": 82,
   "metadata": {},
   "outputs": [
    {
     "name": "stdout",
     "output_type": "stream",
     "text": [
      "Input wrong sentence: ಅದು ತನ್ನ ಬೆಕ್ಕುಗಳ ಜೊತೆ ಆಡುತ್ತಾಳೆ . \n",
      "Actual corrected sentence  ಅವಳು ತನ್ನ ಬೆಕ್ಕುಗಳ ಜೊತೆ ಆಡುತ್ತಾಳೆ .  \n",
      "Predicted Translation:  ಅವಳು ತನ್ನ ಬೆಕ್ಕುಗಳ ಜೊತೆ ಆಡುತ್ತಾಳೆ . \n"
     ]
    }
   ],
   "source": [
    "k+=1\n",
    "(input_seq, actual_output), _ = next(val_gen)\n",
    "decoded_sentence = decode_sequence(input_seq)\n",
    "print('Input wrong sentence:', X_test[k:k+1].values[0])\n",
    "print('Actual corrected sentence', y_test[k:k+1].values[0][6:-4])\n",
    "print('Predicted Translation:', decoded_sentence[:-4])"
   ]
  },
  {
   "cell_type": "code",
   "execution_count": 83,
   "metadata": {},
   "outputs": [
    {
     "name": "stdout",
     "output_type": "stream",
     "text": [
      "Input wrong sentence: ಅವಳು ಅಳುತ್ತಿದ್ದಾರೆ . \n",
      "Actual corrected sentence  ಅವಳು ಅಳುತ್ತಿದ್ದಾಳೆ .  \n",
      "Predicted Translation:  ಅವಳು ಅಳುತ್ತಿದ್ದಾಳೆ . \n"
     ]
    }
   ],
   "source": [
    "k+=1\n",
    "(input_seq, actual_output), _ = next(val_gen)\n",
    "decoded_sentence = decode_sequence(input_seq)\n",
    "print('Input wrong sentence:', X_test[k:k+1].values[0])\n",
    "print('Actual corrected sentence', y_test[k:k+1].values[0][6:-4])\n",
    "print('Predicted Translation:', decoded_sentence[:-4])"
   ]
  },
  {
   "cell_type": "code",
   "execution_count": 84,
   "metadata": {},
   "outputs": [
    {
     "name": "stdout",
     "output_type": "stream",
     "text": [
      "Input wrong sentence: ನಾನು ಅನೇಕ ದೇಶಗೆ ಹೋಗಿದ್ದೇನೆ . \n",
      "Actual corrected sentence  ನಾನು ಅನೇಕ ದೇಶಗಳಿಗೆ ಹೋಗಿದ್ದೇನೆ .  \n",
      "Predicted Translation:  ನಾನು ಅನೇಕ ದೇಶಗಳಿಗೆ ಹೋಗಿದ್ದೇನೆ . \n"
     ]
    }
   ],
   "source": [
    "k+=1\n",
    "(input_seq, actual_output), _ = next(val_gen)\n",
    "decoded_sentence = decode_sequence(input_seq)\n",
    "print('Input wrong sentence:', X_test[k:k+1].values[0])\n",
    "print('Actual corrected sentence', y_test[k:k+1].values[0][6:-4])\n",
    "print('Predicted Translation:', decoded_sentence[:-4])"
   ]
  },
  {
   "cell_type": "code",
   "execution_count": 85,
   "metadata": {},
   "outputs": [
    {
     "name": "stdout",
     "output_type": "stream",
     "text": [
      "Input wrong sentence: ಅವನು ನಾಳೆ ಬಂದಿದ್ದನು . \n",
      "Actual corrected sentence  ಅವನು ನಾಳೆ ಬರ್ತಾನೆ .  \n",
      "Predicted Translation:  ಅವನು ನಾಳೆ ಬರುತ್ತಿದ್ದಾನೆ . \n"
     ]
    }
   ],
   "source": [
    "k+=1\n",
    "(input_seq, actual_output), _ = next(val_gen)\n",
    "decoded_sentence = decode_sequence(input_seq)\n",
    "print('Input wrong sentence:', X_test[k:k+1].values[0])\n",
    "print('Actual corrected sentence', y_test[k:k+1].values[0][6:-4])\n",
    "print('Predicted Translation:', decoded_sentence[:-4])"
   ]
  },
  {
   "cell_type": "code",
   "execution_count": 86,
   "metadata": {},
   "outputs": [
    {
     "name": "stdout",
     "output_type": "stream",
     "text": [
      "Input wrong sentence: ನನ್ನ ತಾಯಿ ತುಂಬಾ ಸುಂದರವಾಗಿದೆ . \n",
      "Actual corrected sentence  ನನ್ನ ತಾಯಿ ತುಂಬಾ ಸುಂದರವಾಗಿದ್ದಾರೆ .  \n",
      "Predicted Translation:  ನನ್ನ ನನ್ನ ನಾಯಿ ಇದೆ . \n"
     ]
    }
   ],
   "source": [
    "k+=1\n",
    "(input_seq, actual_output), _ = next(val_gen)\n",
    "decoded_sentence = decode_sequence(input_seq)\n",
    "print('Input wrong sentence:', X_test[k:k+1].values[0])\n",
    "print('Actual corrected sentence', y_test[k:k+1].values[0][6:-4])\n",
    "print('Predicted Translation:', decoded_sentence[:-4])"
   ]
  },
  {
   "cell_type": "code",
   "execution_count": 87,
   "metadata": {},
   "outputs": [
    {
     "name": "stdout",
     "output_type": "stream",
     "text": [
      "Input wrong sentence: ನಿಮ್ಮ ಮನೆಕೆಲಸ ಸಿದ್ಧವಾಗಿದ್ದೀಯ ! \n",
      "Actual corrected sentence  ನಿಮ್ಮ ಮನೆಕೆಲಸ ಸಿದ್ಧವಾಗಿದ್ದೀಯಾ ?  \n",
      "Predicted Translation:  ನಿಮ್ಮ ಮನೆಕೆಲಸ ಸಿದ್ಧವಾಗಿದ್ದೀಯಾ ? \n"
     ]
    }
   ],
   "source": [
    "k+=1\n",
    "(input_seq, actual_output), _ = next(val_gen)\n",
    "decoded_sentence = decode_sequence(input_seq)\n",
    "print('Input wrong sentence:', X_test[k:k+1].values[0])\n",
    "print('Actual corrected sentence', y_test[k:k+1].values[0][6:-4])\n",
    "print('Predicted Translation:', decoded_sentence[:-4])"
   ]
  },
  {
   "cell_type": "code",
   "execution_count": 88,
   "metadata": {},
   "outputs": [
    {
     "name": "stdout",
     "output_type": "stream",
     "text": [
      "Input wrong sentence: ಆಹಾ; ಎಷ್ಟು ದೊಡ್ಡ ಅರಮನೆ . \n",
      "Actual corrected sentence  ಆಹಾ !  ಎಷ್ಟು ದೊಡ್ಡ ಅರಮನೆ .  \n",
      "Predicted Translation:  ನಿನ್ನ ವಯಸ್ಸು ಎಷ್ಟು ? \n"
     ]
    }
   ],
   "source": [
    "k+=1\n",
    "(input_seq, actual_output), _ = next(val_gen)\n",
    "decoded_sentence = decode_sequence(input_seq)\n",
    "print('Input wrong sentence:', X_test[k:k+1].values[0])\n",
    "print('Actual corrected sentence', y_test[k:k+1].values[0][6:-4])\n",
    "print('Predicted Translation:', decoded_sentence[:-4])"
   ]
  },
  {
   "cell_type": "code",
   "execution_count": 89,
   "metadata": {},
   "outputs": [
    {
     "name": "stdout",
     "output_type": "stream",
     "text": [
      "Input wrong sentence: ಮಕ್ಕಳು ಸಂತೋಷಪಟ್ಟಳು . \n",
      "Actual corrected sentence  ಮಕ್ಕಳು ಸಂತೋಷಪಟ್ಟರು .  \n",
      "Predicted Translation:  ಮಕ್ಕಳು ಎಲ್ಲಿಗೆ ಹೋದರು ? \n"
     ]
    }
   ],
   "source": [
    "k+=1\n",
    "(input_seq, actual_output), _ = next(val_gen)\n",
    "decoded_sentence = decode_sequence(input_seq)\n",
    "print('Input wrong sentence:', X_test[k:k+1].values[0])\n",
    "print('Actual corrected sentence', y_test[k:k+1].values[0][6:-4])\n",
    "print('Predicted Translation:', decoded_sentence[:-4])"
   ]
  },
  {
   "cell_type": "code",
   "execution_count": 90,
   "metadata": {},
   "outputs": [
    {
     "name": "stdout",
     "output_type": "stream",
     "text": [
      "Input wrong sentence: ಶಾಲೆ ಮುಚ್ಚಿದ್ದವು . \n",
      "Actual corrected sentence  ಶಾಲೆ ಮುಚ್ಚಿತ್ತು .  \n",
      "Predicted Translation:  ಮರಗಳನ್ನು ಕತ್ತರಿಸಬೇಡಿ . \n"
     ]
    }
   ],
   "source": [
    "k+=1\n",
    "(input_seq, actual_output), _ = next(val_gen)\n",
    "decoded_sentence = decode_sequence(input_seq)\n",
    "print('Input wrong sentence:', X_test[k:k+1].values[0])\n",
    "print('Actual corrected sentence', y_test[k:k+1].values[0][6:-4])\n",
    "print('Predicted Translation:', decoded_sentence[:-4])"
   ]
  },
  {
   "cell_type": "code",
   "execution_count": 91,
   "metadata": {},
   "outputs": [
    {
     "name": "stdout",
     "output_type": "stream",
     "text": [
      "Input wrong sentence: ಅಪ್ಪ ಕೆಲಸಕ್ಕೆ ಹೋಗಿದೆ . \n",
      "Actual corrected sentence  ಅಪ್ಪ ಕೆಲಸಕ್ಕೆ ಹೋಗಿದಾರೆ .  \n",
      "Predicted Translation:  ಅಪ್ಪ ಕೆಲಸಕ್ಕೆ ಹೋಗಿದಾರೆ . \n"
     ]
    }
   ],
   "source": [
    "k+=1\n",
    "(input_seq, actual_output), _ = next(val_gen)\n",
    "decoded_sentence = decode_sequence(input_seq)\n",
    "print('Input wrong sentence:', X_test[k:k+1].values[0])\n",
    "print('Actual corrected sentence', y_test[k:k+1].values[0][6:-4])\n",
    "print('Predicted Translation:', decoded_sentence[:-4])"
   ]
  },
  {
   "cell_type": "code",
   "execution_count": 92,
   "metadata": {},
   "outputs": [
    {
     "name": "stdout",
     "output_type": "stream",
     "text": [
      "Input wrong sentence: ಅವರು ಪ್ರಸಿದ್ಧರಾಗಬೇಕೆಂದು ಆಶಿಸಿದಳು . \n",
      "Actual corrected sentence  ಅವರು ಪ್ರಸಿದ್ಧರಾಗಬೇಕೆಂದು ಆಶಿಸಿದರು .  \n",
      "Predicted Translation:  ಅವರು ದೂರದರ್ಶನವನ್ನು ವೀಕ್ಷಿಸುತ್ತಿದ್ದಾರೆ . \n"
     ]
    }
   ],
   "source": [
    "k+=1\n",
    "(input_seq, actual_output), _ = next(val_gen)\n",
    "decoded_sentence = decode_sequence(input_seq)\n",
    "print('Input wrong sentence:', X_test[k:k+1].values[0])\n",
    "print('Actual corrected sentence', y_test[k:k+1].values[0][6:-4])\n",
    "print('Predicted Translation:', decoded_sentence[:-4])"
   ]
  },
  {
   "cell_type": "code",
   "execution_count": 93,
   "metadata": {},
   "outputs": [
    {
     "name": "stdout",
     "output_type": "stream",
     "text": [
      "Input wrong sentence: ಅನೇಕ ವೈದ್ಯರು ಸಭೆಯಲ್ಲಿ ಭಾಗವಹಿಸಿದ್ದಳು . \n",
      "Actual corrected sentence  ಅನೇಕ ವೈದ್ಯರು ಸಭೆಯಲ್ಲಿ ಭಾಗವಹಿಸಿದ್ದರು .  \n",
      "Predicted Translation:  ಅನೇಕ ವೈದ್ಯರು ಸಭೆಯಲ್ಲಿ ಭಾಗವಹಿಸಿದ್ದರು . \n"
     ]
    }
   ],
   "source": [
    "k+=1\n",
    "(input_seq, actual_output), _ = next(val_gen)\n",
    "decoded_sentence = decode_sequence(input_seq)\n",
    "print('Input wrong sentence:', X_test[k:k+1].values[0])\n",
    "print('Actual corrected sentence', y_test[k:k+1].values[0][6:-4])\n",
    "print('Predicted Translation:', decoded_sentence[:-4])"
   ]
  },
  {
   "cell_type": "code",
   "execution_count": 94,
   "metadata": {},
   "outputs": [
    {
     "name": "stdout",
     "output_type": "stream",
     "text": [
      "Input wrong sentence: ಕೋತಿಗಳು ಬಾಳೆಹಣ್ಣು ತಿನ್ನಲು ಇಷ್ಟಪಡುತ್ತಾಳೆ . \n",
      "Actual corrected sentence  ಕೋತಿಗಳು ಬಾಳೆಹಣ್ಣು ತಿನ್ನಲು ಇಷ್ಟಪಡುತ್ತವೆ .  \n",
      "Predicted Translation:  ಕೋತಿಗಳು ಬಾಳೆಹಣ್ಣು ಇವೆ . \n"
     ]
    }
   ],
   "source": [
    "k+=1\n",
    "(input_seq, actual_output), _ = next(val_gen)\n",
    "decoded_sentence = decode_sequence(input_seq)\n",
    "print('Input wrong sentence:', X_test[k:k+1].values[0])\n",
    "print('Actual corrected sentence', y_test[k:k+1].values[0][6:-4])\n",
    "print('Predicted Translation:', decoded_sentence[:-4])"
   ]
  },
  {
   "cell_type": "code",
   "execution_count": 96,
   "metadata": {},
   "outputs": [
    {
     "name": "stdout",
     "output_type": "stream",
     "text": [
      "Input wrong sentence: ಭೂಮಿಯು ಸೂರ್ಯನ ಸುತ್ತ ಸುತ್ತಿತು . \n",
      "Actual corrected sentence  ಭೂಮಿಯು ಸೂರ್ಯನ ಸುತ್ತ ಸುತ್ತುತ್ತದೆ .  \n",
      "Predicted Translation:  ಭೂಮಿಯು ಸೂರ್ಯನ ಸುತ್ತ ಸುತ್ತುತ್ತದೆ . \n"
     ]
    }
   ],
   "source": [
    "k+=1\n",
    "(input_seq, actual_output), _ = next(val_gen)\n",
    "decoded_sentence = decode_sequence(input_seq)\n",
    "print('Input wrong sentence:', X_test[k:k+1].values[0])\n",
    "print('Actual corrected sentence', y_test[k:k+1].values[0][6:-4])\n",
    "print('Predicted Translation:', decoded_sentence[:-4])"
   ]
  },
  {
   "cell_type": "code",
   "execution_count": 97,
   "metadata": {},
   "outputs": [
    {
     "name": "stdout",
     "output_type": "stream",
     "text": [
      "Input wrong sentence: ನಾಳೆ ಶಾಲೆಗೆ ಹೋಗಿದ್ದೆ . \n",
      "Actual corrected sentence  ನಾಳೆ ಶಾಲೆಗೆ ಹೋಗುವೆನು .  \n",
      "Predicted Translation:  ನಾಳೆ ಶಾಲೆಗೆ ಹೋಗುತ್ತಿದ್ದಾನೆ . \n"
     ]
    }
   ],
   "source": [
    "k+=1\n",
    "(input_seq, actual_output), _ = next(val_gen)\n",
    "decoded_sentence = decode_sequence(input_seq)\n",
    "print('Input wrong sentence:', X_test[k:k+1].values[0])\n",
    "print('Actual corrected sentence', y_test[k:k+1].values[0][6:-4])\n",
    "print('Predicted Translation:', decoded_sentence[:-4])"
   ]
  },
  {
   "cell_type": "code",
   "execution_count": 98,
   "metadata": {},
   "outputs": [
    {
     "name": "stdout",
     "output_type": "stream",
     "text": [
      "Input wrong sentence: ಅವಳು ನಿದ್ರೆಯನ್ನು ಮಡಿದನು . \n",
      "Actual corrected sentence  ಅವಳು ನಿದ್ರೆಯನ್ನು ಮಡಿದಳು .  \n",
      "Predicted Translation:  ಅವನು ಸಂಗೀತ ಕಲಿಯುತ್ತಿದ್ದೇನೆ . \n"
     ]
    }
   ],
   "source": [
    "k+=1\n",
    "(input_seq, actual_output), _ = next(val_gen)\n",
    "decoded_sentence = decode_sequence(input_seq)\n",
    "print('Input wrong sentence:', X_test[k:k+1].values[0])\n",
    "print('Actual corrected sentence', y_test[k:k+1].values[0][6:-4])\n",
    "print('Predicted Translation:', decoded_sentence[:-4])"
   ]
  },
  {
   "cell_type": "code",
   "execution_count": 99,
   "metadata": {},
   "outputs": [
    {
     "name": "stdout",
     "output_type": "stream",
     "text": [
      "Input wrong sentence: ಅವಳು ನಗರದಲ್ಲಿ ವಾಸಿಸುತ್ತಿದ್ದಾರೆ . \n",
      "Actual corrected sentence  ಅವರು ನಗರದಲ್ಲಿ ವಾಸಿಸುತ್ತಿದ್ದಾರೆ .  \n",
      "Predicted Translation:  ಅವರು ನಗರದಲ್ಲಿ ವಾಸಿಸುತ್ತಿದ್ದಾರೆ . \n"
     ]
    }
   ],
   "source": [
    "k+=1\n",
    "(input_seq, actual_output), _ = next(val_gen)\n",
    "decoded_sentence = decode_sequence(input_seq)\n",
    "print('Input wrong sentence:', X_test[k:k+1].values[0])\n",
    "print('Actual corrected sentence', y_test[k:k+1].values[0][6:-4])\n",
    "print('Predicted Translation:', decoded_sentence[:-4])"
   ]
  },
  {
   "cell_type": "code",
   "execution_count": 100,
   "metadata": {},
   "outputs": [
    {
     "name": "stdout",
     "output_type": "stream",
     "text": [
      "Input wrong sentence: ಅವರು ನಾಳೆ ಬರುತ್ತಿದ್ದಾನೆ ! \n",
      "Actual corrected sentence  ಅವನು ನಾಳೆ ಬರುತ್ತಿದ್ದಾನೆ .  \n",
      "Predicted Translation:  ಅವನು ನಾಳೆ ಬರುತ್ತಿದ್ದಾನೆ . \n"
     ]
    }
   ],
   "source": [
    "k+=1\n",
    "(input_seq, actual_output), _ = next(val_gen)\n",
    "decoded_sentence = decode_sequence(input_seq)\n",
    "print('Input wrong sentence:', X_test[k:k+1].values[0])\n",
    "print('Actual corrected sentence', y_test[k:k+1].values[0][6:-4])\n",
    "print('Predicted Translation:', decoded_sentence[:-4])"
   ]
  },
  {
   "cell_type": "code",
   "execution_count": 41,
   "metadata": {},
   "outputs": [
    {
     "name": "stdout",
     "output_type": "stream",
     "text": [
      "(1, 12)\n",
      "Input wrong sentence: ಅವರು ಅಳುತ್ತಿದ್ದಾನೆ . \n",
      "Actual corrected sentence  ಅವನು ಅಳುತ್ತಿದ್ದಾನೆ .  \n",
      "Predicted Translation:  ಅವನು ಅಳುತ್ತಿದ್ದಾನೆ . \n"
     ]
    }
   ],
   "source": [
    "k+=1\n",
    "(input_seq, actual_output), _ = next(val_gen)\n",
    "print(input_seq.shape)\n",
    "decoded_sentence = decode_sequence(input_seq)\n",
    "print('Input wrong sentence:', X_test[k:k+1].values[0])\n",
    "print('Actual corrected sentence', y_test[k:k+1].values[0][6:-4])\n",
    "print('Predicted Translation:', decoded_sentence[:-4])"
   ]
  },
  {
   "cell_type": "code",
   "execution_count": 44,
   "metadata": {},
   "outputs": [
    {
     "name": "stdout",
     "output_type": "stream",
     "text": [
      " ಅವನು ಅಳುತ್ತಿದ್ದಾನೆ . _END\n"
     ]
    }
   ],
   "source": [
    "text='ಅವರು ಅಳುತ್ತಿದ್ದಾನೆ  '\n",
    "input_seq=np.zeros([1,12],dtype='float32')\n",
    "j=0\n",
    "for word in text.split():\n",
    "    input_seq[0][j]=(input_token_index[word])\n",
    "    j=j+1\n",
    "print(decode_sequence(input_seq))"
   ]
  },
  {
   "cell_type": "code",
   "execution_count": null,
   "metadata": {},
   "outputs": [],
   "source": []
  },
  {
   "cell_type": "code",
   "execution_count": null,
   "metadata": {},
   "outputs": [],
   "source": []
  },
  {
   "cell_type": "code",
   "execution_count": null,
   "metadata": {},
   "outputs": [],
   "source": []
  }
 ],
 "metadata": {
  "kernelspec": {
   "display_name": "Python 3",
   "language": "python",
   "name": "python3"
  },
  "language_info": {
   "codemirror_mode": {
    "name": "ipython",
    "version": 3
   },
   "file_extension": ".py",
   "mimetype": "text/x-python",
   "name": "python",
   "nbconvert_exporter": "python",
   "pygments_lexer": "ipython3",
   "version": "3.7.3"
  }
 },
 "nbformat": 4,
 "nbformat_minor": 2
}
