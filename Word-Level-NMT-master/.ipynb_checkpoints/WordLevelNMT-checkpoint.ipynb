{
 "cells": [
  {
   "cell_type": "code",
   "execution_count": 1,
   "metadata": {},
   "outputs": [
    {
     "name": "stderr",
     "output_type": "stream",
     "text": [
      "Using TensorFlow backend.\n"
     ]
    }
   ],
   "source": [
    "import pandas as pd\n",
    "import numpy as np\n",
    "import string\n",
    "from string import digits\n",
    "import matplotlib.pyplot as plt\n",
    "%matplotlib inline\n",
    "import re\n",
    "from sklearn.utils import shuffle\n",
    "from sklearn.model_selection import train_test_split\n",
    "from keras.layers import Input, LSTM, Embedding, Dense\n",
    "from keras.models import Model"
   ]
  },
  {
   "cell_type": "code",
   "execution_count": 2,
   "metadata": {},
   "outputs": [
    {
     "name": "stderr",
     "output_type": "stream",
     "text": [
      "C:\\Users\\Jayashree\\Anaconda3\\lib\\site-packages\\ipykernel_launcher.py:1: FutureWarning: read_table is deprecated, use read_csv instead.\n",
      "  \"\"\"Entry point for launching an IPython kernel.\n"
     ]
    }
   ],
   "source": [
    "lines= pd.read_table('kan.txt', names=['correct', 'wrong'],delimiter='~')"
   ]
  },
  {
   "cell_type": "code",
   "execution_count": 3,
   "metadata": {},
   "outputs": [
    {
     "data": {
      "text/html": [
       "<div>\n",
       "<style scoped>\n",
       "    .dataframe tbody tr th:only-of-type {\n",
       "        vertical-align: middle;\n",
       "    }\n",
       "\n",
       "    .dataframe tbody tr th {\n",
       "        vertical-align: top;\n",
       "    }\n",
       "\n",
       "    .dataframe thead th {\n",
       "        text-align: right;\n",
       "    }\n",
       "</style>\n",
       "<table border=\"1\" class=\"dataframe\">\n",
       "  <thead>\n",
       "    <tr style=\"text-align: right;\">\n",
       "      <th></th>\n",
       "      <th>correct</th>\n",
       "      <th>wrong</th>\n",
       "    </tr>\n",
       "  </thead>\n",
       "  <tbody>\n",
       "    <tr>\n",
       "      <th>0</th>\n",
       "      <td>ಅವಳು ಏನು ಮಾಡುತ್ತಿದ್ದಳು?</td>\n",
       "      <td>ಅವಳು ಏನು ಮಾಡುತ್ತಿದ್ದನು?</td>\n",
       "    </tr>\n",
       "    <tr>\n",
       "      <th>1</th>\n",
       "      <td>ಅವನು ಏನು ಮಾಡುತ್ತಿದ್ದನು?</td>\n",
       "      <td>ಅವನು ಏನು ಮಾಡುತ್ತಿದ್ದಳು?</td>\n",
       "    </tr>\n",
       "    <tr>\n",
       "      <th>2</th>\n",
       "      <td>ಅವಳು ಏನು ಬಯಸುತ್ತಾಳೆ?</td>\n",
       "      <td>ಅವಳು ಏನು ಬಯಸುತ್ತಾನೆ?</td>\n",
       "    </tr>\n",
       "    <tr>\n",
       "      <th>3</th>\n",
       "      <td>ಅವನು ಏನು ಬಯಸುತ್ತಾನೆ?</td>\n",
       "      <td>ಅವನು ಏನು ಬಯಸುತ್ತಾಳೆ?</td>\n",
       "    </tr>\n",
       "    <tr>\n",
       "      <th>4</th>\n",
       "      <td>ಅವಳು ತನ್ನ ಪುಸ್ತಕವನ್ನು ಓದುತ್ತಿದ್ದಾಳೆ.</td>\n",
       "      <td>ಅವಳು ತನ್ನ ಪುಸ್ತಕವನ್ನು ಓದುತ್ತಿದ್ದಾನೆ.</td>\n",
       "    </tr>\n",
       "    <tr>\n",
       "      <th>5</th>\n",
       "      <td>ಅವನು ತನ್ನ ಪುಸ್ತಕವನ್ನು ಓದುತ್ತಿದ್ದಾನೆ.</td>\n",
       "      <td>ಅವನು ತನ್ನ ಪುಸ್ತಕವನ್ನು ಓದುತ್ತಿದ್ದಾಳೆ.</td>\n",
       "    </tr>\n",
       "    <tr>\n",
       "      <th>6</th>\n",
       "      <td>ಅವಳು  ಪುಸ್ತಕವನ್ನು ಓದುತ್ತಿದ್ದಾಳೆ.</td>\n",
       "      <td>ಅವಳು ಪುಸ್ತಕವನ್ನು ಓದುತ್ತಿದ್ದಾನೆ.</td>\n",
       "    </tr>\n",
       "    <tr>\n",
       "      <th>7</th>\n",
       "      <td>ಅವಳು  ಪುಸ್ತಕವನ್ನು ಓದುತ್ತಿದ್ದಾಳೆ.</td>\n",
       "      <td>ಅವಳು ಪುಸ್ತಕವನ್ನು ಓದುತ್ತಿದ್ದಾರೆ.</td>\n",
       "    </tr>\n",
       "    <tr>\n",
       "      <th>8</th>\n",
       "      <td>ಅವಳು  ಪುಸ್ತಕವನ್ನು ಓದುತ್ತಿದ್ದಾಳೆ.</td>\n",
       "      <td>ಅವರು ಪುಸ್ತಕವನ್ನು ಓದುತ್ತಿದ್ದಾಳೆ?</td>\n",
       "    </tr>\n",
       "    <tr>\n",
       "      <th>9</th>\n",
       "      <td>ಅವಳು  ಪುಸ್ತಕವನ್ನು ಓದುತ್ತಿದ್ದಾಳೆ.</td>\n",
       "      <td>ಅವನು ಪುಸ್ತಕವನ್ನು ಓದುತ್ತಿದ್ದಾಳೆ?</td>\n",
       "    </tr>\n",
       "    <tr>\n",
       "      <th>10</th>\n",
       "      <td>ಅವಳು ನಗರದಲ್ಲಿ ವಾಸಿಸುತ್ತಾಳೆ.</td>\n",
       "      <td>ಅವಳು ನಗರದಲ್ಲಿ ವಾಸಿಸುತ್ತಾನೆ.</td>\n",
       "    </tr>\n",
       "    <tr>\n",
       "      <th>11</th>\n",
       "      <td>ಅವನು ನಗರದಲ್ಲಿ ವಾಸಿಸುತ್ತಾನೆ.</td>\n",
       "      <td>ಅವನು ನಗರದಲ್ಲಿ ವಾಸಿಸುತ್ತಾಳೆ.</td>\n",
       "    </tr>\n",
       "    <tr>\n",
       "      <th>12</th>\n",
       "      <td>ಅವರು ನಗರದಲ್ಲಿ ವಾಸಿಸುತ್ತಾರೆ.</td>\n",
       "      <td>ಅವರು ನಗರದಲ್ಲಿ ವಾಸಿಸುತ್ತಾಳೆ.</td>\n",
       "    </tr>\n",
       "    <tr>\n",
       "      <th>13</th>\n",
       "      <td>ಅವರು ನಗರದಲ್ಲಿ ವಾಸಿಸುತ್ತಾರೆ.</td>\n",
       "      <td>ಅವರು ನಗರದಲ್ಲಿ ವಾಸಿಸುತ್ತಾನೆ?</td>\n",
       "    </tr>\n",
       "    <tr>\n",
       "      <th>14</th>\n",
       "      <td>ಅವರು ಊರಿಗೆ ಹೋದರು.</td>\n",
       "      <td>ಅವನು ಊರಿಗೆ ಹೋದರು.</td>\n",
       "    </tr>\n",
       "    <tr>\n",
       "      <th>15</th>\n",
       "      <td>ಅವರು ಊರಿಗೆ ಹೋದರು.</td>\n",
       "      <td>ಅವಳು ಊರಿಗೆ ಹೋದರು.</td>\n",
       "    </tr>\n",
       "    <tr>\n",
       "      <th>16</th>\n",
       "      <td>ರಾಮನು ಬೆಂಗಳೂರಿಗೆ ಹೋದನು.</td>\n",
       "      <td>ರಾಮನು ಬೆಂಗಳೂರಿಗೆ ಹೋದಳು.</td>\n",
       "    </tr>\n",
       "    <tr>\n",
       "      <th>17</th>\n",
       "      <td>ರಾಮನು ಬೆಂಗಳೂರಿಗೆ ಹೋದನು.</td>\n",
       "      <td>ರಾಮನು ಬೆಂಗಳೂರಿಗೆ ಹೋದಳು?</td>\n",
       "    </tr>\n",
       "    <tr>\n",
       "      <th>18</th>\n",
       "      <td>ರಾಮ ಲಕ್ಷ್ಮಣರು ಯುದ್ಧಕ್ಕೆ ಹೋದರು.</td>\n",
       "      <td>ರಾಮ ಲಕ್ಷ್ಮಣರು ಯುದ್ಧಕ್ಕೆ ಹೋದನು.</td>\n",
       "    </tr>\n",
       "    <tr>\n",
       "      <th>19</th>\n",
       "      <td>ರಾಮ ಲಕ್ಷ್ಮಣರು ಯುದ್ಧಕ್ಕೆ ಹೋದರು.</td>\n",
       "      <td>ರಾಮ ಲಕ್ಷ್ಮಣರು ಯುದ್ಧಕ್ಕೆ ಹೋದಳು.</td>\n",
       "    </tr>\n",
       "    <tr>\n",
       "      <th>20</th>\n",
       "      <td>ನಿನ್ನಾ ಹೆಸರು ಏನು?</td>\n",
       "      <td>ನಿನ್ನಾ ಹೆಸರು ಏನು!</td>\n",
       "    </tr>\n",
       "    <tr>\n",
       "      <th>21</th>\n",
       "      <td>ನಿನ್ನಾ ಹೆಸರು ಏನು?</td>\n",
       "      <td>ನಿನ್ನಾ ಹೆಸರು ಏನು.</td>\n",
       "    </tr>\n",
       "    <tr>\n",
       "      <th>22</th>\n",
       "      <td>ನಿನ್ನಾ ಹೆಸರು ಏನು?</td>\n",
       "      <td>ನಿನ್ನಾ ಹೆಸರು ಯಾವುದು?</td>\n",
       "    </tr>\n",
       "    <tr>\n",
       "      <th>23</th>\n",
       "      <td>ನಾಳೆ ಶಾಲೆಗೆ ಹೋಗುವೆನು.</td>\n",
       "      <td>ನಾಳೆ ಶಾಲೆಗೆ ಹೋಗಿದ್ದೆ.</td>\n",
       "    </tr>\n",
       "    <tr>\n",
       "      <th>24</th>\n",
       "      <td>ನಾಳೆ ಶಾಲೆಗೆ ಹೋಗುವೆನು.</td>\n",
       "      <td>ನಾಳೆ ಶಾಲೆಗೆ ಹೋಗಿದ್ದಾರೆ.</td>\n",
       "    </tr>\n",
       "    <tr>\n",
       "      <th>25</th>\n",
       "      <td>ಅವಳು ಶಾಲೆಗೆ ಹೋದಳು.</td>\n",
       "      <td>ಅವಳು ಶಾಲೆಗೆ ಹೋದನು.</td>\n",
       "    </tr>\n",
       "    <tr>\n",
       "      <th>26</th>\n",
       "      <td>ಅವಳು ಶಾಲೆಗೆ ಹೋದಳು.</td>\n",
       "      <td>ಅವಳು ಶಾಲೆಗೆ ಹೋದರು.</td>\n",
       "    </tr>\n",
       "    <tr>\n",
       "      <th>27</th>\n",
       "      <td>ಅವರು ಶಾಲೆಗೆ ಹೋದರು.</td>\n",
       "      <td>ಅವಳು ಶಾಲೆಗೆ ಹೋದರು.</td>\n",
       "    </tr>\n",
       "    <tr>\n",
       "      <th>28</th>\n",
       "      <td>ಅವರು ಶಾಲೆಗೆ ಹೋದರು.</td>\n",
       "      <td>ಅವನು ಶಾಲೆಗೆ ಹೋದರು.</td>\n",
       "    </tr>\n",
       "    <tr>\n",
       "      <th>29</th>\n",
       "      <td>ಅವರು ಶಾಲೆಗೆ ಹೋದರು.</td>\n",
       "      <td>ಅವರು ಶಾಲೆಗೆ ಹೋದನು.</td>\n",
       "    </tr>\n",
       "    <tr>\n",
       "      <th>...</th>\n",
       "      <td>...</td>\n",
       "      <td>...</td>\n",
       "    </tr>\n",
       "    <tr>\n",
       "      <th>909</th>\n",
       "      <td>ನೀವು ನಗರದಲ್ಲಿ ವಾಸಿಸುತ್ತಿದ್ದೀರಾ?</td>\n",
       "      <td>ನೀವು ನಗರದಲ್ಲಿ ವಾಸಿಸುತ್ತಿದ್ದೀರಾ!</td>\n",
       "    </tr>\n",
       "    <tr>\n",
       "      <th>910</th>\n",
       "      <td>ನೀವು ಪಕ್ಷಕ್ಕೆ ಬರುತ್ತಿದ್ದೀರಾ?</td>\n",
       "      <td>ನೀವು ಪಕ್ಷಕ್ಕೆ ಬರುತ್ತಿದ್ದೀರಾ.</td>\n",
       "    </tr>\n",
       "    <tr>\n",
       "      <th>911</th>\n",
       "      <td>ನೀವು ಪಕ್ಷಕ್ಕೆ ಬರುತ್ತಿದ್ದೀರಾ?</td>\n",
       "      <td>ನೀವು ಪಕ್ಷಕ್ಕೆ ಬರುತ್ತಿದ್ದೀರಾ!</td>\n",
       "    </tr>\n",
       "    <tr>\n",
       "      <th>912</th>\n",
       "      <td>ನೀವು ಪಕ್ಷಕ್ಕೆ ಬರುತ್ತಿದ್ದೀರಾ?</td>\n",
       "      <td>ನೀವು ಪಕ್ಷಕ್ಕೆ ಬರುತ್ತಿದ್ದೀರಾ</td>\n",
       "    </tr>\n",
       "    <tr>\n",
       "      <th>913</th>\n",
       "      <td>ನೀವು ಪಕ್ಷಕ್ಕೆ ಬರುತ್ತಿದ್ದೀರಾ?</td>\n",
       "      <td>ನೀವು ಪಕ್ಷಕ್ಕೆ ಬರುತ್ತಿದ್ದೀಯ?</td>\n",
       "    </tr>\n",
       "    <tr>\n",
       "      <th>914</th>\n",
       "      <td>ನೀವು ಪಕ್ಷಕ್ಕೆ ಬರುತ್ತಿದ್ದೀರಾ?</td>\n",
       "      <td>ನೀವು ಪಕ್ಷಕ್ಕೆ ಬರುತ್ತಿದ್ದಾನಾ?</td>\n",
       "    </tr>\n",
       "    <tr>\n",
       "      <th>915</th>\n",
       "      <td>ನೀವು ಪಕ್ಷಕ್ಕೆ ಬರುತ್ತಿದ್ದೀರಾ?</td>\n",
       "      <td>ನೀವು ಪಕ್ಷಕ್ಕೆ ಬರುತ್ತಿದ್ದಾಳಾ?</td>\n",
       "    </tr>\n",
       "    <tr>\n",
       "      <th>916</th>\n",
       "      <td>ನೀವು ಪಕ್ಷಕ್ಕೆ ಬರುತ್ತಿದ್ದೀರಾ?</td>\n",
       "      <td>ನೀವು ಪಕ್ಷಕ್ಕೆ ಬರುತ್ತಿದ್ದಾರಾ?</td>\n",
       "    </tr>\n",
       "    <tr>\n",
       "      <th>917</th>\n",
       "      <td>ನೀವು ಪಕ್ಷಕ್ಕೆ ಬರುತ್ತಿದ್ದೀರಾ?</td>\n",
       "      <td>ನೀನು ಪಕ್ಷಕ್ಕೆ ಬರುತ್ತಿದ್ದೀರಾ?</td>\n",
       "    </tr>\n",
       "    <tr>\n",
       "      <th>918</th>\n",
       "      <td>ನೀವು ಪಕ್ಷಕ್ಕೆ ಬರುತ್ತಿದ್ದೀರಾ?</td>\n",
       "      <td>ನೀನೇ ಪಕ್ಷಕ್ಕೆ ಬರುತ್ತಿದ್ದೀರಾ?</td>\n",
       "    </tr>\n",
       "    <tr>\n",
       "      <th>919</th>\n",
       "      <td>ನೀವು ಪಕ್ಷಕ್ಕೆ ಬರುತ್ತಿದ್ದೀರಾ?</td>\n",
       "      <td>ನಾನು ಪಕ್ಷಕ್ಕೆ ಬರುತ್ತಿದ್ದೀರಾ?</td>\n",
       "    </tr>\n",
       "    <tr>\n",
       "      <th>920</th>\n",
       "      <td>ನೀವು ಪಕ್ಷಕ್ಕೆ ಬರುತ್ತಿದ್ದೀರಾ?</td>\n",
       "      <td>ಅವನು ಪಕ್ಷಕ್ಕೆ ಬರುತ್ತಿದ್ದೀರಾ?</td>\n",
       "    </tr>\n",
       "    <tr>\n",
       "      <th>921</th>\n",
       "      <td>ನೀವು ಪಕ್ಷಕ್ಕೆ ಬರುತ್ತಿದ್ದೀರಾ?</td>\n",
       "      <td>ಅವಳು ಪಕ್ಷಕ್ಕೆ ಬರುತ್ತಿದ್ದೀರಾ?</td>\n",
       "    </tr>\n",
       "    <tr>\n",
       "      <th>922</th>\n",
       "      <td>ನೀವು ಪಕ್ಷಕ್ಕೆ ಬರುತ್ತಿದ್ದೀರಾ?</td>\n",
       "      <td>ಅವರು ಪಕ್ಷಕ್ಕೆ ಬರುತ್ತಿದ್ದೀರಾ?</td>\n",
       "    </tr>\n",
       "    <tr>\n",
       "      <th>923</th>\n",
       "      <td>ನೀವು ಪಕ್ಷಕ್ಕೆ ಬರುತ್ತಿದ್ದೀರಾ?</td>\n",
       "      <td>ಅದು ಪಕ್ಷಕ್ಕೆ ಬರುತ್ತಿದ್ದೀರಾ?</td>\n",
       "    </tr>\n",
       "    <tr>\n",
       "      <th>924</th>\n",
       "      <td>ಏನು ಅದ್ಭುತ ಕಲ್ಪನೆ!</td>\n",
       "      <td>ಏನು ಅದ್ಭುತ ಕಲ್ಪನೆ</td>\n",
       "    </tr>\n",
       "    <tr>\n",
       "      <th>925</th>\n",
       "      <td>ಏನು ಅದ್ಭುತ ಕಲ್ಪನೆ!</td>\n",
       "      <td>ಏನು ಅದ್ಭುತ ಕಲ್ಪನೆ.</td>\n",
       "    </tr>\n",
       "    <tr>\n",
       "      <th>926</th>\n",
       "      <td>ಏನು ಅದ್ಭುತ ಕಲ್ಪನೆ!</td>\n",
       "      <td>ಏನು ಅದ್ಭುತ ಕಲ್ಪನೆ?</td>\n",
       "    </tr>\n",
       "    <tr>\n",
       "      <th>927</th>\n",
       "      <td>ಎಷ್ಟು ಸುಂದರ!</td>\n",
       "      <td>ಎಷ್ಟು ಸುಂದರ.</td>\n",
       "    </tr>\n",
       "    <tr>\n",
       "      <th>928</th>\n",
       "      <td>ಎಷ್ಟು ಸುಂದರ!</td>\n",
       "      <td>ಎಷ್ಟು ಸುಂದರ?</td>\n",
       "    </tr>\n",
       "    <tr>\n",
       "      <th>929</th>\n",
       "      <td>ಎಷ್ಟು ಸುಂದರ!</td>\n",
       "      <td>ಎಷ್ಟು ಸುಂದರ</td>\n",
       "    </tr>\n",
       "    <tr>\n",
       "      <th>930</th>\n",
       "      <td>ಎಷ್ಟು ವಿಶೇಷ!</td>\n",
       "      <td>ಎಷ್ಟು ವಿಶೇಷ.</td>\n",
       "    </tr>\n",
       "    <tr>\n",
       "      <th>931</th>\n",
       "      <td>ಎಷ್ಟು ವಿಶೇಷ!</td>\n",
       "      <td>ಎಷ್ಟು ವಿಶೇಷ?</td>\n",
       "    </tr>\n",
       "    <tr>\n",
       "      <th>932</th>\n",
       "      <td>ಎಷ್ಟು ವಿಶೇಷ!</td>\n",
       "      <td>ಎಷ್ಟು ವಿಶೇಷ</td>\n",
       "    </tr>\n",
       "    <tr>\n",
       "      <th>933</th>\n",
       "      <td>ಎಷ್ಟು ಅದ್ಭುತವಾಗಿದೆ!</td>\n",
       "      <td>ಎಷ್ಟು ಅದ್ಭುತವಾಗಿದೆ.</td>\n",
       "    </tr>\n",
       "    <tr>\n",
       "      <th>934</th>\n",
       "      <td>ಎಷ್ಟು ಅದ್ಭುತವಾಗಿದೆ!</td>\n",
       "      <td>ಎಷ್ಟು ಅದ್ಭುತವಾಗಿದೆ?</td>\n",
       "    </tr>\n",
       "    <tr>\n",
       "      <th>935</th>\n",
       "      <td>ಎಷ್ಟು ಅದ್ಭುತವಾಗಿದೆ!</td>\n",
       "      <td>ಎಷ್ಟು ಅದ್ಭುತವಾಗಿದೆ</td>\n",
       "    </tr>\n",
       "    <tr>\n",
       "      <th>936</th>\n",
       "      <td>ಎಂಥಾ ವಿಚಿತ್ರ!</td>\n",
       "      <td>ಎಂಥಾ ವಿಚಿತ್ರ</td>\n",
       "    </tr>\n",
       "    <tr>\n",
       "      <th>937</th>\n",
       "      <td>ಎಂಥಾ ವಿಚಿತ್ರ!</td>\n",
       "      <td>ಎಂಥಾ ವಿಚಿತ್ರ?</td>\n",
       "    </tr>\n",
       "    <tr>\n",
       "      <th>938</th>\n",
       "      <td>ಎಂಥಾ ವಿಚಿತ್ರ!</td>\n",
       "      <td>ಎಂಥಾ ವಿಚಿತ್ರ.</td>\n",
       "    </tr>\n",
       "  </tbody>\n",
       "</table>\n",
       "<p>939 rows × 2 columns</p>\n",
       "</div>"
      ],
      "text/plain": [
       "                                  correct  \\\n",
       "0                 ಅವಳು ಏನು ಮಾಡುತ್ತಿದ್ದಳು?   \n",
       "1                 ಅವನು ಏನು ಮಾಡುತ್ತಿದ್ದನು?   \n",
       "2                    ಅವಳು ಏನು ಬಯಸುತ್ತಾಳೆ?   \n",
       "3                    ಅವನು ಏನು ಬಯಸುತ್ತಾನೆ?   \n",
       "4    ಅವಳು ತನ್ನ ಪುಸ್ತಕವನ್ನು ಓದುತ್ತಿದ್ದಾಳೆ.   \n",
       "5    ಅವನು ತನ್ನ ಪುಸ್ತಕವನ್ನು ಓದುತ್ತಿದ್ದಾನೆ.   \n",
       "6        ಅವಳು  ಪುಸ್ತಕವನ್ನು ಓದುತ್ತಿದ್ದಾಳೆ.   \n",
       "7        ಅವಳು  ಪುಸ್ತಕವನ್ನು ಓದುತ್ತಿದ್ದಾಳೆ.   \n",
       "8        ಅವಳು  ಪುಸ್ತಕವನ್ನು ಓದುತ್ತಿದ್ದಾಳೆ.   \n",
       "9        ಅವಳು  ಪುಸ್ತಕವನ್ನು ಓದುತ್ತಿದ್ದಾಳೆ.   \n",
       "10            ಅವಳು ನಗರದಲ್ಲಿ ವಾಸಿಸುತ್ತಾಳೆ.   \n",
       "11            ಅವನು ನಗರದಲ್ಲಿ ವಾಸಿಸುತ್ತಾನೆ.   \n",
       "12            ಅವರು ನಗರದಲ್ಲಿ ವಾಸಿಸುತ್ತಾರೆ.   \n",
       "13            ಅವರು ನಗರದಲ್ಲಿ ವಾಸಿಸುತ್ತಾರೆ.   \n",
       "14                      ಅವರು ಊರಿಗೆ ಹೋದರು.   \n",
       "15                      ಅವರು ಊರಿಗೆ ಹೋದರು.   \n",
       "16                ರಾಮನು ಬೆಂಗಳೂರಿಗೆ ಹೋದನು.   \n",
       "17                ರಾಮನು ಬೆಂಗಳೂರಿಗೆ ಹೋದನು.   \n",
       "18         ರಾಮ ಲಕ್ಷ್ಮಣರು ಯುದ್ಧಕ್ಕೆ ಹೋದರು.   \n",
       "19         ರಾಮ ಲಕ್ಷ್ಮಣರು ಯುದ್ಧಕ್ಕೆ ಹೋದರು.   \n",
       "20                      ನಿನ್ನಾ ಹೆಸರು ಏನು?   \n",
       "21                      ನಿನ್ನಾ ಹೆಸರು ಏನು?   \n",
       "22                      ನಿನ್ನಾ ಹೆಸರು ಏನು?   \n",
       "23                  ನಾಳೆ ಶಾಲೆಗೆ ಹೋಗುವೆನು.   \n",
       "24                  ನಾಳೆ ಶಾಲೆಗೆ ಹೋಗುವೆನು.   \n",
       "25                     ಅವಳು ಶಾಲೆಗೆ ಹೋದಳು.   \n",
       "26                     ಅವಳು ಶಾಲೆಗೆ ಹೋದಳು.   \n",
       "27                     ಅವರು ಶಾಲೆಗೆ ಹೋದರು.   \n",
       "28                     ಅವರು ಶಾಲೆಗೆ ಹೋದರು.   \n",
       "29                     ಅವರು ಶಾಲೆಗೆ ಹೋದರು.   \n",
       "..                                    ...   \n",
       "909       ನೀವು ನಗರದಲ್ಲಿ ವಾಸಿಸುತ್ತಿದ್ದೀರಾ?   \n",
       "910          ನೀವು ಪಕ್ಷಕ್ಕೆ ಬರುತ್ತಿದ್ದೀರಾ?   \n",
       "911          ನೀವು ಪಕ್ಷಕ್ಕೆ ಬರುತ್ತಿದ್ದೀರಾ?   \n",
       "912          ನೀವು ಪಕ್ಷಕ್ಕೆ ಬರುತ್ತಿದ್ದೀರಾ?   \n",
       "913          ನೀವು ಪಕ್ಷಕ್ಕೆ ಬರುತ್ತಿದ್ದೀರಾ?   \n",
       "914          ನೀವು ಪಕ್ಷಕ್ಕೆ ಬರುತ್ತಿದ್ದೀರಾ?   \n",
       "915          ನೀವು ಪಕ್ಷಕ್ಕೆ ಬರುತ್ತಿದ್ದೀರಾ?   \n",
       "916          ನೀವು ಪಕ್ಷಕ್ಕೆ ಬರುತ್ತಿದ್ದೀರಾ?   \n",
       "917          ನೀವು ಪಕ್ಷಕ್ಕೆ ಬರುತ್ತಿದ್ದೀರಾ?   \n",
       "918          ನೀವು ಪಕ್ಷಕ್ಕೆ ಬರುತ್ತಿದ್ದೀರಾ?   \n",
       "919          ನೀವು ಪಕ್ಷಕ್ಕೆ ಬರುತ್ತಿದ್ದೀರಾ?   \n",
       "920          ನೀವು ಪಕ್ಷಕ್ಕೆ ಬರುತ್ತಿದ್ದೀರಾ?   \n",
       "921          ನೀವು ಪಕ್ಷಕ್ಕೆ ಬರುತ್ತಿದ್ದೀರಾ?   \n",
       "922          ನೀವು ಪಕ್ಷಕ್ಕೆ ಬರುತ್ತಿದ್ದೀರಾ?   \n",
       "923          ನೀವು ಪಕ್ಷಕ್ಕೆ ಬರುತ್ತಿದ್ದೀರಾ?   \n",
       "924                    ಏನು ಅದ್ಭುತ ಕಲ್ಪನೆ!   \n",
       "925                    ಏನು ಅದ್ಭುತ ಕಲ್ಪನೆ!   \n",
       "926                    ಏನು ಅದ್ಭುತ ಕಲ್ಪನೆ!   \n",
       "927                          ಎಷ್ಟು ಸುಂದರ!   \n",
       "928                          ಎಷ್ಟು ಸುಂದರ!   \n",
       "929                          ಎಷ್ಟು ಸುಂದರ!   \n",
       "930                          ಎಷ್ಟು ವಿಶೇಷ!   \n",
       "931                          ಎಷ್ಟು ವಿಶೇಷ!   \n",
       "932                          ಎಷ್ಟು ವಿಶೇಷ!   \n",
       "933                   ಎಷ್ಟು ಅದ್ಭುತವಾಗಿದೆ!   \n",
       "934                   ಎಷ್ಟು ಅದ್ಭುತವಾಗಿದೆ!   \n",
       "935                   ಎಷ್ಟು ಅದ್ಭುತವಾಗಿದೆ!   \n",
       "936                         ಎಂಥಾ ವಿಚಿತ್ರ!   \n",
       "937                         ಎಂಥಾ ವಿಚಿತ್ರ!   \n",
       "938                         ಎಂಥಾ ವಿಚಿತ್ರ!   \n",
       "\n",
       "                                    wrong  \n",
       "0                 ಅವಳು ಏನು ಮಾಡುತ್ತಿದ್ದನು?  \n",
       "1                 ಅವನು ಏನು ಮಾಡುತ್ತಿದ್ದಳು?  \n",
       "2                    ಅವಳು ಏನು ಬಯಸುತ್ತಾನೆ?  \n",
       "3                    ಅವನು ಏನು ಬಯಸುತ್ತಾಳೆ?  \n",
       "4    ಅವಳು ತನ್ನ ಪುಸ್ತಕವನ್ನು ಓದುತ್ತಿದ್ದಾನೆ.  \n",
       "5    ಅವನು ತನ್ನ ಪುಸ್ತಕವನ್ನು ಓದುತ್ತಿದ್ದಾಳೆ.  \n",
       "6         ಅವಳು ಪುಸ್ತಕವನ್ನು ಓದುತ್ತಿದ್ದಾನೆ.  \n",
       "7         ಅವಳು ಪುಸ್ತಕವನ್ನು ಓದುತ್ತಿದ್ದಾರೆ.  \n",
       "8         ಅವರು ಪುಸ್ತಕವನ್ನು ಓದುತ್ತಿದ್ದಾಳೆ?  \n",
       "9         ಅವನು ಪುಸ್ತಕವನ್ನು ಓದುತ್ತಿದ್ದಾಳೆ?  \n",
       "10            ಅವಳು ನಗರದಲ್ಲಿ ವಾಸಿಸುತ್ತಾನೆ.  \n",
       "11            ಅವನು ನಗರದಲ್ಲಿ ವಾಸಿಸುತ್ತಾಳೆ.  \n",
       "12            ಅವರು ನಗರದಲ್ಲಿ ವಾಸಿಸುತ್ತಾಳೆ.  \n",
       "13            ಅವರು ನಗರದಲ್ಲಿ ವಾಸಿಸುತ್ತಾನೆ?  \n",
       "14                      ಅವನು ಊರಿಗೆ ಹೋದರು.  \n",
       "15                      ಅವಳು ಊರಿಗೆ ಹೋದರು.  \n",
       "16                ರಾಮನು ಬೆಂಗಳೂರಿಗೆ ಹೋದಳು.  \n",
       "17                ರಾಮನು ಬೆಂಗಳೂರಿಗೆ ಹೋದಳು?  \n",
       "18         ರಾಮ ಲಕ್ಷ್ಮಣರು ಯುದ್ಧಕ್ಕೆ ಹೋದನು.  \n",
       "19         ರಾಮ ಲಕ್ಷ್ಮಣರು ಯುದ್ಧಕ್ಕೆ ಹೋದಳು.  \n",
       "20                      ನಿನ್ನಾ ಹೆಸರು ಏನು!  \n",
       "21                      ನಿನ್ನಾ ಹೆಸರು ಏನು.  \n",
       "22                   ನಿನ್ನಾ ಹೆಸರು ಯಾವುದು?  \n",
       "23                  ನಾಳೆ ಶಾಲೆಗೆ ಹೋಗಿದ್ದೆ.  \n",
       "24                ನಾಳೆ ಶಾಲೆಗೆ ಹೋಗಿದ್ದಾರೆ.  \n",
       "25                     ಅವಳು ಶಾಲೆಗೆ ಹೋದನು.  \n",
       "26                     ಅವಳು ಶಾಲೆಗೆ ಹೋದರು.  \n",
       "27                     ಅವಳು ಶಾಲೆಗೆ ಹೋದರು.  \n",
       "28                     ಅವನು ಶಾಲೆಗೆ ಹೋದರು.  \n",
       "29                     ಅವರು ಶಾಲೆಗೆ ಹೋದನು.  \n",
       "..                                    ...  \n",
       "909       ನೀವು ನಗರದಲ್ಲಿ ವಾಸಿಸುತ್ತಿದ್ದೀರಾ!  \n",
       "910          ನೀವು ಪಕ್ಷಕ್ಕೆ ಬರುತ್ತಿದ್ದೀರಾ.  \n",
       "911          ನೀವು ಪಕ್ಷಕ್ಕೆ ಬರುತ್ತಿದ್ದೀರಾ!  \n",
       "912           ನೀವು ಪಕ್ಷಕ್ಕೆ ಬರುತ್ತಿದ್ದೀರಾ  \n",
       "913           ನೀವು ಪಕ್ಷಕ್ಕೆ ಬರುತ್ತಿದ್ದೀಯ?  \n",
       "914          ನೀವು ಪಕ್ಷಕ್ಕೆ ಬರುತ್ತಿದ್ದಾನಾ?  \n",
       "915          ನೀವು ಪಕ್ಷಕ್ಕೆ ಬರುತ್ತಿದ್ದಾಳಾ?  \n",
       "916          ನೀವು ಪಕ್ಷಕ್ಕೆ ಬರುತ್ತಿದ್ದಾರಾ?  \n",
       "917          ನೀನು ಪಕ್ಷಕ್ಕೆ ಬರುತ್ತಿದ್ದೀರಾ?  \n",
       "918          ನೀನೇ ಪಕ್ಷಕ್ಕೆ ಬರುತ್ತಿದ್ದೀರಾ?  \n",
       "919          ನಾನು ಪಕ್ಷಕ್ಕೆ ಬರುತ್ತಿದ್ದೀರಾ?  \n",
       "920          ಅವನು ಪಕ್ಷಕ್ಕೆ ಬರುತ್ತಿದ್ದೀರಾ?  \n",
       "921          ಅವಳು ಪಕ್ಷಕ್ಕೆ ಬರುತ್ತಿದ್ದೀರಾ?  \n",
       "922          ಅವರು ಪಕ್ಷಕ್ಕೆ ಬರುತ್ತಿದ್ದೀರಾ?  \n",
       "923           ಅದು ಪಕ್ಷಕ್ಕೆ ಬರುತ್ತಿದ್ದೀರಾ?  \n",
       "924                     ಏನು ಅದ್ಭುತ ಕಲ್ಪನೆ  \n",
       "925                    ಏನು ಅದ್ಭುತ ಕಲ್ಪನೆ.  \n",
       "926                    ಏನು ಅದ್ಭುತ ಕಲ್ಪನೆ?  \n",
       "927                          ಎಷ್ಟು ಸುಂದರ.  \n",
       "928                          ಎಷ್ಟು ಸುಂದರ?  \n",
       "929                           ಎಷ್ಟು ಸುಂದರ  \n",
       "930                          ಎಷ್ಟು ವಿಶೇಷ.  \n",
       "931                          ಎಷ್ಟು ವಿಶೇಷ?  \n",
       "932                           ಎಷ್ಟು ವಿಶೇಷ  \n",
       "933                   ಎಷ್ಟು ಅದ್ಭುತವಾಗಿದೆ.  \n",
       "934                   ಎಷ್ಟು ಅದ್ಭುತವಾಗಿದೆ?  \n",
       "935                    ಎಷ್ಟು ಅದ್ಭುತವಾಗಿದೆ  \n",
       "936                          ಎಂಥಾ ವಿಚಿತ್ರ  \n",
       "937                         ಎಂಥಾ ವಿಚಿತ್ರ?  \n",
       "938                         ಎಂಥಾ ವಿಚಿತ್ರ.  \n",
       "\n",
       "[939 rows x 2 columns]"
      ]
     },
     "execution_count": 3,
     "metadata": {},
     "output_type": "execute_result"
    }
   ],
   "source": [
    "lines.shape\n",
    "lines"
   ]
  },
  {
   "cell_type": "code",
   "execution_count": null,
   "metadata": {},
   "outputs": [],
   "source": []
  },
  {
   "cell_type": "code",
   "execution_count": 4,
   "metadata": {},
   "outputs": [],
   "source": [
    "# Remove quotes\n",
    "lines.correct=lines.correct.apply(lambda x: re.sub(\"'\", '', x))\n",
    "lines.wrong=lines.wrong.apply(lambda x: re.sub(\"'\", '', x))"
   ]
  },
  {
   "cell_type": "code",
   "execution_count": null,
   "metadata": {},
   "outputs": [],
   "source": []
  },
  {
   "cell_type": "code",
   "execution_count": 5,
   "metadata": {},
   "outputs": [],
   "source": [
    "# Remove all numbers from text\n",
    "#remove_digits = str.maketrans('', '', digits)\n",
    "lines.correct=lines.correct.apply(lambda x: re.sub(\"[೦೧೨೩೪೫೬೭೮೯]\", \"\", x))\n",
    "lines.wrong = lines.wrong.apply(lambda x: re.sub(\"[೦೧೨೩೪೫೬೭೮೯]\", \"\", x))"
   ]
  },
  {
   "cell_type": "code",
   "execution_count": 6,
   "metadata": {},
   "outputs": [],
   "source": [
    "# Remove extra spaces\n",
    "lines.correct=lines.correct.apply(lambda x: x.strip())\n",
    "lines.wrong=lines.wrong.apply(lambda x: x.strip())\n",
    "lines.correct=lines.correct.apply(lambda x: re.sub(\" +\", \" \", x))\n",
    "lines.wrong=lines.wrong.apply(lambda x: re.sub(\" +\", \" \", x))\n",
    "lines.correct=lines.correct.apply(lambda x: re.sub(r\"([?.!,¿])\", r\" \\1 \", x))\n",
    "lines.wrong=lines.wrong.apply(lambda x: re.sub(r\"([?.!,¿])\", r\" \\1 \", x))"
   ]
  },
  {
   "cell_type": "code",
   "execution_count": 7,
   "metadata": {},
   "outputs": [],
   "source": [
    "# Add start and end tokens to target sequences\n",
    "lines.correct = lines.correct.apply(lambda x : 'START_ '+ x + ' _END')"
   ]
  },
  {
   "cell_type": "code",
   "execution_count": 8,
   "metadata": {},
   "outputs": [
    {
     "data": {
      "text/html": [
       "<div>\n",
       "<style scoped>\n",
       "    .dataframe tbody tr th:only-of-type {\n",
       "        vertical-align: middle;\n",
       "    }\n",
       "\n",
       "    .dataframe tbody tr th {\n",
       "        vertical-align: top;\n",
       "    }\n",
       "\n",
       "    .dataframe thead th {\n",
       "        text-align: right;\n",
       "    }\n",
       "</style>\n",
       "<table border=\"1\" class=\"dataframe\">\n",
       "  <thead>\n",
       "    <tr style=\"text-align: right;\">\n",
       "      <th></th>\n",
       "      <th>correct</th>\n",
       "      <th>wrong</th>\n",
       "    </tr>\n",
       "  </thead>\n",
       "  <tbody>\n",
       "    <tr>\n",
       "      <th>706</th>\n",
       "      <td>START_ ನಿಮ್ಮ ರಜದಿನ ಹೇಗಿತ್ತು ?  _END</td>\n",
       "      <td>ನಿಮ್ಮ ರಜದಿನ ಹೇಗಿತ್ತು .</td>\n",
       "    </tr>\n",
       "    <tr>\n",
       "      <th>741</th>\n",
       "      <td>START_ ನಾನು ಇದನ್ನು ಎಲ್ಲಿ ಬಿಡಬಹುದು ?  _END</td>\n",
       "      <td>ನಾನು ಇದನ್ನು ಎಲ್ಲಿ ಬಿಡಬಹುದು !</td>\n",
       "    </tr>\n",
       "    <tr>\n",
       "      <th>422</th>\n",
       "      <td>START_ ಮನೆಯಲ್ಲಿ ಅನೇಕ ಇಲಿಗಳು ಇವೆ .  _END</td>\n",
       "      <td>ಮನೆಯಲ್ಲಿ ಅನೇಕ ಇಲಿ ಇದಾನೆ .</td>\n",
       "    </tr>\n",
       "    <tr>\n",
       "      <th>801</th>\n",
       "      <td>START_ ಭೂಮಿಯ ಮೇಲೆ ಅನೇಕ ಜ್ವಾಲಾಮುಖಿಗಳು ಇವೆ .  _END</td>\n",
       "      <td>ಭೂಮಿಯ ಮೇಲೆ ಅನೇಕ ಜ್ವಾಲಾಮುಖಿಗಳು ಇದ್ದಾಳೆ .</td>\n",
       "    </tr>\n",
       "    <tr>\n",
       "      <th>832</th>\n",
       "      <td>START_ ಅವರು ದೂರದರ್ಶನವನ್ನು ವೀಕ್ಷಿಸುತ್ತಿದ್ದಾರೆ ....</td>\n",
       "      <td>ಅವನು ದೂರದರ್ಶನವನ್ನು ವೀಕ್ಷಿಸುತ್ತಿದ್ದಾರೆ .</td>\n",
       "    </tr>\n",
       "    <tr>\n",
       "      <th>183</th>\n",
       "      <td>START_ ಅಜ್ಜಿ ಈಗ ಮಲಿಗಿದ್ದಾರೆ .  _END</td>\n",
       "      <td>ಅಜ್ಜಿ ಈಗ ಮಲಿಗಿದ್ದನು .</td>\n",
       "    </tr>\n",
       "    <tr>\n",
       "      <th>598</th>\n",
       "      <td>START_ ಅವನು ಅನೇಕ ದೇಶಗಳನ್ನು ಭೇಟಿ ಮಾಡುತ್ತಾನೆ .  ...</td>\n",
       "      <td>ಅವನು ಅನೇಕ ದೇಶಗಳನ್ನು ಭೇಟಿ ಮಾಡುತ್ತೆ .</td>\n",
       "    </tr>\n",
       "    <tr>\n",
       "      <th>772</th>\n",
       "      <td>START_ ಅವನು ಬೆಕ್ಕುಗಳು ಮತ್ತು ನಾಯಿಗಳನ್ನು ಇಷ್ಟಪಡು...</td>\n",
       "      <td>ನಾನು ಬೆಕ್ಕುಗಳು ಮತ್ತು ನಾಯಿಗಳನ್ನು ಇಷ್ಟಪಡುತ್ತಾನೆ .</td>\n",
       "    </tr>\n",
       "    <tr>\n",
       "      <th>345</th>\n",
       "      <td>START_ ಅಭಿನಂದನೆಗಳು !  _END</td>\n",
       "      <td>ಅಭಿನಂದನೆಗಳು ?</td>\n",
       "    </tr>\n",
       "    <tr>\n",
       "      <th>794</th>\n",
       "      <td>START_ ಅವಳು ಉತ್ತಮ ಫೋಟೋಗಳನ್ನು ಕ್ಲಿಕ್ ಮಾಡುತ್ತಾಳೆ...</td>\n",
       "      <td>ಅವಳು ಉತ್ತಮ ಫೋಟೋಗಳನ್ನು ಕ್ಲಿಕ್ ಮಾಡುತ್ತೇನೆ .</td>\n",
       "    </tr>\n",
       "  </tbody>\n",
       "</table>\n",
       "</div>"
      ],
      "text/plain": [
       "                                               correct  \\\n",
       "706                START_ ನಿಮ್ಮ ರಜದಿನ ಹೇಗಿತ್ತು ?  _END   \n",
       "741          START_ ನಾನು ಇದನ್ನು ಎಲ್ಲಿ ಬಿಡಬಹುದು ?  _END   \n",
       "422            START_ ಮನೆಯಲ್ಲಿ ಅನೇಕ ಇಲಿಗಳು ಇವೆ .  _END   \n",
       "801   START_ ಭೂಮಿಯ ಮೇಲೆ ಅನೇಕ ಜ್ವಾಲಾಮುಖಿಗಳು ಇವೆ .  _END   \n",
       "832  START_ ಅವರು ದೂರದರ್ಶನವನ್ನು ವೀಕ್ಷಿಸುತ್ತಿದ್ದಾರೆ ....   \n",
       "183                START_ ಅಜ್ಜಿ ಈಗ ಮಲಿಗಿದ್ದಾರೆ .  _END   \n",
       "598  START_ ಅವನು ಅನೇಕ ದೇಶಗಳನ್ನು ಭೇಟಿ ಮಾಡುತ್ತಾನೆ .  ...   \n",
       "772  START_ ಅವನು ಬೆಕ್ಕುಗಳು ಮತ್ತು ನಾಯಿಗಳನ್ನು ಇಷ್ಟಪಡು...   \n",
       "345                         START_ ಅಭಿನಂದನೆಗಳು !  _END   \n",
       "794  START_ ಅವಳು ಉತ್ತಮ ಫೋಟೋಗಳನ್ನು ಕ್ಲಿಕ್ ಮಾಡುತ್ತಾಳೆ...   \n",
       "\n",
       "                                                wrong  \n",
       "706                           ನಿಮ್ಮ ರಜದಿನ ಹೇಗಿತ್ತು .   \n",
       "741                     ನಾನು ಇದನ್ನು ಎಲ್ಲಿ ಬಿಡಬಹುದು !   \n",
       "422                        ಮನೆಯಲ್ಲಿ ಅನೇಕ ಇಲಿ ಇದಾನೆ .   \n",
       "801          ಭೂಮಿಯ ಮೇಲೆ ಅನೇಕ ಜ್ವಾಲಾಮುಖಿಗಳು ಇದ್ದಾಳೆ .   \n",
       "832          ಅವನು ದೂರದರ್ಶನವನ್ನು ವೀಕ್ಷಿಸುತ್ತಿದ್ದಾರೆ .   \n",
       "183                            ಅಜ್ಜಿ ಈಗ ಮಲಿಗಿದ್ದನು .   \n",
       "598              ಅವನು ಅನೇಕ ದೇಶಗಳನ್ನು ಭೇಟಿ ಮಾಡುತ್ತೆ .   \n",
       "772  ನಾನು ಬೆಕ್ಕುಗಳು ಮತ್ತು ನಾಯಿಗಳನ್ನು ಇಷ್ಟಪಡುತ್ತಾನೆ .   \n",
       "345                                    ಅಭಿನಂದನೆಗಳು ?   \n",
       "794        ಅವಳು ಉತ್ತಮ ಫೋಟೋಗಳನ್ನು ಕ್ಲಿಕ್ ಮಾಡುತ್ತೇನೆ .   "
      ]
     },
     "execution_count": 8,
     "metadata": {},
     "output_type": "execute_result"
    }
   ],
   "source": [
    "lines.sample(10)"
   ]
  },
  {
   "cell_type": "code",
   "execution_count": 9,
   "metadata": {},
   "outputs": [],
   "source": [
    "# Vocabulary of English\n",
    "all_correct_words=set()\n",
    "for correct in lines.correct:\n",
    "    for word in correct.split():\n",
    "        if word not in all_correct_words:\n",
    "            all_correct_words.add(word)\n",
    "\n",
    "# Vocabulary of French \n",
    "all_wrong_words=set()\n",
    "for wrong in lines.wrong:\n",
    "    for word in wrong.split():\n",
    "        if word not in all_wrong_words:\n",
    "            all_wrong_words.add(word)"
   ]
  },
  {
   "cell_type": "code",
   "execution_count": 10,
   "metadata": {},
   "outputs": [
    {
     "data": {
      "text/plain": [
       "12"
      ]
     },
     "execution_count": 10,
     "metadata": {},
     "output_type": "execute_result"
    }
   ],
   "source": [
    "# Max Length of source sequence\n",
    "lenght_list=[]\n",
    "for l in lines.wrong:\n",
    "    lenght_list.append(len(l.split(' ')))\n",
    "max_length_src = np.max(lenght_list)\n",
    "max_length_src"
   ]
  },
  {
   "cell_type": "code",
   "execution_count": 11,
   "metadata": {},
   "outputs": [
    {
     "data": {
      "text/plain": [
       "12"
      ]
     },
     "execution_count": 11,
     "metadata": {},
     "output_type": "execute_result"
    }
   ],
   "source": [
    "# Max Length of target sequence\n",
    "lenght_list=[]\n",
    "for l in lines.correct:\n",
    "    lenght_list.append(len(l.split(' ')))\n",
    "max_length_tar = np.max(lenght_list)\n",
    "max_length_tar"
   ]
  },
  {
   "cell_type": "code",
   "execution_count": 12,
   "metadata": {},
   "outputs": [
    {
     "data": {
      "text/plain": [
       "(757, 575)"
      ]
     },
     "execution_count": 12,
     "metadata": {},
     "output_type": "execute_result"
    }
   ],
   "source": [
    "input_words = sorted(list(all_wrong_words))\n",
    "target_words = sorted(list(all_correct_words))\n",
    "num_encoder_tokens = len(all_wrong_words)\n",
    "num_decoder_tokens = len(all_correct_words)\n",
    "num_encoder_tokens+=1\n",
    "num_encoder_tokens, num_decoder_tokens"
   ]
  },
  {
   "cell_type": "code",
   "execution_count": 13,
   "metadata": {},
   "outputs": [
    {
     "data": {
      "text/plain": [
       "576"
      ]
     },
     "execution_count": 13,
     "metadata": {},
     "output_type": "execute_result"
    }
   ],
   "source": [
    "num_decoder_tokens += 1 # For zero padding\n",
    "num_decoder_tokens"
   ]
  },
  {
   "cell_type": "code",
   "execution_count": 14,
   "metadata": {},
   "outputs": [],
   "source": [
    "input_token_index = dict([(word, i+1) for i, word in enumerate(input_words)])\n",
    "target_token_index = dict([(word, i+1) for i, word in enumerate(target_words)])"
   ]
  },
  {
   "cell_type": "code",
   "execution_count": 15,
   "metadata": {},
   "outputs": [],
   "source": [
    "reverse_input_char_index = dict((i, word) for word, i in input_token_index.items())\n",
    "reverse_target_char_index = dict((i, word) for word, i in target_token_index.items())"
   ]
  },
  {
   "cell_type": "code",
   "execution_count": 16,
   "metadata": {},
   "outputs": [
    {
     "data": {
      "text/html": [
       "<div>\n",
       "<style scoped>\n",
       "    .dataframe tbody tr th:only-of-type {\n",
       "        vertical-align: middle;\n",
       "    }\n",
       "\n",
       "    .dataframe tbody tr th {\n",
       "        vertical-align: top;\n",
       "    }\n",
       "\n",
       "    .dataframe thead th {\n",
       "        text-align: right;\n",
       "    }\n",
       "</style>\n",
       "<table border=\"1\" class=\"dataframe\">\n",
       "  <thead>\n",
       "    <tr style=\"text-align: right;\">\n",
       "      <th></th>\n",
       "      <th>correct</th>\n",
       "      <th>wrong</th>\n",
       "    </tr>\n",
       "  </thead>\n",
       "  <tbody>\n",
       "    <tr>\n",
       "      <th>429</th>\n",
       "      <td>START_ ಪ್ರಪಂಚದಲ್ಲಿ ಅನೇಕ ದೇಶಗಳು ಇವೆ .  _END</td>\n",
       "      <td>ಪ್ರಪಂಚದಲ್ಲಿ ಅನೇಕ ದೇಶಗಳು ಇದಾಳೆ .</td>\n",
       "    </tr>\n",
       "    <tr>\n",
       "      <th>824</th>\n",
       "      <td>START_ ಅವನು ಪ್ರತಿದಿನ ಶಾಲೆಗೆ ಹೋಗುತ್ತಾನೆ .  _END</td>\n",
       "      <td>ಅವರು ಪ್ರತಿದಿನ ಶಾಲೆಗೆ ಹೋಗುತ್ತಾನೆ .</td>\n",
       "    </tr>\n",
       "    <tr>\n",
       "      <th>106</th>\n",
       "      <td>START_ ಚೆಲುವೆಯರು ನಿಂತಿದ್ದರು .  _END</td>\n",
       "      <td>ಚೆಲುವೆ ನಿಂತಿದ್ದರು .</td>\n",
       "    </tr>\n",
       "    <tr>\n",
       "      <th>481</th>\n",
       "      <td>START_ ನನ್ನ ಹತ್ತಿರ ಅನೇಕ ನಾಯಿಗಳು ಇವೆ .  _END</td>\n",
       "      <td>ನನ್ನ ಹತ್ತಿರ ಅನೇಕ ನಾಯಿಗಳು ಇದೆ .</td>\n",
       "    </tr>\n",
       "    <tr>\n",
       "      <th>683</th>\n",
       "      <td>START_ ಕೋತಿಗಳು ಬಾಳೆಹಣ್ಣು ತಿನ್ನಲು ಇಷ್ಟಪಡುತ್ತವೆ ...</td>\n",
       "      <td>ಕೋತಿಗಳು ಬಾಳೆಹಣ್ಣು ತಿನ್ನಲು ಇಷ್ಟಪಡುತ್ತಾನೆ .</td>\n",
       "    </tr>\n",
       "    <tr>\n",
       "      <th>791</th>\n",
       "      <td>START_ ಅವಳು ಉತ್ತಮ ಫೋಟೋಗಳನ್ನು ಕ್ಲಿಕ್ ಮಾಡುತ್ತಾಳೆ...</td>\n",
       "      <td>ಅವಳು ಉತ್ತಮ ಫೋಟೋಗಳನ್ನು ಕ್ಲಿಕ್ ಮಾಡುತ್ತಾನೆ .</td>\n",
       "    </tr>\n",
       "    <tr>\n",
       "      <th>841</th>\n",
       "      <td>START_ ಭೂಮಿಯು ಸೂರ್ಯನ ಸುತ್ತ ಸುತ್ತುತ್ತದೆ .  _END</td>\n",
       "      <td>ಭೂಮಿಯು ಸೂರ್ಯನ ಸುತ್ತ ಸುತ್ತಿತು .</td>\n",
       "    </tr>\n",
       "    <tr>\n",
       "      <th>922</th>\n",
       "      <td>START_ ನೀವು ಪಕ್ಷಕ್ಕೆ ಬರುತ್ತಿದ್ದೀರಾ ?  _END</td>\n",
       "      <td>ಅವರು ಪಕ್ಷಕ್ಕೆ ಬರುತ್ತಿದ್ದೀರಾ ?</td>\n",
       "    </tr>\n",
       "    <tr>\n",
       "      <th>614</th>\n",
       "      <td>START_ ಎಷ್ಟು ಹುಡುಗಿಯರು ಇದ್ದಾರೆ ?  _END</td>\n",
       "      <td>ಎಷ್ಟು ಹುಡುಗಿಯರು ಇದೆ ?</td>\n",
       "    </tr>\n",
       "    <tr>\n",
       "      <th>530</th>\n",
       "      <td>START_ ಅವಳು ಹೂಗಳನ್ನು ಇಷ್ಟಪಡುತ್ತಾಳೆ .  _END</td>\n",
       "      <td>ಅದು ಹೂಗಳನ್ನು ಇಷ್ಟಪಡುತ್ತಾಳೆ .</td>\n",
       "    </tr>\n",
       "  </tbody>\n",
       "</table>\n",
       "</div>"
      ],
      "text/plain": [
       "                                               correct  \\\n",
       "429         START_ ಪ್ರಪಂಚದಲ್ಲಿ ಅನೇಕ ದೇಶಗಳು ಇವೆ .  _END   \n",
       "824     START_ ಅವನು ಪ್ರತಿದಿನ ಶಾಲೆಗೆ ಹೋಗುತ್ತಾನೆ .  _END   \n",
       "106                START_ ಚೆಲುವೆಯರು ನಿಂತಿದ್ದರು .  _END   \n",
       "481        START_ ನನ್ನ ಹತ್ತಿರ ಅನೇಕ ನಾಯಿಗಳು ಇವೆ .  _END   \n",
       "683  START_ ಕೋತಿಗಳು ಬಾಳೆಹಣ್ಣು ತಿನ್ನಲು ಇಷ್ಟಪಡುತ್ತವೆ ...   \n",
       "791  START_ ಅವಳು ಉತ್ತಮ ಫೋಟೋಗಳನ್ನು ಕ್ಲಿಕ್ ಮಾಡುತ್ತಾಳೆ...   \n",
       "841     START_ ಭೂಮಿಯು ಸೂರ್ಯನ ಸುತ್ತ ಸುತ್ತುತ್ತದೆ .  _END   \n",
       "922         START_ ನೀವು ಪಕ್ಷಕ್ಕೆ ಬರುತ್ತಿದ್ದೀರಾ ?  _END   \n",
       "614             START_ ಎಷ್ಟು ಹುಡುಗಿಯರು ಇದ್ದಾರೆ ?  _END   \n",
       "530         START_ ಅವಳು ಹೂಗಳನ್ನು ಇಷ್ಟಪಡುತ್ತಾಳೆ .  _END   \n",
       "\n",
       "                                          wrong  \n",
       "429            ಪ್ರಪಂಚದಲ್ಲಿ ಅನೇಕ ದೇಶಗಳು ಇದಾಳೆ .   \n",
       "824          ಅವರು ಪ್ರತಿದಿನ ಶಾಲೆಗೆ ಹೋಗುತ್ತಾನೆ .   \n",
       "106                        ಚೆಲುವೆ ನಿಂತಿದ್ದರು .   \n",
       "481             ನನ್ನ ಹತ್ತಿರ ಅನೇಕ ನಾಯಿಗಳು ಇದೆ .   \n",
       "683  ಕೋತಿಗಳು ಬಾಳೆಹಣ್ಣು ತಿನ್ನಲು ಇಷ್ಟಪಡುತ್ತಾನೆ .   \n",
       "791  ಅವಳು ಉತ್ತಮ ಫೋಟೋಗಳನ್ನು ಕ್ಲಿಕ್ ಮಾಡುತ್ತಾನೆ .   \n",
       "841             ಭೂಮಿಯು ಸೂರ್ಯನ ಸುತ್ತ ಸುತ್ತಿತು .   \n",
       "922              ಅವರು ಪಕ್ಷಕ್ಕೆ ಬರುತ್ತಿದ್ದೀರಾ ?   \n",
       "614                      ಎಷ್ಟು ಹುಡುಗಿಯರು ಇದೆ ?   \n",
       "530               ಅದು ಹೂಗಳನ್ನು ಇಷ್ಟಪಡುತ್ತಾಳೆ .   "
      ]
     },
     "execution_count": 16,
     "metadata": {},
     "output_type": "execute_result"
    }
   ],
   "source": [
    "lines = shuffle(lines)\n",
    "lines.head(10)"
   ]
  },
  {
   "cell_type": "code",
   "execution_count": 17,
   "metadata": {},
   "outputs": [
    {
     "data": {
      "text/plain": [
       "((751,), (188,))"
      ]
     },
     "execution_count": 17,
     "metadata": {},
     "output_type": "execute_result"
    }
   ],
   "source": [
    "# Train - Test Split\n",
    "X, y = lines.wrong, lines.correct\n",
    "X_train, X_test, y_train, y_test = train_test_split(X, y, test_size = 0.2)\n",
    "X_train.shape, X_test.shape"
   ]
  },
  {
   "cell_type": "markdown",
   "metadata": {},
   "source": [
    "#### Save the train and test dataframes for reproducing the results later, as they are shuffled."
   ]
  },
  {
   "cell_type": "code",
   "execution_count": 18,
   "metadata": {},
   "outputs": [],
   "source": [
    "X_train.to_pickle('Weights/X_train.pkl')\n",
    "X_test.to_pickle('Weights/X_test.pkl')\n",
    "y_train.to_pickle('Weights/y_train.pkl')\n",
    "y_test.to_pickle('Weights/y_test.pkl')"
   ]
  },
  {
   "cell_type": "code",
   "execution_count": 19,
   "metadata": {},
   "outputs": [],
   "source": [
    "def generate_batch(X = X_train, y = y_train, batch_size = 32):\n",
    "    ''' Generate a batch of data '''\n",
    "    while True:\n",
    "        for j in range(0, len(X), batch_size):\n",
    "            encoder_input_data = np.zeros((batch_size, max_length_src),dtype='float32')\n",
    "            decoder_input_data = np.zeros((batch_size, max_length_tar),dtype='float32')\n",
    "            decoder_target_data = np.zeros((batch_size, max_length_tar, num_decoder_tokens),dtype='float32')\n",
    "            for i, (input_text, target_text) in enumerate(zip(X[j:j+batch_size], y[j:j+batch_size])):\n",
    "                for t, word in enumerate(input_text.split()):\n",
    "                    encoder_input_data[i, t] = input_token_index[word] # encoder input seq\n",
    "                for t, word in enumerate(target_text.split()):\n",
    "                    if t<len(target_text.split())-1:\n",
    "                        decoder_input_data[i, t] = target_token_index[word] # decoder input seq\n",
    "                    if t>0:\n",
    "                        # decoder target sequence (one hot encoded)\n",
    "                        # does not include the START_ token\n",
    "                        # Offset by one timestep\n",
    "                        decoder_target_data[i, t - 1, target_token_index[word]] = 1.\n",
    "            yield([encoder_input_data, decoder_input_data], decoder_target_data)"
   ]
  },
  {
   "cell_type": "markdown",
   "metadata": {},
   "source": [
    "### Encoder - Decoder Model Architecture"
   ]
  },
  {
   "cell_type": "code",
   "execution_count": 20,
   "metadata": {},
   "outputs": [],
   "source": [
    "latent_dim = 50"
   ]
  },
  {
   "cell_type": "code",
   "execution_count": 21,
   "metadata": {},
   "outputs": [
    {
     "name": "stdout",
     "output_type": "stream",
     "text": [
      "WARNING:tensorflow:From C:\\Users\\Jayashree\\Anaconda3\\lib\\site-packages\\tensorflow\\python\\ops\\resource_variable_ops.py:435: colocate_with (from tensorflow.python.framework.ops) is deprecated and will be removed in a future version.\n",
      "Instructions for updating:\n",
      "Colocations handled automatically by placer.\n"
     ]
    }
   ],
   "source": [
    "# Encoder\n",
    "encoder_inputs = Input(shape=(None,))\n",
    "enc_emb =  Embedding(num_encoder_tokens, latent_dim, mask_zero = True)(encoder_inputs)\n",
    "encoder_lstm = LSTM(latent_dim, return_state=True)\n",
    "encoder_outputs, state_h, state_c = encoder_lstm(enc_emb)\n",
    "# We discard `encoder_outputs` and only keep the states.\n",
    "encoder_states = [state_h, state_c]"
   ]
  },
  {
   "cell_type": "code",
   "execution_count": 22,
   "metadata": {},
   "outputs": [],
   "source": [
    "# Set up the decoder, using `encoder_states` as initial state.\n",
    "decoder_inputs = Input(shape=(None,))\n",
    "dec_emb_layer = Embedding(num_decoder_tokens, latent_dim, mask_zero = True)\n",
    "dec_emb = dec_emb_layer(decoder_inputs)\n",
    "# We set up our decoder to return full output sequences,\n",
    "# and to return internal states as well. We don't use the\n",
    "# return states in the training model, but we will use them in inference.\n",
    "decoder_lstm = LSTM(latent_dim, return_sequences=True, return_state=True)\n",
    "decoder_outputs, _, _ = decoder_lstm(dec_emb,\n",
    "                                     initial_state=encoder_states)\n",
    "decoder_dense = Dense(num_decoder_tokens, activation='softmax')\n",
    "decoder_outputs = decoder_dense(decoder_outputs)\n",
    "\n",
    "# Define the model that will turn\n",
    "# `encoder_input_data` & `decoder_input_data` into `decoder_target_data`\n",
    "model = Model([encoder_inputs, decoder_inputs], decoder_outputs)"
   ]
  },
  {
   "cell_type": "code",
   "execution_count": 23,
   "metadata": {},
   "outputs": [],
   "source": [
    "model.compile(optimizer='rmsprop', loss='categorical_crossentropy', metrics=['acc'])"
   ]
  },
  {
   "cell_type": "code",
   "execution_count": null,
   "metadata": {},
   "outputs": [],
   "source": []
  },
  {
   "cell_type": "code",
   "execution_count": 24,
   "metadata": {},
   "outputs": [],
   "source": [
    "train_samples = len(X_train)\n",
    "val_samples = len(X_test)\n",
    "batch_size = 32\n",
    "epochs = 100"
   ]
  },
  {
   "cell_type": "code",
   "execution_count": 25,
   "metadata": {},
   "outputs": [
    {
     "name": "stdout",
     "output_type": "stream",
     "text": [
      "WARNING:tensorflow:From C:\\Users\\Jayashree\\Anaconda3\\lib\\site-packages\\tensorflow\\python\\ops\\math_ops.py:3066: to_int32 (from tensorflow.python.ops.math_ops) is deprecated and will be removed in a future version.\n",
      "Instructions for updating:\n",
      "Use tf.cast instead.\n",
      "WARNING:tensorflow:From C:\\Users\\Jayashree\\Anaconda3\\lib\\site-packages\\tensorflow\\python\\ops\\math_grad.py:102: div (from tensorflow.python.ops.math_ops) is deprecated and will be removed in a future version.\n",
      "Instructions for updating:\n",
      "Deprecated in favor of operator or tf.math.divide.\n",
      "Epoch 1/100\n",
      "23/23 [==============================] - 3s 114ms/step - loss: 2.7301 - acc: 0.1740 - val_loss: 2.2093 - val_acc: 0.1745\n",
      "Epoch 2/100\n",
      "23/23 [==============================] - 1s 29ms/step - loss: 2.0985 - acc: 0.1770 - val_loss: 2.1243 - val_acc: 0.1737\n",
      "Epoch 3/100\n",
      "23/23 [==============================] - 1s 36ms/step - loss: 2.0096 - acc: 0.1766 - val_loss: 2.3492 - val_acc: 0.1741\n",
      "Epoch 4/100\n",
      "23/23 [==============================] - 1s 40ms/step - loss: 1.9467 - acc: 0.1769 - val_loss: 2.0278 - val_acc: 0.1797\n",
      "Epoch 5/100\n",
      "23/23 [==============================] - 1s 41ms/step - loss: 1.8817 - acc: 0.1805 - val_loss: 2.0110 - val_acc: 0.1775\n",
      "Epoch 6/100\n",
      "23/23 [==============================] - 1s 41ms/step - loss: 1.8194 - acc: 0.2172 - val_loss: 1.5538 - val_acc: 0.2449\n",
      "Epoch 7/100\n",
      "23/23 [==============================] - 1s 41ms/step - loss: 1.7692 - acc: 0.2646 - val_loss: 1.7766 - val_acc: 0.2628\n",
      "Epoch 8/100\n",
      "23/23 [==============================] - 1s 42ms/step - loss: 1.7155 - acc: 0.2980 - val_loss: 1.8484 - val_acc: 0.3051\n",
      "Epoch 9/100\n",
      "23/23 [==============================] - 1s 39ms/step - loss: 1.6639 - acc: 0.3080 - val_loss: 2.0381 - val_acc: 0.3103\n",
      "Epoch 10/100\n",
      "23/23 [==============================] - 1s 41ms/step - loss: 1.6175 - acc: 0.3156 - val_loss: 1.8088 - val_acc: 0.3053\n",
      "Epoch 11/100\n",
      "23/23 [==============================] - 1s 41ms/step - loss: 1.5771 - acc: 0.3244 - val_loss: 1.7325 - val_acc: 0.3203\n",
      "Epoch 12/100\n",
      "23/23 [==============================] - 1s 40ms/step - loss: 1.5318 - acc: 0.3287 - val_loss: 1.3275 - val_acc: 0.3281\n",
      "Epoch 13/100\n",
      "23/23 [==============================] - 1s 40ms/step - loss: 1.4938 - acc: 0.3485 - val_loss: 1.5700 - val_acc: 0.3457\n",
      "Epoch 14/100\n",
      "23/23 [==============================] - 1s 37ms/step - loss: 1.4512 - acc: 0.3715 - val_loss: 1.6710 - val_acc: 0.3697\n",
      "Epoch 15/100\n",
      "23/23 [==============================] - 1s 31ms/step - loss: 1.4110 - acc: 0.3897 - val_loss: 1.8268 - val_acc: 0.3873\n",
      "Epoch 16/100\n",
      "23/23 [==============================] - 1s 32ms/step - loss: 1.3810 - acc: 0.4005 - val_loss: 1.6559 - val_acc: 0.4078\n",
      "Epoch 17/100\n",
      "23/23 [==============================] - 1s 33ms/step - loss: 1.3415 - acc: 0.4129 - val_loss: 1.5396 - val_acc: 0.4074\n",
      "Epoch 18/100\n",
      "23/23 [==============================] - 1s 30ms/step - loss: 1.3052 - acc: 0.4225 - val_loss: 1.1603 - val_acc: 0.4090\n",
      "Epoch 19/100\n",
      "23/23 [==============================] - 1s 30ms/step - loss: 1.2750 - acc: 0.4334 - val_loss: 1.4177 - val_acc: 0.4231\n",
      "Epoch 20/100\n",
      "23/23 [==============================] - 1s 30ms/step - loss: 1.2437 - acc: 0.4467 - val_loss: 1.5435 - val_acc: 0.4298\n",
      "Epoch 21/100\n",
      "23/23 [==============================] - 1s 38ms/step - loss: 1.2071 - acc: 0.4594 - val_loss: 1.6719 - val_acc: 0.4464\n",
      "Epoch 22/100\n",
      "23/23 [==============================] - 1s 28ms/step - loss: 1.1853 - acc: 0.4667 - val_loss: 1.5734 - val_acc: 0.4482\n",
      "Epoch 23/100\n",
      "23/23 [==============================] - 1s 27ms/step - loss: 1.1630 - acc: 0.4731 - val_loss: 1.4081 - val_acc: 0.4554\n",
      "Epoch 24/100\n",
      "23/23 [==============================] - 1s 28ms/step - loss: 1.1317 - acc: 0.4822 - val_loss: 1.0495 - val_acc: 0.4551\n",
      "Epoch 25/100\n",
      "23/23 [==============================] - 1s 27ms/step - loss: 1.1292 - acc: 0.4880 - val_loss: 1.2972 - val_acc: 0.4569\n",
      "Epoch 26/100\n",
      "23/23 [==============================] - 1s 26ms/step - loss: 1.0753 - acc: 0.5001 - val_loss: 1.4139 - val_acc: 0.4744\n",
      "Epoch 27/100\n",
      "23/23 [==============================] - 1s 29ms/step - loss: 1.0528 - acc: 0.5138 - val_loss: 1.5185 - val_acc: 0.4877\n",
      "Epoch 28/100\n",
      "23/23 [==============================] - 1s 32ms/step - loss: 1.0301 - acc: 0.5217 - val_loss: 1.4336 - val_acc: 0.4988\n",
      "Epoch 29/100\n",
      "23/23 [==============================] - 1s 32ms/step - loss: 1.0014 - acc: 0.5349 - val_loss: 1.2835 - val_acc: 0.5033\n",
      "Epoch 30/100\n",
      "23/23 [==============================] - 1s 29ms/step - loss: 0.9767 - acc: 0.5442 - val_loss: 0.9272 - val_acc: 0.5034\n",
      "Epoch 31/100\n",
      "23/23 [==============================] - 1s 30ms/step - loss: 0.9568 - acc: 0.5518 - val_loss: 1.1845 - val_acc: 0.5136\n",
      "Epoch 32/100\n",
      "23/23 [==============================] - 1s 35ms/step - loss: 0.9251 - acc: 0.5682 - val_loss: 1.3288 - val_acc: 0.5267\n",
      "Epoch 33/100\n",
      "23/23 [==============================] - 1s 32ms/step - loss: 0.9028 - acc: 0.5747 - val_loss: 1.4119 - val_acc: 0.5335\n",
      "Epoch 34/100\n",
      "23/23 [==============================] - 1s 34ms/step - loss: 0.8815 - acc: 0.5866 - val_loss: 1.3458 - val_acc: 0.5346\n",
      "Epoch 35/100\n",
      "23/23 [==============================] - 1s 31ms/step - loss: 0.8624 - acc: 0.5946 - val_loss: 1.1651 - val_acc: 0.5413\n",
      "Epoch 36/100\n",
      "23/23 [==============================] - 1s 29ms/step - loss: 0.8367 - acc: 0.6093 - val_loss: 0.8401 - val_acc: 0.5472\n",
      "Epoch 37/100\n",
      "23/23 [==============================] - 1s 32ms/step - loss: 0.8182 - acc: 0.6178 - val_loss: 1.0892 - val_acc: 0.5594\n",
      "Epoch 38/100\n",
      "23/23 [==============================] - 1s 28ms/step - loss: 0.7994 - acc: 0.6283 - val_loss: 1.2653 - val_acc: 0.5679\n",
      "Epoch 39/100\n",
      "23/23 [==============================] - 1s 29ms/step - loss: 0.7761 - acc: 0.6406 - val_loss: 1.3251 - val_acc: 0.5859\n",
      "Epoch 40/100\n",
      "23/23 [==============================] - 1s 32ms/step - loss: 0.7597 - acc: 0.6491 - val_loss: 1.2559 - val_acc: 0.5887\n",
      "Epoch 41/100\n",
      "23/23 [==============================] - 1s 31ms/step - loss: 0.7389 - acc: 0.6596 - val_loss: 1.0693 - val_acc: 0.5938\n",
      "Epoch 42/100\n",
      "23/23 [==============================] - 1s 28ms/step - loss: 0.7142 - acc: 0.6736 - val_loss: 0.7543 - val_acc: 0.6045\n",
      "Epoch 43/100\n",
      "23/23 [==============================] - 1s 29ms/step - loss: 0.6981 - acc: 0.6796 - val_loss: 0.9960 - val_acc: 0.6118\n",
      "Epoch 44/100\n",
      "23/23 [==============================] - 1s 31ms/step - loss: 0.6735 - acc: 0.6910 - val_loss: 1.2058 - val_acc: 0.6180\n",
      "Epoch 45/100\n",
      "23/23 [==============================] - 1s 29ms/step - loss: 0.6513 - acc: 0.7016 - val_loss: 1.2257 - val_acc: 0.6440\n",
      "Epoch 46/100\n",
      "23/23 [==============================] - 1s 29ms/step - loss: 0.6387 - acc: 0.7100 - val_loss: 1.1828 - val_acc: 0.6371\n",
      "Epoch 47/100\n",
      "23/23 [==============================] - 1s 27ms/step - loss: 0.6214 - acc: 0.7172 - val_loss: 0.9846 - val_acc: 0.6362\n",
      "Epoch 48/100\n",
      "23/23 [==============================] - 1s 31ms/step - loss: 0.6033 - acc: 0.7278 - val_loss: 0.6638 - val_acc: 0.6517\n",
      "Epoch 49/100\n",
      "23/23 [==============================] - 1s 30ms/step - loss: 0.5977 - acc: 0.7377 - val_loss: 0.9019 - val_acc: 0.6489\n",
      "Epoch 50/100\n",
      "23/23 [==============================] - 1s 31ms/step - loss: 0.5672 - acc: 0.7478 - val_loss: 1.1378 - val_acc: 0.6548\n",
      "Epoch 51/100\n",
      "23/23 [==============================] - 1s 29ms/step - loss: 0.5503 - acc: 0.7603 - val_loss: 1.1384 - val_acc: 0.6797\n",
      "Epoch 52/100\n",
      "23/23 [==============================] - 1s 28ms/step - loss: 0.5380 - acc: 0.7693 - val_loss: 1.1094 - val_acc: 0.6717\n",
      "Epoch 53/100\n",
      "23/23 [==============================] - 1s 34ms/step - loss: 0.5176 - acc: 0.7829 - val_loss: 0.8957 - val_acc: 0.6808\n",
      "Epoch 54/100\n",
      "23/23 [==============================] - 1s 28ms/step - loss: 0.4999 - acc: 0.7961 - val_loss: 0.6041 - val_acc: 0.6933\n",
      "Epoch 55/100\n",
      "23/23 [==============================] - 1s 28ms/step - loss: 0.4915 - acc: 0.7979 - val_loss: 0.8353 - val_acc: 0.6838\n",
      "Epoch 56/100\n",
      "23/23 [==============================] - 1s 28ms/step - loss: 0.4662 - acc: 0.8110 - val_loss: 1.0707 - val_acc: 0.6915\n",
      "Epoch 57/100\n",
      "23/23 [==============================] - 1s 26ms/step - loss: 0.4559 - acc: 0.8159 - val_loss: 1.0672 - val_acc: 0.7165\n",
      "Epoch 58/100\n"
     ]
    },
    {
     "name": "stdout",
     "output_type": "stream",
     "text": [
      "23/23 [==============================] - 1s 33ms/step - loss: 0.4451 - acc: 0.8222 - val_loss: 1.0362 - val_acc: 0.7016\n",
      "Epoch 59/100\n",
      "23/23 [==============================] - 1s 34ms/step - loss: 0.4313 - acc: 0.8287 - val_loss: 0.8276 - val_acc: 0.7042\n",
      "Epoch 60/100\n",
      "23/23 [==============================] - 1s 36ms/step - loss: 0.4144 - acc: 0.8358 - val_loss: 0.5443 - val_acc: 0.7202\n",
      "Epoch 61/100\n",
      "23/23 [==============================] - 1s 27ms/step - loss: 0.4027 - acc: 0.8430 - val_loss: 0.7814 - val_acc: 0.7186\n",
      "Epoch 62/100\n",
      "23/23 [==============================] - 1s 36ms/step - loss: 0.3927 - acc: 0.8439 - val_loss: 1.0174 - val_acc: 0.7361\n",
      "Epoch 63/100\n",
      "23/23 [==============================] - 1s 28ms/step - loss: 0.3787 - acc: 0.8539 - val_loss: 1.0269 - val_acc: 0.7400\n",
      "Epoch 64/100\n",
      "23/23 [==============================] - 1s 33ms/step - loss: 0.3686 - acc: 0.8571 - val_loss: 0.9987 - val_acc: 0.7304\n",
      "Epoch 65/100\n",
      "23/23 [==============================] - 1s 32ms/step - loss: 0.3591 - acc: 0.8622 - val_loss: 0.7768 - val_acc: 0.7388\n",
      "Epoch 66/100\n",
      "23/23 [==============================] - 1s 32ms/step - loss: 0.3433 - acc: 0.8683 - val_loss: 0.4789 - val_acc: 0.7438\n",
      "Epoch 67/100\n",
      "23/23 [==============================] - 1s 34ms/step - loss: 0.3371 - acc: 0.8712 - val_loss: 0.7284 - val_acc: 0.7361\n",
      "Epoch 68/100\n",
      "23/23 [==============================] - 1s 30ms/step - loss: 0.3201 - acc: 0.8780 - val_loss: 0.9650 - val_acc: 0.7528\n",
      "Epoch 69/100\n",
      "23/23 [==============================] - 1s 30ms/step - loss: 0.3105 - acc: 0.8820 - val_loss: 0.9804 - val_acc: 0.7612\n",
      "Epoch 70/100\n",
      "23/23 [==============================] - 1s 30ms/step - loss: 0.3059 - acc: 0.8812 - val_loss: 0.9485 - val_acc: 0.7442\n",
      "Epoch 71/100\n",
      "23/23 [==============================] - 1s 32ms/step - loss: 0.2957 - acc: 0.8898 - val_loss: 0.7200 - val_acc: 0.7522\n",
      "Epoch 72/100\n",
      "23/23 [==============================] - 1s 29ms/step - loss: 0.2867 - acc: 0.8933 - val_loss: 0.4304 - val_acc: 0.7674\n",
      "Epoch 73/100\n",
      "23/23 [==============================] - 1s 29ms/step - loss: 0.2846 - acc: 0.8966 - val_loss: 0.6995 - val_acc: 0.7557\n",
      "Epoch 74/100\n",
      "23/23 [==============================] - 1s 26ms/step - loss: 0.2704 - acc: 0.8985 - val_loss: 0.9162 - val_acc: 0.7739\n",
      "Epoch 75/100\n",
      "23/23 [==============================] - 1s 29ms/step - loss: 0.2599 - acc: 0.9050 - val_loss: 0.9500 - val_acc: 0.7746\n",
      "Epoch 76/100\n",
      "23/23 [==============================] - 1s 27ms/step - loss: 0.2556 - acc: 0.9053 - val_loss: 0.9146 - val_acc: 0.7673\n",
      "Epoch 77/100\n",
      "23/23 [==============================] - 1s 29ms/step - loss: 0.2444 - acc: 0.9101 - val_loss: 0.6683 - val_acc: 0.7801\n",
      "Epoch 78/100\n",
      "23/23 [==============================] - 1s 35ms/step - loss: 0.2356 - acc: 0.9124 - val_loss: 0.4034 - val_acc: 0.7719\n",
      "Epoch 79/100\n",
      "23/23 [==============================] - 1s 30ms/step - loss: 0.2336 - acc: 0.9147 - val_loss: 0.6654 - val_acc: 0.7677\n",
      "Epoch 80/100\n",
      "23/23 [==============================] - 1s 34ms/step - loss: 0.2195 - acc: 0.9210 - val_loss: 0.8718 - val_acc: 0.7918\n",
      "Epoch 81/100\n",
      "23/23 [==============================] - 1s 31ms/step - loss: 0.2155 - acc: 0.9224 - val_loss: 0.9255 - val_acc: 0.7891\n",
      "Epoch 82/100\n",
      "23/23 [==============================] - 1s 32ms/step - loss: 0.2131 - acc: 0.9215 - val_loss: 0.8896 - val_acc: 0.7788\n",
      "Epoch 83/100\n",
      "23/23 [==============================] - 1s 31ms/step - loss: 0.2052 - acc: 0.9247 - val_loss: 0.6417 - val_acc: 0.7935\n",
      "Epoch 84/100\n",
      "23/23 [==============================] - 1s 31ms/step - loss: 0.1961 - acc: 0.9296 - val_loss: 0.3681 - val_acc: 0.7888\n",
      "Epoch 85/100\n",
      "23/23 [==============================] - 1s 33ms/step - loss: 0.1914 - acc: 0.9334 - val_loss: 0.6279 - val_acc: 0.7884\n",
      "Epoch 86/100\n",
      "23/23 [==============================] - 1s 31ms/step - loss: 0.1870 - acc: 0.9350 - val_loss: 0.8490 - val_acc: 0.8085\n",
      "Epoch 87/100\n",
      "23/23 [==============================] - 1s 31ms/step - loss: 0.1797 - acc: 0.9382 - val_loss: 0.8977 - val_acc: 0.8092\n",
      "Epoch 88/100\n",
      "23/23 [==============================] - 1s 30ms/step - loss: 0.1767 - acc: 0.9393 - val_loss: 0.8647 - val_acc: 0.8111\n",
      "Epoch 89/100\n",
      "23/23 [==============================] - 1s 32ms/step - loss: 0.1719 - acc: 0.9403 - val_loss: 0.6111 - val_acc: 0.8147\n",
      "Epoch 90/100\n",
      "23/23 [==============================] - 1s 33ms/step - loss: 0.1644 - acc: 0.9451 - val_loss: 0.3562 - val_acc: 0.8090\n",
      "Epoch 91/100\n",
      "23/23 [==============================] - 1s 31ms/step - loss: 0.1623 - acc: 0.9446 - val_loss: 0.5840 - val_acc: 0.7993\n",
      "Epoch 92/100\n",
      "23/23 [==============================] - 1s 31ms/step - loss: 0.1521 - acc: 0.9486 - val_loss: 0.8045 - val_acc: 0.8185\n",
      "Epoch 93/100\n",
      "23/23 [==============================] - 1s 29ms/step - loss: 0.1487 - acc: 0.9494 - val_loss: 0.8878 - val_acc: 0.8147\n",
      "Epoch 94/100\n",
      "23/23 [==============================] - 1s 30ms/step - loss: 0.1476 - acc: 0.9500 - val_loss: 0.8552 - val_acc: 0.8180\n",
      "Epoch 95/100\n",
      "23/23 [==============================] - 1s 28ms/step - loss: 0.1419 - acc: 0.9538 - val_loss: 0.5802 - val_acc: 0.8225\n",
      "Epoch 96/100\n",
      "23/23 [==============================] - 1s 30ms/step - loss: 0.1389 - acc: 0.9543 - val_loss: 0.3376 - val_acc: 0.8180\n",
      "Epoch 97/100\n",
      "23/23 [==============================] - 1s 29ms/step - loss: 0.1365 - acc: 0.9570 - val_loss: 0.5643 - val_acc: 0.8113\n",
      "Epoch 98/100\n",
      "23/23 [==============================] - 1s 32ms/step - loss: 0.1312 - acc: 0.9576 - val_loss: 0.7781 - val_acc: 0.8285\n",
      "Epoch 99/100\n",
      "23/23 [==============================] - 1s 32ms/step - loss: 0.1255 - acc: 0.9590 - val_loss: 0.8676 - val_acc: 0.8248\n",
      "Epoch 100/100\n",
      "23/23 [==============================] - 1s 30ms/step - loss: 0.1249 - acc: 0.9612 - val_loss: 0.8339 - val_acc: 0.8214\n"
     ]
    },
    {
     "data": {
      "text/plain": [
       "<keras.callbacks.callbacks.History at 0x1ac07488a58>"
      ]
     },
     "execution_count": 25,
     "metadata": {},
     "output_type": "execute_result"
    }
   ],
   "source": [
    "model.fit_generator(generator = generate_batch(X_train, y_train, batch_size = batch_size),\n",
    "                    steps_per_epoch = train_samples//batch_size,\n",
    "                    epochs=epochs,\n",
    "                    validation_data = generate_batch(X_test, y_test, batch_size = batch_size),\n",
    "                    validation_steps = val_samples//batch_size)"
   ]
  },
  {
   "cell_type": "markdown",
   "metadata": {},
   "source": [
    "### Always remember to save the weights"
   ]
  },
  {
   "cell_type": "code",
   "execution_count": 26,
   "metadata": {},
   "outputs": [],
   "source": [
    "'''model_json = model.to_json()\n",
    "with open(\"model.json\", \"w\") as json_file:\n",
    "    json_file.write(model_json)\n",
    "# serialize weights to HDF5\n",
    "'''\n",
    "model.save_weights('nmt_weights.h5',overwrite=True)"
   ]
  },
  {
   "cell_type": "markdown",
   "metadata": {},
   "source": [
    "### Load the weights, if you close the application"
   ]
  },
  {
   "cell_type": "code",
   "execution_count": 27,
   "metadata": {},
   "outputs": [],
   "source": [
    "model.load_weights('nmt_weights.h5')"
   ]
  },
  {
   "cell_type": "markdown",
   "metadata": {},
   "source": [
    "### Inference Setup"
   ]
  },
  {
   "cell_type": "code",
   "execution_count": 28,
   "metadata": {},
   "outputs": [],
   "source": [
    "# Encode the input sequence to get the \"thought vectors\"\n",
    "encoder_model = Model(encoder_inputs, encoder_states)\n",
    "\n",
    "# Decoder setup\n",
    "# Below tensors will hold the states of the previous time step\n",
    "decoder_state_input_h = Input(shape=(latent_dim,))\n",
    "decoder_state_input_c = Input(shape=(latent_dim,))\n",
    "decoder_states_inputs = [decoder_state_input_h, decoder_state_input_c]\n",
    "\n",
    "dec_emb2= dec_emb_layer(decoder_inputs) # Get the embeddings of the decoder sequence\n",
    "\n",
    "# To predict the next word in the sequence, set the initial states to the states from the previous time step\n",
    "decoder_outputs2, state_h2, state_c2 = decoder_lstm(dec_emb2, initial_state=decoder_states_inputs)\n",
    "decoder_states2 = [state_h2, state_c2]\n",
    "decoder_outputs2 = decoder_dense(decoder_outputs2) # A dense softmax layer to generate prob dist. over the target vocabulary\n",
    "\n",
    "# Final decoder model\n",
    "decoder_model = Model(\n",
    "    [decoder_inputs] + decoder_states_inputs,\n",
    "    [decoder_outputs2] + decoder_states2)"
   ]
  },
  {
   "cell_type": "code",
   "execution_count": null,
   "metadata": {},
   "outputs": [],
   "source": []
  },
  {
   "cell_type": "code",
   "execution_count": null,
   "metadata": {},
   "outputs": [],
   "source": []
  },
  {
   "cell_type": "markdown",
   "metadata": {},
   "source": [
    "### Decode sample sequeces"
   ]
  },
  {
   "cell_type": "code",
   "execution_count": 29,
   "metadata": {},
   "outputs": [],
   "source": [
    "def decode_sequence(input_seq):\n",
    "    # Encode the input as state vectors.\n",
    "    states_value = encoder_model.predict(input_seq)\n",
    "    # Generate empty target sequence of length 1.\n",
    "    target_seq = np.zeros((1,1))\n",
    "    # Populate the first character of target sequence with the start character.\n",
    "    target_seq[0, 0] = target_token_index['START_']\n",
    "    # Sampling loop for a batch of sequences\n",
    "    # (to simplify, here we assume a batch of size 1).\n",
    "    stop_condition = False\n",
    "    decoded_sentence = ''\n",
    "    while not stop_condition:\n",
    "        output_tokens, h, c = decoder_model.predict([target_seq] + states_value)\n",
    "        # Sample a token\n",
    "        sampled_token_index = np.argmax(output_tokens[0, -1, :])\n",
    "        sampled_char = reverse_target_char_index[sampled_token_index]\n",
    "        decoded_sentence += ' '+sampled_char\n",
    "        # Exit condition: either hit max length\n",
    "        # or find stop character.\n",
    "        if (sampled_char == '_END' or\n",
    "           len(decoded_sentence) > 50):\n",
    "            stop_condition = True\n",
    "        # Update the target sequence (of length 1).\n",
    "        target_seq = np.zeros((1,1))\n",
    "        target_seq[0, 0] = sampled_token_index\n",
    "        # Update states\n",
    "        states_value = [h, c]\n",
    "    return decoded_sentence"
   ]
  },
  {
   "cell_type": "markdown",
   "metadata": {},
   "source": [
    "### Evaluation on Train Dataset"
   ]
  },
  {
   "cell_type": "code",
   "execution_count": 31,
   "metadata": {},
   "outputs": [],
   "source": [
    "train_gen = generate_batch(X_train, y_train, batch_size = 1)\n",
    "k=-1"
   ]
  },
  {
   "cell_type": "code",
   "execution_count": 32,
   "metadata": {},
   "outputs": [
    {
     "name": "stdout",
     "output_type": "stream",
     "text": [
      "Input wrong sentence: ಅವಳು ಈಗ ಸಂತೋಷವಾಗಿದ್ದಾರೆ . \n",
      "Actual corrected sentence  ಅವರು ಈಗ ಸಂತೋಷವಾಗಿದ್ದಾರೆ .  \n",
      "Predicted Translation:  ಅವರು ಈಗ ಸಂತೋಷವಾಗಿದ್ದಾರೆ . \n"
     ]
    }
   ],
   "source": [
    "k+=1\n",
    "(input_seq, actual_output), _ = next(train_gen)\n",
    "decoded_sentence = decode_sequence(input_seq)\n",
    "print('Input wrong sentence:', X_train[k:k+1].values[0])\n",
    "print('Actual corrected sentence', y_train[k:k+1].values[0][6:-4])\n",
    "print('Predicted Translation:', decoded_sentence[:-4])"
   ]
  },
  {
   "cell_type": "code",
   "execution_count": 33,
   "metadata": {},
   "outputs": [
    {
     "name": "stdout",
     "output_type": "stream",
     "text": [
      "Input wrong sentence: ಮಗು ಆಟವಾಡುತ್ತಿವೆ . \n",
      "Actual corrected sentence  ಮಗು ಆಟವಾಡುತ್ತಿದೆ .  \n",
      "Predicted Translation:  ಮಗು ಆಟವಾಡುತ್ತಿದೆ . \n"
     ]
    }
   ],
   "source": [
    "k+=1\n",
    "(input_seq, actual_output), _ = next(train_gen)\n",
    "decoded_sentence = decode_sequence(input_seq)\n",
    "print('Input wrong sentence:', X_train[k:k+1].values[0])\n",
    "print('Actual corrected sentence', y_train[k:k+1].values[0][6:-4])\n",
    "print('Predicted Translation:', decoded_sentence[:-4])"
   ]
  },
  {
   "cell_type": "code",
   "execution_count": 34,
   "metadata": {},
   "outputs": [
    {
     "name": "stdout",
     "output_type": "stream",
     "text": [
      "Input wrong sentence: ಇದೆಲ್ಲ ನಿಮಗೆ ಹೇಗೆ ಗೊತ್ತಾ ? \n",
      "Actual corrected sentence  ಇದೆಲ್ಲ ನಿಮಗೆ ಹೇಗೆ ಗೊತ್ತು ?  \n",
      "Predicted Translation:  ಇದೆಲ್ಲ ನಿಮಗೆ ಹೇಗೆ ಗೊತ್ತು ? \n"
     ]
    }
   ],
   "source": [
    "k+=1\n",
    "(input_seq, actual_output), _ = next(train_gen)\n",
    "decoded_sentence = decode_sequence(input_seq)\n",
    "print('Input wrong sentence:', X_train[k:k+1].values[0])\n",
    "print('Actual corrected sentence', y_train[k:k+1].values[0][6:-4])\n",
    "print('Predicted Translation:', decoded_sentence[:-4])"
   ]
  },
  {
   "cell_type": "code",
   "execution_count": 35,
   "metadata": {},
   "outputs": [
    {
     "name": "stdout",
     "output_type": "stream",
     "text": [
      "Input wrong sentence: ಅವರಿಗೆ ಮೂರು ಮಗು ಇದೆ . \n",
      "Actual corrected sentence  ಅವರಿಗೆ ಮೂರು ಮಕ್ಕಳು ಇದ್ದಾರೆ .  \n",
      "Predicted Translation:  ಅವರಿಗೆ ಮೂರು ಮಕ್ಕಳು ಇದ್ದಾರೆ . \n"
     ]
    }
   ],
   "source": [
    "k+=1\n",
    "(input_seq, actual_output), _ = next(train_gen)\n",
    "decoded_sentence = decode_sequence(input_seq)\n",
    "print('Input wrong sentence:', X_train[k:k+1].values[0])\n",
    "print('Actual corrected sentence', y_train[k:k+1].values[0][6:-4])\n",
    "print('Predicted Translation:', decoded_sentence[:-4])"
   ]
  },
  {
   "cell_type": "code",
   "execution_count": 36,
   "metadata": {},
   "outputs": [
    {
     "name": "stdout",
     "output_type": "stream",
     "text": [
      "Input wrong sentence: ಅವನಿಗೆ ಒಬ್ಬ ಉದ್ದನೆಯ ತಂಗಿ ಇದ್ದಾನೆ ! \n",
      "Actual corrected sentence  ಅವನಿಗೆ ಒಬ್ಬ ಉದ್ದನೆಯ ಅಣ್ಣ ಇದ್ದಾನೆ .  \n",
      "Predicted Translation:  ಅವನಿಗೆ ಒಬ್ಬ ಉದ್ದನೆಯ ಅಣ್ಣ ಇದ್ದಾನೆ . \n"
     ]
    }
   ],
   "source": [
    "k+=1\n",
    "(input_seq, actual_output), _ = next(train_gen)\n",
    "decoded_sentence = decode_sequence(input_seq)\n",
    "print('Input wrong sentence:', X_train[k:k+1].values[0])\n",
    "print('Actual corrected sentence', y_train[k:k+1].values[0][6:-4])\n",
    "print('Predicted Translation:', decoded_sentence[:-4])"
   ]
  },
  {
   "cell_type": "code",
   "execution_count": 37,
   "metadata": {},
   "outputs": [
    {
     "name": "stdout",
     "output_type": "stream",
     "text": [
      "Input wrong sentence: ಮನೆಯಲ್ಲಿ ಅನೇಕ ಇಲಿಗಳು ಇದಾಳೆ . \n",
      "Actual corrected sentence  ಮನೆಯಲ್ಲಿ ಅನೇಕ ಇಲಿಗಳು ಇವೆ .  \n",
      "Predicted Translation:  ಮನೆಯಲ್ಲಿ ಅನೇಕ ಇಲಿಗಳು ಇವೆ . \n"
     ]
    }
   ],
   "source": [
    "k+=1\n",
    "(input_seq, actual_output), _ = next(train_gen)\n",
    "decoded_sentence = decode_sequence(input_seq)\n",
    "print('Input wrong sentence:', X_train[k:k+1].values[0])\n",
    "print('Actual corrected sentence', y_train[k:k+1].values[0][6:-4])\n",
    "print('Predicted Translation:', decoded_sentence[:-4])"
   ]
  },
  {
   "cell_type": "code",
   "execution_count": 38,
   "metadata": {},
   "outputs": [
    {
     "name": "stdout",
     "output_type": "stream",
     "text": [
      "Input wrong sentence: ನನ್ನ ಕಾಲು ನೋವುತ್ತಿವೆ . \n",
      "Actual corrected sentence  ನನ್ನ ಕಾಲು ನೋವುತ್ತಿದೆ .  \n",
      "Predicted Translation:  ನನ್ನ ಅಕ್ಕ ಊರಿಗೆ ಹೋಗುತ್ತಿದ್ದಾರೆ . \n"
     ]
    }
   ],
   "source": [
    "k+=1\n",
    "(input_seq, actual_output), _ = next(train_gen)\n",
    "decoded_sentence = decode_sequence(input_seq)\n",
    "print('Input wrong sentence:', X_train[k:k+1].values[0])\n",
    "print('Actual corrected sentence', y_train[k:k+1].values[0][6:-4])\n",
    "print('Predicted Translation:', decoded_sentence[:-4])"
   ]
  },
  {
   "cell_type": "code",
   "execution_count": 40,
   "metadata": {},
   "outputs": [
    {
     "name": "stdout",
     "output_type": "stream",
     "text": [
      "Input wrong sentence: ಅವನು ನನ್ನ ಗೆಳತಿ . \n",
      "Actual corrected sentence  ಅವಳು ನನ್ನ ಗೆಳತಿ .  \n",
      "Predicted Translation:  ಅವನು ನನ್ನ ಮನೆಗೆ ಬರುತ್ತಿದ್ದಾನೆ . \n"
     ]
    }
   ],
   "source": [
    "k+=1\n",
    "(input_seq, actual_output), _ = next(train_gen)\n",
    "decoded_sentence = decode_sequence(input_seq)\n",
    "print('Input wrong sentence:', X_train[k:k+1].values[0])\n",
    "print('Actual corrected sentence', y_train[k:k+1].values[0][6:-4])\n",
    "print('Predicted Translation:', decoded_sentence[:-4])"
   ]
  },
  {
   "cell_type": "code",
   "execution_count": 41,
   "metadata": {},
   "outputs": [
    {
     "name": "stdout",
     "output_type": "stream",
     "text": [
      "Input wrong sentence: ಮಾವಿನ ಮರದಲ್ಲಿ ಅನೆಕ ಹಣ್ಣುಗಳು ಇದೆ . \n",
      "Actual corrected sentence  ಮಾವಿನ ಮರದಲ್ಲಿ ಅನೆಕ ಹಣ್ಣುಗಳು ಇವೆ .  \n",
      "Predicted Translation:  ಭಾರತವನ್ನು ಅನೆಕ ರಾಜರು ಆಳಿದರು . \n"
     ]
    }
   ],
   "source": [
    "k+=1\n",
    "(input_seq, actual_output), _ = next(train_gen)\n",
    "decoded_sentence = decode_sequence(input_seq)\n",
    "print('Input wrong sentence:', X_train[k:k+1].values[0])\n",
    "print('Actual corrected sentence', y_train[k:k+1].values[0][6:-4])\n",
    "print('Predicted Translation:', decoded_sentence[:-4])"
   ]
  },
  {
   "cell_type": "code",
   "execution_count": 42,
   "metadata": {},
   "outputs": [
    {
     "name": "stdout",
     "output_type": "stream",
     "text": [
      "Input wrong sentence: ಅಜ್ಜಿ ಈಗ ಮಲಿಗಿದ್ದಳು ? \n",
      "Actual corrected sentence  ಅಜ್ಜಿ ಈಗ ಮಲಿಗಿದ್ದಾರೆ .  \n",
      "Predicted Translation:  ಅಜ್ಜಿ ಈಗ ಮಲಿಗಿದ್ದಾರೆ . \n"
     ]
    }
   ],
   "source": [
    "k+=1\n",
    "(input_seq, actual_output), _ = next(train_gen)\n",
    "decoded_sentence = decode_sequence(input_seq)\n",
    "print('Input wrong sentence:', X_train[k:k+1].values[0])\n",
    "print('Actual corrected sentence', y_train[k:k+1].values[0][6:-4])\n",
    "print('Predicted Translation:', decoded_sentence[:-4])"
   ]
  },
  {
   "cell_type": "code",
   "execution_count": 43,
   "metadata": {},
   "outputs": [
    {
     "name": "stdout",
     "output_type": "stream",
     "text": [
      "Input wrong sentence: ಅವಳು ಶಾಲೆಗೆ ಹೋದನು . \n",
      "Actual corrected sentence  ಅವಳು ಶಾಲೆಗೆ ಹೋದಳು .  \n",
      "Predicted Translation:  ಅವಳು ಶಾಲೆಗೆ ಹೋದಳು . \n"
     ]
    }
   ],
   "source": [
    "k+=1\n",
    "(input_seq, actual_output), _ = next(train_gen)\n",
    "decoded_sentence = decode_sequence(input_seq)\n",
    "print('Input wrong sentence:', X_train[k:k+1].values[0])\n",
    "print('Actual corrected sentence', y_train[k:k+1].values[0][6:-4])\n",
    "print('Predicted Translation:', decoded_sentence[:-4])"
   ]
  },
  {
   "cell_type": "code",
   "execution_count": 44,
   "metadata": {},
   "outputs": [
    {
     "name": "stdout",
     "output_type": "stream",
     "text": [
      "Input wrong sentence: ಅಜ್ಜ ಈಗ ಮಲಿಗಿದ್ದಾಳೆ ? \n",
      "Actual corrected sentence  ಅಜ್ಜ ಈಗ ಮಲಿಗಿದ್ದಾರೆ .  \n",
      "Predicted Translation:  ಅಜ್ಜ ಈಗ ಮಲಿಗಿದ್ದಾರೆ . \n"
     ]
    }
   ],
   "source": [
    "k+=1\n",
    "(input_seq, actual_output), _ = next(train_gen)\n",
    "decoded_sentence = decode_sequence(input_seq)\n",
    "print('Input wrong sentence:', X_train[k:k+1].values[0])\n",
    "print('Actual corrected sentence', y_train[k:k+1].values[0][6:-4])\n",
    "print('Predicted Translation:', decoded_sentence[:-4])"
   ]
  },
  {
   "cell_type": "code",
   "execution_count": 45,
   "metadata": {},
   "outputs": [
    {
     "name": "stdout",
     "output_type": "stream",
     "text": [
      "Input wrong sentence: ಗುರುಗಳು ದೀಪ ಬೆಳಗಿದಳು . \n",
      "Actual corrected sentence  ಗುರುಗಳು ದೀಪ ಬೆಳಗಿದರು .  \n",
      "Predicted Translation:  ಗುರುಗಳು ದೀಪ ಬೆಳಗಿದರು . \n"
     ]
    }
   ],
   "source": [
    "k+=1\n",
    "(input_seq, actual_output), _ = next(train_gen)\n",
    "decoded_sentence = decode_sequence(input_seq)\n",
    "print('Input wrong sentence:', X_train[k:k+1].values[0])\n",
    "print('Actual corrected sentence', y_train[k:k+1].values[0][6:-4])\n",
    "print('Predicted Translation:', decoded_sentence[:-4])"
   ]
  },
  {
   "cell_type": "code",
   "execution_count": 46,
   "metadata": {},
   "outputs": [
    {
     "name": "stdout",
     "output_type": "stream",
     "text": [
      "Input wrong sentence: ಅವರು ನಗರದಲ್ಲಿ ವಾಸಿಸುತ್ತದೆ ? \n",
      "Actual corrected sentence  ಅವರು ನಗರದಲ್ಲಿ ವಾಸಿಸುತ್ತಿದ್ದಾರೆ .  \n",
      "Predicted Translation:  ಅವರು ನಗರದಲ್ಲಿ ವಾಸಿಸುತ್ತಿದ್ದಾರೆ . \n"
     ]
    }
   ],
   "source": [
    "k+=1\n",
    "(input_seq, actual_output), _ = next(train_gen)\n",
    "decoded_sentence = decode_sequence(input_seq)\n",
    "print('Input wrong sentence:', X_train[k:k+1].values[0])\n",
    "print('Actual corrected sentence', y_train[k:k+1].values[0][6:-4])\n",
    "print('Predicted Translation:', decoded_sentence[:-4])"
   ]
  },
  {
   "cell_type": "code",
   "execution_count": 47,
   "metadata": {},
   "outputs": [
    {
     "name": "stdout",
     "output_type": "stream",
     "text": [
      "Input wrong sentence: ನಿಮಗೆ ಎಷ್ಟು ಸಹೋದರಿಯರು ಇದ್ದಾನೆ ? \n",
      "Actual corrected sentence  ನಿಮಗೆ ಎಷ್ಟು ಸಹೋದರಿಯರು ಇದ್ದಾರೆ ?  \n",
      "Predicted Translation:  ನಿಮಗೆ ಎಷ್ಟು ಸಹೋದರಿಯರು ಇದ್ದಾರೆ ? \n"
     ]
    }
   ],
   "source": [
    "k+=1\n",
    "(input_seq, actual_output), _ = next(train_gen)\n",
    "decoded_sentence = decode_sequence(input_seq)\n",
    "print('Input wrong sentence:', X_train[k:k+1].values[0])\n",
    "print('Actual corrected sentence', y_train[k:k+1].values[0][6:-4])\n",
    "print('Predicted Translation:', decoded_sentence[:-4])"
   ]
  },
  {
   "cell_type": "code",
   "execution_count": 48,
   "metadata": {},
   "outputs": [
    {
     "name": "stdout",
     "output_type": "stream",
     "text": [
      "Input wrong sentence: ನನ್ನ ಮನೆ ಹತ್ತಿರ ,  ಹಸುಗಳು ಇವೆ . \n",
      "Actual corrected sentence  ನನ್ನ ಮನೆ ಹತ್ತಿರ ಹಸುಗಳು ಇವೆ .  \n",
      "Predicted Translation:  ನನ್ನ ಮನೆ ಹತ್ತಿರ ಹಸುಗಳು ಇವೆ . \n"
     ]
    }
   ],
   "source": [
    "k+=1\n",
    "(input_seq, actual_output), _ = next(train_gen)\n",
    "decoded_sentence = decode_sequence(input_seq)\n",
    "print('Input wrong sentence:', X_train[k:k+1].values[0])\n",
    "print('Actual corrected sentence', y_train[k:k+1].values[0][6:-4])\n",
    "print('Predicted Translation:', decoded_sentence[:-4])"
   ]
  },
  {
   "cell_type": "code",
   "execution_count": 49,
   "metadata": {},
   "outputs": [
    {
     "name": "stdout",
     "output_type": "stream",
     "text": [
      "Input wrong sentence: ಅವನು ದೂರದರ್ಶನವನ್ನು ವೀಕ್ಷಿಸುತ್ತಿದ್ದಾರೆ . \n",
      "Actual corrected sentence  ಅವರು ದೂರದರ್ಶನವನ್ನು ವೀಕ್ಷಿಸುತ್ತಿದ್ದಾರೆ .  \n",
      "Predicted Translation:  ಅವರು ದೂರದರ್ಶನವನ್ನು ವೀಕ್ಷಿಸುತ್ತಿದ್ದಾರೆ . \n"
     ]
    }
   ],
   "source": [
    "k+=1\n",
    "(input_seq, actual_output), _ = next(train_gen)\n",
    "decoded_sentence = decode_sequence(input_seq)\n",
    "print('Input wrong sentence:', X_train[k:k+1].values[0])\n",
    "print('Actual corrected sentence', y_train[k:k+1].values[0][6:-4])\n",
    "print('Predicted Translation:', decoded_sentence[:-4])"
   ]
  },
  {
   "cell_type": "code",
   "execution_count": 50,
   "metadata": {},
   "outputs": [
    {
     "name": "stdout",
     "output_type": "stream",
     "text": [
      "Input wrong sentence: ನೀನು ಹೋಗಲು ಸಿದ್ಧವಾಗಿದ್ದೀಯ ! \n",
      "Actual corrected sentence  ನೀನು ಹೋಗಲು ಸಿದ್ಧವಾಗಿದ್ದೀಯಾ ?  \n",
      "Predicted Translation:  ನೀನು ಹೋಗಲು ಸಿದ್ಧವಾಗಿದ್ದೀಯಾ ? \n"
     ]
    }
   ],
   "source": [
    "k+=1\n",
    "(input_seq, actual_output), _ = next(train_gen)\n",
    "decoded_sentence = decode_sequence(input_seq)\n",
    "print('Input wrong sentence:', X_train[k:k+1].values[0])\n",
    "print('Actual corrected sentence', y_train[k:k+1].values[0][6:-4])\n",
    "print('Predicted Translation:', decoded_sentence[:-4])"
   ]
  },
  {
   "cell_type": "code",
   "execution_count": 51,
   "metadata": {},
   "outputs": [
    {
     "name": "stdout",
     "output_type": "stream",
     "text": [
      "Input wrong sentence: ರಾಮನು ಗಾಜನ್ನು ಒಡೆದನು ! \n",
      "Actual corrected sentence  ರಾಮನು ಗಾಜನ್ನು ಒಡೆದನು .  \n",
      "Predicted Translation:  ರಾಮನು ಗಾಜನ್ನು ಒಡೆದನು . \n"
     ]
    }
   ],
   "source": [
    "k+=1\n",
    "(input_seq, actual_output), _ = next(train_gen)\n",
    "decoded_sentence = decode_sequence(input_seq)\n",
    "print('Input wrong sentence:', X_train[k:k+1].values[0])\n",
    "print('Actual corrected sentence', y_train[k:k+1].values[0][6:-4])\n",
    "print('Predicted Translation:', decoded_sentence[:-4])"
   ]
  },
  {
   "cell_type": "code",
   "execution_count": 52,
   "metadata": {},
   "outputs": [
    {
     "name": "stdout",
     "output_type": "stream",
     "text": [
      "Input wrong sentence: ಅವರು ಹೋರಾಟವನ್ನು ನಿಲ್ಲಿಸಲು ನಿರ್ಧರಿಸಿದನು . \n",
      "Actual corrected sentence  ಅವರು ಹೋರಾಟವನ್ನು ನಿಲ್ಲಿಸಲು ನಿರ್ಧರಿಸಿದರು .  \n",
      "Predicted Translation:  ಅವರು ಹೋರಾಟವನ್ನು ನಿಲ್ಲಿಸಲು ನಿರ್ಧರಿಸಿದರು . \n"
     ]
    }
   ],
   "source": [
    "k+=1\n",
    "(input_seq, actual_output), _ = next(train_gen)\n",
    "decoded_sentence = decode_sequence(input_seq)\n",
    "print('Input wrong sentence:', X_train[k:k+1].values[0])\n",
    "print('Actual corrected sentence', y_train[k:k+1].values[0][6:-4])\n",
    "print('Predicted Translation:', decoded_sentence[:-4])"
   ]
  },
  {
   "cell_type": "code",
   "execution_count": 53,
   "metadata": {},
   "outputs": [
    {
     "name": "stdout",
     "output_type": "stream",
     "text": [
      "Input wrong sentence: ಅವನು ನಾಳೆ ಬರುತ್ತಿದ್ದಾರೆ ? \n",
      "Actual corrected sentence  ಅವನು ನಾಳೆ ಬರುತ್ತಿದ್ದಾನೆ .  \n",
      "Predicted Translation:  ಅವನು ನಾಳೆ ಬರುತ್ತಿದ್ದಾನೆ . \n"
     ]
    }
   ],
   "source": [
    "k+=1\n",
    "(input_seq, actual_output), _ = next(train_gen)\n",
    "decoded_sentence = decode_sequence(input_seq)\n",
    "print('Input wrong sentence:', X_train[k:k+1].values[0])\n",
    "print('Actual corrected sentence', y_train[k:k+1].values[0][6:-4])\n",
    "print('Predicted Translation:', decoded_sentence[:-4])"
   ]
  },
  {
   "cell_type": "code",
   "execution_count": 54,
   "metadata": {},
   "outputs": [
    {
     "name": "stdout",
     "output_type": "stream",
     "text": [
      "Input wrong sentence: ಅವರಿಗೆ ಮೂರು ಮಗು ಇದ್ದಾರೆ . \n",
      "Actual corrected sentence  ಅವರಿಗೆ ಮೂರು ಮಕ್ಕಳು ಇದ್ದಾರೆ .  \n",
      "Predicted Translation:  ಅವರಿಗೆ ಮೂರು ಮಕ್ಕಳು ಇದ್ದಾರೆ . \n"
     ]
    }
   ],
   "source": [
    "k+=1\n",
    "(input_seq, actual_output), _ = next(train_gen)\n",
    "decoded_sentence = decode_sequence(input_seq)\n",
    "print('Input wrong sentence:', X_train[k:k+1].values[0])\n",
    "print('Actual corrected sentence', y_train[k:k+1].values[0][6:-4])\n",
    "print('Predicted Translation:', decoded_sentence[:-4])"
   ]
  },
  {
   "cell_type": "code",
   "execution_count": 55,
   "metadata": {},
   "outputs": [
    {
     "name": "stdout",
     "output_type": "stream",
     "text": [
      "Input wrong sentence: ನೀವು ಎಲ್ಲಿ ವಾಸಿಸುತ್ತೀರ . \n",
      "Actual corrected sentence  ನೀವು ಎಲ್ಲಿ ವಾಸಿಸುತ್ತೀರ ?  \n",
      "Predicted Translation:  ನೀವು ಎಲ್ಲಿ ವಾಸಿಸುತ್ತೀರ ? \n"
     ]
    }
   ],
   "source": [
    "k+=1\n",
    "(input_seq, actual_output), _ = next(train_gen)\n",
    "decoded_sentence = decode_sequence(input_seq)\n",
    "print('Input wrong sentence:', X_train[k:k+1].values[0])\n",
    "print('Actual corrected sentence', y_train[k:k+1].values[0][6:-4])\n",
    "print('Predicted Translation:', decoded_sentence[:-4])"
   ]
  },
  {
   "cell_type": "code",
   "execution_count": 56,
   "metadata": {},
   "outputs": [
    {
     "name": "stdout",
     "output_type": "stream",
     "text": [
      "Input wrong sentence: ನಮ್ಮ ರಜೆಗಳು ನಾಳೆಯಿಂದ ಪ್ರಾರಂಭವಾಗುತ್ತಾಳಾ ? \n",
      "Actual corrected sentence  ನಮ್ಮ ರಜೆಗಳು ನಾಳೆಯಿಂದ ಪ್ರಾರಂಭವಾಗುತ್ತಾ ?  \n",
      "Predicted Translation:  ನಮ್ಮ ರಜೆಗಳು ನಾಳೆಯಿಂದ ಪ್ರಾರಂಭವಾಗುತ್ತಾ ? \n"
     ]
    }
   ],
   "source": [
    "k+=1\n",
    "(input_seq, actual_output), _ = next(train_gen)\n",
    "decoded_sentence = decode_sequence(input_seq)\n",
    "print('Input wrong sentence:', X_train[k:k+1].values[0])\n",
    "print('Actual corrected sentence', y_train[k:k+1].values[0][6:-4])\n",
    "print('Predicted Translation:', decoded_sentence[:-4])"
   ]
  },
  {
   "cell_type": "code",
   "execution_count": 57,
   "metadata": {},
   "outputs": [
    {
     "name": "stdout",
     "output_type": "stream",
     "text": [
      "Input wrong sentence: ನಾನು ರಜೆಗಳು ನಾಳೆಯಿಂದ ಪ್ರಾರಂಭವಾಗುತ್ತವೆ . \n",
      "Actual corrected sentence  ನಮ್ಮ ರಜೆಗಳು ನಾಳೆಯಿಂದ ಪ್ರಾರಂಭವಾಗುತ್ತವೆ .  \n",
      "Predicted Translation:  ನಮ್ಮ ರಜೆಗಳು ನಾಳೆಯಿಂದ ಪ್ರಾರಂಭವಾಗುತ್ತವೆ . \n"
     ]
    }
   ],
   "source": [
    "k+=1\n",
    "(input_seq, actual_output), _ = next(train_gen)\n",
    "decoded_sentence = decode_sequence(input_seq)\n",
    "print('Input wrong sentence:', X_train[k:k+1].values[0])\n",
    "print('Actual corrected sentence', y_train[k:k+1].values[0][6:-4])\n",
    "print('Predicted Translation:', decoded_sentence[:-4])"
   ]
  },
  {
   "cell_type": "code",
   "execution_count": 58,
   "metadata": {},
   "outputs": [
    {
     "name": "stdout",
     "output_type": "stream",
     "text": [
      "Input wrong sentence: ಅವನು ಬೆಕ್ಕುಗಳು ಮತ್ತು ನಾಯಿಗಳನ್ನು ಇಷ್ಟಪಡುತ್ತದೆ . \n",
      "Actual corrected sentence  ಅವನು ಬೆಕ್ಕುಗಳು ಮತ್ತು ನಾಯಿಗಳನ್ನು ಇಷ್ಟಪಡುತ್ತಾನೆ .  \n",
      "Predicted Translation:  ಅವನು ಬೆಕ್ಕುಗಳು ಮತ್ತು ನಾಯಿಗಳನ್ನು ಇಷ್ಟಪಡುತ್ತಾನೆ . \n"
     ]
    }
   ],
   "source": [
    "k+=1\n",
    "(input_seq, actual_output), _ = next(train_gen)\n",
    "decoded_sentence = decode_sequence(input_seq)\n",
    "print('Input wrong sentence:', X_train[k:k+1].values[0])\n",
    "print('Actual corrected sentence', y_train[k:k+1].values[0][6:-4])\n",
    "print('Predicted Translation:', decoded_sentence[:-4])"
   ]
  },
  {
   "cell_type": "code",
   "execution_count": 59,
   "metadata": {},
   "outputs": [
    {
     "name": "stdout",
     "output_type": "stream",
     "text": [
      "Input wrong sentence: ಆ ಸ್ಥಳ ಎಲ್ಲಿದೆ ! \n",
      "Actual corrected sentence  ಆ ಸ್ಥಳ ಎಲ್ಲಿದೆ ?  \n",
      "Predicted Translation:  ಆ ಸ್ಥಳ ಎಲ್ಲಿದೆ ? \n"
     ]
    }
   ],
   "source": [
    "k+=1\n",
    "(input_seq, actual_output), _ = next(train_gen)\n",
    "decoded_sentence = decode_sequence(input_seq)\n",
    "print('Input wrong sentence:', X_train[k:k+1].values[0])\n",
    "print('Actual corrected sentence', y_train[k:k+1].values[0][6:-4])\n",
    "print('Predicted Translation:', decoded_sentence[:-4])"
   ]
  },
  {
   "cell_type": "code",
   "execution_count": 60,
   "metadata": {},
   "outputs": [
    {
     "name": "stdout",
     "output_type": "stream",
     "text": [
      "Input wrong sentence: ಅವಳು ಊರಿಗೆ ಹೋದರು . \n",
      "Actual corrected sentence  ಅವರು ಊರಿಗೆ ಹೋದರು .  \n",
      "Predicted Translation:  ಅವರು ಊರಿಗೆ ಹೋದರು . \n"
     ]
    }
   ],
   "source": [
    "k+=1\n",
    "(input_seq, actual_output), _ = next(train_gen)\n",
    "decoded_sentence = decode_sequence(input_seq)\n",
    "print('Input wrong sentence:', X_train[k:k+1].values[0])\n",
    "print('Actual corrected sentence', y_train[k:k+1].values[0][6:-4])\n",
    "print('Predicted Translation:', decoded_sentence[:-4])"
   ]
  },
  {
   "cell_type": "code",
   "execution_count": 61,
   "metadata": {},
   "outputs": [
    {
     "name": "stdout",
     "output_type": "stream",
     "text": [
      "Input wrong sentence: ಅವನು ಸಂಗೀತ ಕಲಿತರು . \n",
      "Actual corrected sentence  ಅವನು ಸಂಗೀತ ಕಲಿತನು .  \n",
      "Predicted Translation:  ಅವನು ಸಂಗೀತ ಕಲಿತನು . \n"
     ]
    }
   ],
   "source": [
    "k+=1\n",
    "(input_seq, actual_output), _ = next(train_gen)\n",
    "decoded_sentence = decode_sequence(input_seq)\n",
    "print('Input wrong sentence:', X_train[k:k+1].values[0])\n",
    "print('Actual corrected sentence', y_train[k:k+1].values[0][6:-4])\n",
    "print('Predicted Translation:', decoded_sentence[:-4])"
   ]
  },
  {
   "cell_type": "code",
   "execution_count": 62,
   "metadata": {},
   "outputs": [
    {
     "name": "stdout",
     "output_type": "stream",
     "text": [
      "Input wrong sentence: ನಾನು ಇದನ್ನು ಎಲ್ಲಿ ಬಿಡಬಹುದು ! \n",
      "Actual corrected sentence  ನಾನು ಇದನ್ನು ಎಲ್ಲಿ ಬಿಡಬಹುದು ?  \n",
      "Predicted Translation:  ನಾನು ಇದನ್ನು ಎಲ್ಲಿ ಬಿಡಬಹುದು ? \n"
     ]
    }
   ],
   "source": [
    "k+=1\n",
    "(input_seq, actual_output), _ = next(train_gen)\n",
    "decoded_sentence = decode_sequence(input_seq)\n",
    "print('Input wrong sentence:', X_train[k:k+1].values[0])\n",
    "print('Actual corrected sentence', y_train[k:k+1].values[0][6:-4])\n",
    "print('Predicted Translation:', decoded_sentence[:-4])"
   ]
  },
  {
   "cell_type": "code",
   "execution_count": 63,
   "metadata": {},
   "outputs": [
    {
     "name": "stdout",
     "output_type": "stream",
     "text": [
      "Input wrong sentence: ನಮ್ಮ ಹತ್ತಿರ ಹತ್ತು ಮಾವಿನಹಣ್ಣುಗಳು ಇದೆ . \n",
      "Actual corrected sentence  ನಮ್ಮ ಹತ್ತಿರ ಹತ್ತು ಮಾವಿನಹಣ್ಣುಗಳು ಇವೆ .  \n",
      "Predicted Translation:  ನಮ್ಮ ಹತ್ತಿರ ಹತ್ತು ಮಾವಿನಹಣ್ಣುಗಳು ಇವೆ . \n"
     ]
    }
   ],
   "source": [
    "k+=1\n",
    "(input_seq, actual_output), _ = next(train_gen)\n",
    "decoded_sentence = decode_sequence(input_seq)\n",
    "print('Input wrong sentence:', X_train[k:k+1].values[0])\n",
    "print('Actual corrected sentence', y_train[k:k+1].values[0][6:-4])\n",
    "print('Predicted Translation:', decoded_sentence[:-4])"
   ]
  },
  {
   "cell_type": "code",
   "execution_count": 64,
   "metadata": {},
   "outputs": [
    {
     "name": "stdout",
     "output_type": "stream",
     "text": [
      "Input wrong sentence: ಮತ್ತೆ ಭೇಟಿಮಾಡುವ . \n",
      "Actual corrected sentence  ಮತ್ತೆ ಭೇಟಿಮಾಡುವೆ .  \n",
      "Predicted Translation:  ಕೋತಿಯು ಮರವನ್ನು ಹತ್ತುತ್ತದೆ . \n"
     ]
    }
   ],
   "source": [
    "k+=1\n",
    "(input_seq, actual_output), _ = next(train_gen)\n",
    "decoded_sentence = decode_sequence(input_seq)\n",
    "print('Input wrong sentence:', X_train[k:k+1].values[0])\n",
    "print('Actual corrected sentence', y_train[k:k+1].values[0][6:-4])\n",
    "print('Predicted Translation:', decoded_sentence[:-4])"
   ]
  },
  {
   "cell_type": "code",
   "execution_count": 65,
   "metadata": {},
   "outputs": [
    {
     "name": "stdout",
     "output_type": "stream",
     "text": [
      "Input wrong sentence: ಅವನು ನಗರದಲ್ಲಿ ವಾಸಿಸುತ್ತಾಳೆ . \n",
      "Actual corrected sentence  ಅವನು ನಗರದಲ್ಲಿ ವಾಸಿಸುತ್ತಾನೆ .  \n",
      "Predicted Translation:  ಅವನು ನಗರದಲ್ಲಿ ಇರುತ್ತಾನೆ . \n"
     ]
    }
   ],
   "source": [
    "k+=1\n",
    "(input_seq, actual_output), _ = next(train_gen)\n",
    "decoded_sentence = decode_sequence(input_seq)\n",
    "print('Input wrong sentence:', X_train[k:k+1].values[0])\n",
    "print('Actual corrected sentence', y_train[k:k+1].values[0][6:-4])\n",
    "print('Predicted Translation:', decoded_sentence[:-4])"
   ]
  },
  {
   "cell_type": "code",
   "execution_count": 66,
   "metadata": {},
   "outputs": [
    {
     "name": "stdout",
     "output_type": "stream",
     "text": [
      "Input wrong sentence: ರಾಮನು ಗಾಜನ್ನು ಒಡೆದನು ? \n",
      "Actual corrected sentence  ರಾಮನು ಗಾಜನ್ನು ಒಡೆದನು .  \n",
      "Predicted Translation:  ರಾಮನು ಗಾಜನ್ನು ಒಡೆದನು . \n"
     ]
    }
   ],
   "source": [
    "k+=1\n",
    "(input_seq, actual_output), _ = next(train_gen)\n",
    "decoded_sentence = decode_sequence(input_seq)\n",
    "print('Input wrong sentence:', X_train[k:k+1].values[0])\n",
    "print('Actual corrected sentence', y_train[k:k+1].values[0][6:-4])\n",
    "print('Predicted Translation:', decoded_sentence[:-4])"
   ]
  },
  {
   "cell_type": "code",
   "execution_count": 67,
   "metadata": {},
   "outputs": [
    {
     "name": "stdout",
     "output_type": "stream",
     "text": [
      "Input wrong sentence: ನನಗೆ ತುಂಬಾ ಸ್ನೇಹಿತ ಇದಾನೆ . \n",
      "Actual corrected sentence  ನನಗೆ ತುಂಬಾ ಸ್ನೇಹಿತರಿದ್ದಾರೆ .  \n",
      "Predicted Translation:  ನನಗೆ ತುಂಬಾ ಸ್ನೇಹಿತರಿದ್ದಾರೆ . \n"
     ]
    }
   ],
   "source": [
    "k+=1\n",
    "(input_seq, actual_output), _ = next(train_gen)\n",
    "decoded_sentence = decode_sequence(input_seq)\n",
    "print('Input wrong sentence:', X_train[k:k+1].values[0])\n",
    "print('Actual corrected sentence', y_train[k:k+1].values[0][6:-4])\n",
    "print('Predicted Translation:', decoded_sentence[:-4])"
   ]
  },
  {
   "cell_type": "code",
   "execution_count": 68,
   "metadata": {},
   "outputs": [
    {
     "name": "stdout",
     "output_type": "stream",
     "text": [
      "Input wrong sentence: ಶಿಶು ಮಲಗಿದ್ದಾರೆ . \n",
      "Actual corrected sentence  ಶಿಶುಗಳು ಮಲಗಿದ್ದಾರೆ .  \n",
      "Predicted Translation:  ಶಿಶುಗಳು ಮಲಗಿದ್ದಾರೆ . \n"
     ]
    }
   ],
   "source": [
    "k+=1\n",
    "(input_seq, actual_output), _ = next(train_gen)\n",
    "decoded_sentence = decode_sequence(input_seq)\n",
    "print('Input wrong sentence:', X_train[k:k+1].values[0])\n",
    "print('Actual corrected sentence', y_train[k:k+1].values[0][6:-4])\n",
    "print('Predicted Translation:', decoded_sentence[:-4])"
   ]
  },
  {
   "cell_type": "code",
   "execution_count": 69,
   "metadata": {},
   "outputs": [
    {
     "name": "stdout",
     "output_type": "stream",
     "text": [
      "Input wrong sentence: ಅದು ಹತ್ತು ಪುಸ್ತಕಗಳನ್ನು ಖರೀದಿಸಿದಳು . \n",
      "Actual corrected sentence  ಅವಳು ಹತ್ತು ಪುಸ್ತಕಗಳನ್ನು ಖರೀದಿಸಿದಳು .  \n",
      "Predicted Translation:  ಅವಳು ಹತ್ತು ಪುಸ್ತಕಗಳನ್ನು ಖರೀದಿಸಿದಳು . \n"
     ]
    }
   ],
   "source": [
    "k+=1\n",
    "(input_seq, actual_output), _ = next(train_gen)\n",
    "decoded_sentence = decode_sequence(input_seq)\n",
    "print('Input wrong sentence:', X_train[k:k+1].values[0])\n",
    "print('Actual corrected sentence', y_train[k:k+1].values[0][6:-4])\n",
    "print('Predicted Translation:', decoded_sentence[:-4])"
   ]
  },
  {
   "cell_type": "code",
   "execution_count": 72,
   "metadata": {},
   "outputs": [
    {
     "name": "stdout",
     "output_type": "stream",
     "text": [
      "Input wrong sentence: ನನ್ನ ನೃತ್ಯ ಹೇಗಿತ್ತು . \n",
      "Actual corrected sentence  ನನ್ನ ನೃತ್ಯ ಹೇಗಿತ್ತು ?  \n",
      "Predicted Translation:  ನನ್ನ ನೃತ್ಯ ಹೇಗಿತ್ತು ? \n"
     ]
    }
   ],
   "source": [
    "k+=1\n",
    "(input_seq, actual_output), _ = next(train_gen)\n",
    "decoded_sentence = decode_sequence(input_seq)\n",
    "print('Input wrong sentence:', X_train[k:k+1].values[0])\n",
    "print('Actual corrected sentence', y_train[k:k+1].values[0][6:-4])\n",
    "print('Predicted Translation:', decoded_sentence[:-4])"
   ]
  },
  {
   "cell_type": "code",
   "execution_count": 73,
   "metadata": {},
   "outputs": [
    {
     "name": "stdout",
     "output_type": "stream",
     "text": [
      "Input wrong sentence: ಅವನು ತನ್ನ ಬಟ್ಟೆಗಳನ್ನು ಬದಲಾಯಿಸಿದರು . \n",
      "Actual corrected sentence  ಅವನು ತನ್ನ ಬಟ್ಟೆಗಳನ್ನು ಬದಲಾಯಿಸಿದನು .  \n",
      "Predicted Translation:  ಅವನು ತನ್ನ ಬಟ್ಟೆಗಳನ್ನು ಬದಲಾಯಿಸಿದನು . \n"
     ]
    }
   ],
   "source": [
    "k+=1\n",
    "(input_seq, actual_output), _ = next(train_gen)\n",
    "decoded_sentence = decode_sequence(input_seq)\n",
    "print('Input wrong sentence:', X_train[k:k+1].values[0])\n",
    "print('Actual corrected sentence', y_train[k:k+1].values[0][6:-4])\n",
    "print('Predicted Translation:', decoded_sentence[:-4])"
   ]
  },
  {
   "cell_type": "code",
   "execution_count": 74,
   "metadata": {},
   "outputs": [
    {
     "name": "stdout",
     "output_type": "stream",
     "text": [
      "Input wrong sentence: ನಾನು ಪಕ್ಷಕ್ಕೆ ಬರುತ್ತಿದ್ದೀರಾ ? \n",
      "Actual corrected sentence  ನೀವು ಪಕ್ಷಕ್ಕೆ ಬರುತ್ತಿದ್ದೀರಾ ?  \n",
      "Predicted Translation:  ನೀವು ಪಕ್ಷಕ್ಕೆ ಬರುತ್ತಿದ್ದೀರಾ ? \n"
     ]
    }
   ],
   "source": [
    "k+=1\n",
    "(input_seq, actual_output), _ = next(train_gen)\n",
    "decoded_sentence = decode_sequence(input_seq)\n",
    "print('Input wrong sentence:', X_train[k:k+1].values[0])\n",
    "print('Actual corrected sentence', y_train[k:k+1].values[0][6:-4])\n",
    "print('Predicted Translation:', decoded_sentence[:-4])"
   ]
  },
  {
   "cell_type": "code",
   "execution_count": 75,
   "metadata": {},
   "outputs": [
    {
     "name": "stdout",
     "output_type": "stream",
     "text": [
      "Input wrong sentence: ಅವನಿಗೆ ಈಗ ತಿನ್ನುತ್ತಿದ್ದಾನೆ ? \n",
      "Actual corrected sentence  ಅವನು ಈಗ ತಿನ್ನುತ್ತಿದ್ದಾನೆ .  \n",
      "Predicted Translation:  ಅವನು ಈಗ ತಿನ್ನುತ್ತಿದ್ದಾನೆ . \n"
     ]
    }
   ],
   "source": [
    "k+=1\n",
    "(input_seq, actual_output), _ = next(train_gen)\n",
    "decoded_sentence = decode_sequence(input_seq)\n",
    "print('Input wrong sentence:', X_train[k:k+1].values[0])\n",
    "print('Actual corrected sentence', y_train[k:k+1].values[0][6:-4])\n",
    "print('Predicted Translation:', decoded_sentence[:-4])"
   ]
  },
  {
   "cell_type": "code",
   "execution_count": 76,
   "metadata": {},
   "outputs": [
    {
     "name": "stdout",
     "output_type": "stream",
     "text": [
      "Input wrong sentence: ಆಗ ಅವಳು ಏನು ಮಾಡುತ್ತಿದ್ದಳು . \n",
      "Actual corrected sentence  ಆಗ ಅವಳು ಏನು ಮಾಡುತ್ತಿದ್ದಳು ?  \n",
      "Predicted Translation:  ಅವಳು ಏನು ಮಾಡುತ್ತಿದ್ದಳು ? \n"
     ]
    }
   ],
   "source": [
    "k+=1\n",
    "(input_seq, actual_output), _ = next(train_gen)\n",
    "decoded_sentence = decode_sequence(input_seq)\n",
    "print('Input wrong sentence:', X_train[k:k+1].values[0])\n",
    "print('Actual corrected sentence', y_train[k:k+1].values[0][6:-4])\n",
    "print('Predicted Translation:', decoded_sentence[:-4])"
   ]
  },
  {
   "cell_type": "code",
   "execution_count": 77,
   "metadata": {},
   "outputs": [
    {
     "name": "stdout",
     "output_type": "stream",
     "text": [
      "Input wrong sentence: ಹುಡುಗಿ ಆಡುತ್ತಿದ್ದಾರೆ . \n",
      "Actual corrected sentence  ಹುಡುಗರು ಆಡುತ್ತಿದ್ದಾರೆ .  \n",
      "Predicted Translation:  ಹುಡುಗರು ಆಡುತ್ತಿದ್ದಾರೆ . \n"
     ]
    }
   ],
   "source": [
    "k+=1\n",
    "(input_seq, actual_output), _ = next(train_gen)\n",
    "decoded_sentence = decode_sequence(input_seq)\n",
    "print('Input wrong sentence:', X_train[k:k+1].values[0])\n",
    "print('Actual corrected sentence', y_train[k:k+1].values[0][6:-4])\n",
    "print('Predicted Translation:', decoded_sentence[:-4])"
   ]
  },
  {
   "cell_type": "code",
   "execution_count": 78,
   "metadata": {},
   "outputs": [
    {
     "name": "stdout",
     "output_type": "stream",
     "text": [
      "Input wrong sentence: ನಮ್ಮ ರಜೆಗಳು ನಾಳೆಯಿಂದ ಪ್ರಾರಂಭವಾಗುತ್ತದ ? \n",
      "Actual corrected sentence  ನಮ್ಮ ರಜೆಗಳು ನಾಳೆಯಿಂದ ಪ್ರಾರಂಭವಾಗುತ್ತಾ ?  \n",
      "Predicted Translation:  ನಮ್ಮ ರಜೆಗಳು ನಾಳೆಯಿಂದ ಪ್ರಾರಂಭವಾಗುತ್ತಾ ? \n"
     ]
    }
   ],
   "source": [
    "k+=1\n",
    "(input_seq, actual_output), _ = next(train_gen)\n",
    "decoded_sentence = decode_sequence(input_seq)\n",
    "print('Input wrong sentence:', X_train[k:k+1].values[0])\n",
    "print('Actual corrected sentence', y_train[k:k+1].values[0][6:-4])\n",
    "print('Predicted Translation:', decoded_sentence[:-4])"
   ]
  },
  {
   "cell_type": "code",
   "execution_count": 79,
   "metadata": {},
   "outputs": [
    {
     "name": "stdout",
     "output_type": "stream",
     "text": [
      "Input wrong sentence: ನಾನು ಬೆಕ್ಕುಗಳು ಮತ್ತು ನಾಯಿಗಳನ್ನು ಇಷ್ಟಪಡುತ್ತಾಳೆ . \n",
      "Actual corrected sentence  ನಾನು ಬೆಕ್ಕುಗಳು ಮತ್ತು ನಾಯಿಗಳನ್ನು ಇಷ್ಟಪಡುತ್ತೇನೆ .  \n",
      "Predicted Translation:  ಅವಳು ಬೆಕ್ಕುಗಳು ಮತ್ತು ನಾಯಿಗಳನ್ನು ಇಷ್ಟಪಡುತ್ತಾಳೆ . \n"
     ]
    }
   ],
   "source": [
    "k+=1\n",
    "(input_seq, actual_output), _ = next(train_gen)\n",
    "decoded_sentence = decode_sequence(input_seq)\n",
    "print('Input wrong sentence:', X_train[k:k+1].values[0])\n",
    "print('Actual corrected sentence', y_train[k:k+1].values[0][6:-4])\n",
    "print('Predicted Translation:', decoded_sentence[:-4])"
   ]
  },
  {
   "cell_type": "code",
   "execution_count": 80,
   "metadata": {},
   "outputs": [
    {
     "name": "stdout",
     "output_type": "stream",
     "text": [
      "Input wrong sentence: ಅವರು ನಿದ್ರೆಯಿಂದ ಎದ್ದನು . \n",
      "Actual corrected sentence  ಅವರು ನಿದ್ರೆಯಿಂದ ಎದ್ದರು .  \n",
      "Predicted Translation:  ಅವರು ಲೇಖನಗಳನ್ನು ಓದುತ್ತಿದ್ದರು . \n"
     ]
    }
   ],
   "source": [
    "k+=1\n",
    "(input_seq, actual_output), _ = next(train_gen)\n",
    "decoded_sentence = decode_sequence(input_seq)\n",
    "print('Input wrong sentence:', X_train[k:k+1].values[0])\n",
    "print('Actual corrected sentence', y_train[k:k+1].values[0][6:-4])\n",
    "print('Predicted Translation:', decoded_sentence[:-4])"
   ]
  },
  {
   "cell_type": "code",
   "execution_count": 81,
   "metadata": {},
   "outputs": [
    {
     "name": "stdout",
     "output_type": "stream",
     "text": [
      "Input wrong sentence: ಅದು ತನ್ನ ಬೆಕ್ಕುಗಳ ಜೊತೆ ಆಡುತ್ತಾಳೆ . \n",
      "Actual corrected sentence  ಅವಳು ತನ್ನ ಬೆಕ್ಕುಗಳ ಜೊತೆ ಆಡುತ್ತಾಳೆ .  \n",
      "Predicted Translation:  ಅವಳು ತನ್ನ ಬೆಕ್ಕುಗಳ ಜೊತೆ ಆಡುತ್ತಾಳೆ . \n"
     ]
    }
   ],
   "source": [
    "k+=1\n",
    "(input_seq, actual_output), _ = next(train_gen)\n",
    "decoded_sentence = decode_sequence(input_seq)\n",
    "print('Input wrong sentence:', X_train[k:k+1].values[0])\n",
    "print('Actual corrected sentence', y_train[k:k+1].values[0][6:-4])\n",
    "print('Predicted Translation:', decoded_sentence[:-4])"
   ]
  },
  {
   "cell_type": "code",
   "execution_count": 82,
   "metadata": {},
   "outputs": [
    {
     "name": "stdout",
     "output_type": "stream",
     "text": [
      "Input wrong sentence: ಮರದ ಮೇಲೆ ಅನೇಕ ಕೋತಿಗಳು ಇದೆ . \n",
      "Actual corrected sentence  ಮರದ ಮೇಲೆ ಅನೇಕ ಕೋತಿಗಳು ಇವೆ .  \n",
      "Predicted Translation:  ಮರದ ಮೇಲೆ ಅನೇಕ ಕೋತಿಗಳು ಇವೆ . \n"
     ]
    }
   ],
   "source": [
    "k+=1\n",
    "(input_seq, actual_output), _ = next(train_gen)\n",
    "decoded_sentence = decode_sequence(input_seq)\n",
    "print('Input wrong sentence:', X_train[k:k+1].values[0])\n",
    "print('Actual corrected sentence', y_train[k:k+1].values[0][6:-4])\n",
    "print('Predicted Translation:', decoded_sentence[:-4])"
   ]
  },
  {
   "cell_type": "code",
   "execution_count": 83,
   "metadata": {},
   "outputs": [
    {
     "name": "stdout",
     "output_type": "stream",
     "text": [
      "Input wrong sentence: ಅವನು ಬೆಕ್ಕುಗಳು ,  ನಾಯಿಗಳನ್ನು ಇಷ್ಟಪಡುತ್ತಾನೆ . \n",
      "Actual corrected sentence  ಅವನು ಬೆಕ್ಕುಗಳು ಮತ್ತು ನಾಯಿಗಳನ್ನು ಇಷ್ಟಪಡುತ್ತಾನೆ .  \n",
      "Predicted Translation:  ಅವನು ಬೆಕ್ಕುಗಳು ಮತ್ತು ನಾಯಿಗಳನ್ನು ಇಷ್ಟಪಡುತ್ತಾನೆ . \n"
     ]
    }
   ],
   "source": [
    "k+=1\n",
    "(input_seq, actual_output), _ = next(train_gen)\n",
    "decoded_sentence = decode_sequence(input_seq)\n",
    "print('Input wrong sentence:', X_train[k:k+1].values[0])\n",
    "print('Actual corrected sentence', y_train[k:k+1].values[0][6:-4])\n",
    "print('Predicted Translation:', decoded_sentence[:-4])"
   ]
  },
  {
   "cell_type": "code",
   "execution_count": 84,
   "metadata": {},
   "outputs": [
    {
     "name": "stdout",
     "output_type": "stream",
     "text": [
      "Input wrong sentence: ನಾಳೆ ಶಾಲೆಗೆ ಹೋಗಿದ್ದಾರೆ . \n",
      "Actual corrected sentence  ನಾಳೆ ಶಾಲೆಗೆ ಹೋಗುವೆನು .  \n",
      "Predicted Translation:  ನಾಳೆ ಶಾಲೆಗೆ ಹೋಗುವೆನು . \n"
     ]
    }
   ],
   "source": [
    "k+=1\n",
    "(input_seq, actual_output), _ = next(train_gen)\n",
    "decoded_sentence = decode_sequence(input_seq)\n",
    "print('Input wrong sentence:', X_train[k:k+1].values[0])\n",
    "print('Actual corrected sentence', y_train[k:k+1].values[0][6:-4])\n",
    "print('Predicted Translation:', decoded_sentence[:-4])"
   ]
  },
  {
   "cell_type": "code",
   "execution_count": 85,
   "metadata": {},
   "outputs": [
    {
     "name": "stdout",
     "output_type": "stream",
     "text": [
      "Input wrong sentence: ಅವರ ಮೊಮ್ಮಗಳು ಇವತ್ತು ಬರುತ್ತದೆ ? \n",
      "Actual corrected sentence  ಅವರ ಮೊಮ್ಮಗಳು ಇವತ್ತು ಬರ್ತಾಳೆ .  \n",
      "Predicted Translation:  ಅವರ ಮೊಮ್ಮಗಳು ಇವತ್ತು ಬರ್ತಾಳೆ . \n"
     ]
    }
   ],
   "source": [
    "k+=1\n",
    "(input_seq, actual_output), _ = next(train_gen)\n",
    "decoded_sentence = decode_sequence(input_seq)\n",
    "print('Input wrong sentence:', X_train[k:k+1].values[0])\n",
    "print('Actual corrected sentence', y_train[k:k+1].values[0][6:-4])\n",
    "print('Predicted Translation:', decoded_sentence[:-4])"
   ]
  },
  {
   "cell_type": "code",
   "execution_count": 86,
   "metadata": {},
   "outputs": [
    {
     "name": "stdout",
     "output_type": "stream",
     "text": [
      "Input wrong sentence: ಅವಳು ಬೆಕ್ಕುಗಳು ಮತ್ತು ನಾಯಿಗಳನ್ನು ಇಷ್ಟಪಡುತ್ತಾನೆ . \n",
      "Actual corrected sentence  ಅವಳು ಬೆಕ್ಕುಗಳು ಮತ್ತು ನಾಯಿಗಳನ್ನು ಇಷ್ಟಪಡುತ್ತಾಳೆ .  \n",
      "Predicted Translation:  ಅವನು ಬೆಕ್ಕುಗಳು ಮತ್ತು ನಾಯಿಗಳನ್ನು ಇಷ್ಟಪಡುತ್ತಾನೆ . \n"
     ]
    }
   ],
   "source": [
    "k+=1\n",
    "(input_seq, actual_output), _ = next(train_gen)\n",
    "decoded_sentence = decode_sequence(input_seq)\n",
    "print('Input wrong sentence:', X_train[k:k+1].values[0])\n",
    "print('Actual corrected sentence', y_train[k:k+1].values[0][6:-4])\n",
    "print('Predicted Translation:', decoded_sentence[:-4])"
   ]
  },
  {
   "cell_type": "code",
   "execution_count": null,
   "metadata": {},
   "outputs": [],
   "source": []
  },
  {
   "cell_type": "markdown",
   "metadata": {},
   "source": [
    "### Evaluation on Validation Dataset"
   ]
  },
  {
   "cell_type": "code",
   "execution_count": 87,
   "metadata": {},
   "outputs": [],
   "source": [
    "val_gen = generate_batch(X_test, y_test, batch_size = 1)\n",
    "k=-1"
   ]
  },
  {
   "cell_type": "code",
   "execution_count": 88,
   "metadata": {},
   "outputs": [
    {
     "name": "stdout",
     "output_type": "stream",
     "text": [
      "Input wrong sentence: ಅವಳು ಈಗ ಸಂತೋಷವಾಗಿದ್ದಾರೆ . \n",
      "Actual corrected sentence  ಅವರು ಈಗ ಸಂತೋಷವಾಗಿದ್ದಾರೆ .  \n",
      "Predicted Translation:  ನಿನ್ನ ವಯಸ್ಸು ಎಷ್ಟು ? \n"
     ]
    }
   ],
   "source": [
    "k+=1\n",
    "(input_seq, actual_output), _ = next(val_gen)\n",
    "decoded_sentence = decode_sequence(input_seq)\n",
    "print('Input wrong sentence:', X_train[k:k+1].values[0])\n",
    "print('Actual corrected sentence', y_train[k:k+1].values[0][6:-4])\n",
    "print('Predicted Translation:', decoded_sentence[:-4])"
   ]
  },
  {
   "cell_type": "code",
   "execution_count": 89,
   "metadata": {},
   "outputs": [
    {
     "name": "stdout",
     "output_type": "stream",
     "text": [
      "Input wrong sentence: ಮಗು ಆಟವಾಡುತ್ತಿವೆ . \n",
      "Actual corrected sentence  ಮಗು ಆಟವಾಡುತ್ತಿದೆ .  \n",
      "Predicted Translation:  ಭೂಮಿಯು ಸೂರ್ಯನ ಸುತ್ತ ಸುತ್ತುತ್ತದೆ . \n"
     ]
    }
   ],
   "source": [
    "k+=1\n",
    "(input_seq, actual_output), _ = next(val_gen)\n",
    "decoded_sentence = decode_sequence(input_seq)\n",
    "print('Input wrong sentence:', X_train[k:k+1].values[0])\n",
    "print('Actual corrected sentence', y_train[k:k+1].values[0][6:-4])\n",
    "print('Predicted Translation:', decoded_sentence[:-4])"
   ]
  },
  {
   "cell_type": "code",
   "execution_count": 90,
   "metadata": {},
   "outputs": [
    {
     "name": "stdout",
     "output_type": "stream",
     "text": [
      "Input wrong sentence: ಇದೆಲ್ಲ ನಿಮಗೆ ಹೇಗೆ ಗೊತ್ತಾ ? \n",
      "Actual corrected sentence  ಇದೆಲ್ಲ ನಿಮಗೆ ಹೇಗೆ ಗೊತ್ತು ?  \n",
      "Predicted Translation:  ನನಗೆ ತುಂಬಾ ಸ್ನೇಹಿತರಿದ್ದಾರೆ . \n"
     ]
    }
   ],
   "source": [
    "k+=1\n",
    "(input_seq, actual_output), _ = next(val_gen)\n",
    "decoded_sentence = decode_sequence(input_seq)\n",
    "print('Input wrong sentence:', X_train[k:k+1].values[0])\n",
    "print('Actual corrected sentence', y_train[k:k+1].values[0][6:-4])\n",
    "print('Predicted Translation:', decoded_sentence[:-4])"
   ]
  },
  {
   "cell_type": "code",
   "execution_count": 91,
   "metadata": {},
   "outputs": [
    {
     "name": "stdout",
     "output_type": "stream",
     "text": [
      "Input wrong sentence: ಅವರಿಗೆ ಮೂರು ಮಗು ಇದೆ . \n",
      "Actual corrected sentence  ಅವರಿಗೆ ಮೂರು ಮಕ್ಕಳು ಇದ್ದಾರೆ .  \n",
      "Predicted Translation:  ಅವಳು ಹೊರಡುವ ಮೊದಲು ನಿನ್ನನ್ನು ನೋಡುತ್ತಾಳೆ . \n"
     ]
    }
   ],
   "source": [
    "k+=1\n",
    "(input_seq, actual_output), _ = next(val_gen)\n",
    "decoded_sentence = decode_sequence(input_seq)\n",
    "print('Input wrong sentence:', X_train[k:k+1].values[0])\n",
    "print('Actual corrected sentence', y_train[k:k+1].values[0][6:-4])\n",
    "print('Predicted Translation:', decoded_sentence[:-4])"
   ]
  },
  {
   "cell_type": "code",
   "execution_count": 92,
   "metadata": {},
   "outputs": [
    {
     "name": "stdout",
     "output_type": "stream",
     "text": [
      "Input wrong sentence: ಅವನಿಗೆ ಒಬ್ಬ ಉದ್ದನೆಯ ತಂಗಿ ಇದ್ದಾನೆ ! \n",
      "Actual corrected sentence  ಅವನಿಗೆ ಒಬ್ಬ ಉದ್ದನೆಯ ಅಣ್ಣ ಇದ್ದಾನೆ .  \n",
      "Predicted Translation:  ಪ್ರಪಂಚದಲ್ಲಿ ಅನೇಕ ದೇಶಗಳು ಇವೆ . \n"
     ]
    }
   ],
   "source": [
    "k+=1\n",
    "(input_seq, actual_output), _ = next(val_gen)\n",
    "decoded_sentence = decode_sequence(input_seq)\n",
    "print('Input wrong sentence:', X_train[k:k+1].values[0])\n",
    "print('Actual corrected sentence', y_train[k:k+1].values[0][6:-4])\n",
    "print('Predicted Translation:', decoded_sentence[:-4])"
   ]
  },
  {
   "cell_type": "code",
   "execution_count": 93,
   "metadata": {},
   "outputs": [
    {
     "name": "stdout",
     "output_type": "stream",
     "text": [
      "Input wrong sentence: ಮನೆಯಲ್ಲಿ ಅನೇಕ ಇಲಿಗಳು ಇದಾಳೆ . \n",
      "Actual corrected sentence  ಮನೆಯಲ್ಲಿ ಅನೇಕ ಇಲಿಗಳು ಇವೆ .  \n",
      "Predicted Translation:  ಅವರು ನಗರದಲ್ಲಿ ಪ್ರೇಕ್ಷಕರನ್ನು ಮೋಸಗೊಳಿಸಿದನು . \n"
     ]
    }
   ],
   "source": [
    "k+=1\n",
    "(input_seq, actual_output), _ = next(val_gen)\n",
    "decoded_sentence = decode_sequence(input_seq)\n",
    "print('Input wrong sentence:', X_train[k:k+1].values[0])\n",
    "print('Actual corrected sentence', y_train[k:k+1].values[0][6:-4])\n",
    "print('Predicted Translation:', decoded_sentence[:-4])"
   ]
  },
  {
   "cell_type": "code",
   "execution_count": 94,
   "metadata": {},
   "outputs": [
    {
     "name": "stdout",
     "output_type": "stream",
     "text": [
      "Input wrong sentence: ನನ್ನ ಕಾಲು ನೋವುತ್ತಿವೆ . \n",
      "Actual corrected sentence  ನನ್ನ ಕಾಲು ನೋವುತ್ತಿದೆ .  \n",
      "Predicted Translation:  ನಾವು ಒಟ್ಟಿಗೆ ಹೋಗುತ್ತಿದ್ದೇವೆ . \n"
     ]
    }
   ],
   "source": [
    "k+=1\n",
    "(input_seq, actual_output), _ = next(val_gen)\n",
    "decoded_sentence = decode_sequence(input_seq)\n",
    "print('Input wrong sentence:', X_train[k:k+1].values[0])\n",
    "print('Actual corrected sentence', y_train[k:k+1].values[0][6:-4])\n",
    "print('Predicted Translation:', decoded_sentence[:-4])"
   ]
  },
  {
   "cell_type": "code",
   "execution_count": 95,
   "metadata": {},
   "outputs": [
    {
     "name": "stdout",
     "output_type": "stream",
     "text": [
      "Input wrong sentence: ಅವನು ಕನ್ನಡ ಮಾತನಾಡುತ್ತೀರಾ ? \n",
      "Actual corrected sentence  ನೀವು ಕನ್ನಡ ಮಾತನಾಡುತ್ತೀರಾ ?  \n",
      "Predicted Translation:  ಭೂಮಿಯು ಸೂರ್ಯನ ಸುತ್ತ ಸುತ್ತುತ್ತದೆ . \n"
     ]
    }
   ],
   "source": [
    "k+=1\n",
    "(input_seq, actual_output), _ = next(val_gen)\n",
    "decoded_sentence = decode_sequence(input_seq)\n",
    "print('Input wrong sentence:', X_train[k:k+1].values[0])\n",
    "print('Actual corrected sentence', y_train[k:k+1].values[0][6:-4])\n",
    "print('Predicted Translation:', decoded_sentence[:-4])"
   ]
  },
  {
   "cell_type": "code",
   "execution_count": 96,
   "metadata": {},
   "outputs": [
    {
     "name": "stdout",
     "output_type": "stream",
     "text": [
      "Input wrong sentence: ಅವನು ನನ್ನ ಗೆಳತಿ . \n",
      "Actual corrected sentence  ಅವಳು ನನ್ನ ಗೆಳತಿ .  \n",
      "Predicted Translation:  ಅವನು ತನ್ನ ಕಚೇರಿಯಲ್ಲಿ ಇದ್ದಾನೆ . \n"
     ]
    }
   ],
   "source": [
    "k+=1\n",
    "(input_seq, actual_output), _ = next(val_gen)\n",
    "decoded_sentence = decode_sequence(input_seq)\n",
    "print('Input wrong sentence:', X_train[k:k+1].values[0])\n",
    "print('Actual corrected sentence', y_train[k:k+1].values[0][6:-4])\n",
    "print('Predicted Translation:', decoded_sentence[:-4])"
   ]
  },
  {
   "cell_type": "code",
   "execution_count": 97,
   "metadata": {},
   "outputs": [
    {
     "name": "stdout",
     "output_type": "stream",
     "text": [
      "Input wrong sentence: ಮಾವಿನ ಮರದಲ್ಲಿ ಅನೆಕ ಹಣ್ಣುಗಳು ಇದೆ . \n",
      "Actual corrected sentence  ಮಾವಿನ ಮರದಲ್ಲಿ ಅನೆಕ ಹಣ್ಣುಗಳು ಇವೆ .  \n",
      "Predicted Translation:  ಕೋತಿಯು ಮರವನ್ನು ಹತ್ತುತ್ತದೆ . \n"
     ]
    }
   ],
   "source": [
    "k+=1\n",
    "(input_seq, actual_output), _ = next(val_gen)\n",
    "decoded_sentence = decode_sequence(input_seq)\n",
    "print('Input wrong sentence:', X_train[k:k+1].values[0])\n",
    "print('Actual corrected sentence', y_train[k:k+1].values[0][6:-4])\n",
    "print('Predicted Translation:', decoded_sentence[:-4])"
   ]
  },
  {
   "cell_type": "code",
   "execution_count": 98,
   "metadata": {},
   "outputs": [
    {
     "name": "stdout",
     "output_type": "stream",
     "text": [
      "Input wrong sentence: ಅಜ್ಜಿ ಈಗ ಮಲಿಗಿದ್ದಳು ? \n",
      "Actual corrected sentence  ಅಜ್ಜಿ ಈಗ ಮಲಿಗಿದ್ದಾರೆ .  \n",
      "Predicted Translation:  ನನ್ನ ಹತ್ತಿರ ಅನೇಕ ನಾಯಿಗಳು ಇವೆ . \n"
     ]
    }
   ],
   "source": [
    "k+=1\n",
    "(input_seq, actual_output), _ = next(val_gen)\n",
    "decoded_sentence = decode_sequence(input_seq)\n",
    "print('Input wrong sentence:', X_train[k:k+1].values[0])\n",
    "print('Actual corrected sentence', y_train[k:k+1].values[0][6:-4])\n",
    "print('Predicted Translation:', decoded_sentence[:-4])"
   ]
  },
  {
   "cell_type": "code",
   "execution_count": 99,
   "metadata": {},
   "outputs": [
    {
     "name": "stdout",
     "output_type": "stream",
     "text": [
      "Input wrong sentence: ಅವಳು ಶಾಲೆಗೆ ಹೋದನು . \n",
      "Actual corrected sentence  ಅವಳು ಶಾಲೆಗೆ ಹೋದಳು .  \n",
      "Predicted Translation:  ನನ್ನ ತಾಯಿ ತುಂಬಾ ಮುದ್ದಾಗಿದೆ . \n"
     ]
    }
   ],
   "source": [
    "k+=1\n",
    "(input_seq, actual_output), _ = next(val_gen)\n",
    "decoded_sentence = decode_sequence(input_seq)\n",
    "print('Input wrong sentence:', X_train[k:k+1].values[0])\n",
    "print('Actual corrected sentence', y_train[k:k+1].values[0][6:-4])\n",
    "print('Predicted Translation:', decoded_sentence[:-4])"
   ]
  },
  {
   "cell_type": "code",
   "execution_count": 100,
   "metadata": {},
   "outputs": [
    {
     "name": "stdout",
     "output_type": "stream",
     "text": [
      "Input wrong sentence: ಅಜ್ಜ ಈಗ ಮಲಿಗಿದ್ದಾಳೆ ? \n",
      "Actual corrected sentence  ಅಜ್ಜ ಈಗ ಮಲಿಗಿದ್ದಾರೆ .  \n",
      "Predicted Translation:  ನನ್ನ ಮನೆ ಹತ್ತಿರ ಹಸುಗಳು ಇವೆ . \n"
     ]
    }
   ],
   "source": [
    "k+=1\n",
    "(input_seq, actual_output), _ = next(val_gen)\n",
    "decoded_sentence = decode_sequence(input_seq)\n",
    "print('Input wrong sentence:', X_train[k:k+1].values[0])\n",
    "print('Actual corrected sentence', y_train[k:k+1].values[0][6:-4])\n",
    "print('Predicted Translation:', decoded_sentence[:-4])"
   ]
  },
  {
   "cell_type": "code",
   "execution_count": 101,
   "metadata": {},
   "outputs": [
    {
     "name": "stdout",
     "output_type": "stream",
     "text": [
      "Input wrong sentence: ಗುರುಗಳು ದೀಪ ಬೆಳಗಿದಳು . \n",
      "Actual corrected sentence  ಗುರುಗಳು ದೀಪ ಬೆಳಗಿದರು .  \n",
      "Predicted Translation:  ನಮ್ಮ ಹತ್ತಿರ ಹತ್ತು ಮಾವಿನಹಣ್ಣುಗಳು ಇವೆ . \n"
     ]
    }
   ],
   "source": [
    "k+=1\n",
    "(input_seq, actual_output), _ = next(val_gen)\n",
    "decoded_sentence = decode_sequence(input_seq)\n",
    "print('Input wrong sentence:', X_train[k:k+1].values[0])\n",
    "print('Actual corrected sentence', y_train[k:k+1].values[0][6:-4])\n",
    "print('Predicted Translation:', decoded_sentence[:-4])"
   ]
  },
  {
   "cell_type": "code",
   "execution_count": 102,
   "metadata": {},
   "outputs": [
    {
     "name": "stdout",
     "output_type": "stream",
     "text": [
      "Input wrong sentence: ಅವರು ನಗರದಲ್ಲಿ ವಾಸಿಸುತ್ತದೆ ? \n",
      "Actual corrected sentence  ಅವರು ನಗರದಲ್ಲಿ ವಾಸಿಸುತ್ತಿದ್ದಾರೆ .  \n",
      "Predicted Translation:  ಅಜ್ಜ ಈಗ ಮಲಿಗಿದ್ದಾರೆ . \n"
     ]
    }
   ],
   "source": [
    "k+=1\n",
    "(input_seq, actual_output), _ = next(val_gen)\n",
    "decoded_sentence = decode_sequence(input_seq)\n",
    "print('Input wrong sentence:', X_train[k:k+1].values[0])\n",
    "print('Actual corrected sentence', y_train[k:k+1].values[0][6:-4])\n",
    "print('Predicted Translation:', decoded_sentence[:-4])"
   ]
  },
  {
   "cell_type": "code",
   "execution_count": 103,
   "metadata": {},
   "outputs": [
    {
     "name": "stdout",
     "output_type": "stream",
     "text": [
      "Input wrong sentence: ನಿಮಗೆ ಎಷ್ಟು ಸಹೋದರಿಯರು ಇದ್ದಾನೆ ? \n",
      "Actual corrected sentence  ನಿಮಗೆ ಎಷ್ಟು ಸಹೋದರಿಯರು ಇದ್ದಾರೆ ?  \n",
      "Predicted Translation:  ಮನೆಯಲ್ಲಿ ಅನೇಕ ಇಲಿಗಳು ಇವೆ . \n"
     ]
    }
   ],
   "source": [
    "k+=1\n",
    "(input_seq, actual_output), _ = next(val_gen)\n",
    "decoded_sentence = decode_sequence(input_seq)\n",
    "print('Input wrong sentence:', X_train[k:k+1].values[0])\n",
    "print('Actual corrected sentence', y_train[k:k+1].values[0][6:-4])\n",
    "print('Predicted Translation:', decoded_sentence[:-4])"
   ]
  },
  {
   "cell_type": "code",
   "execution_count": 104,
   "metadata": {},
   "outputs": [
    {
     "name": "stdout",
     "output_type": "stream",
     "text": [
      "Input wrong sentence: ನನ್ನ ಮನೆ ಹತ್ತಿರ ,  ಹಸುಗಳು ಇವೆ . \n",
      "Actual corrected sentence  ನನ್ನ ಮನೆ ಹತ್ತಿರ ಹಸುಗಳು ಇವೆ .  \n",
      "Predicted Translation:  ಎಷ್ಟು ಹುಡುಗಿಯರು ಇದ್ದಾರೆ ? \n"
     ]
    }
   ],
   "source": [
    "k+=1\n",
    "(input_seq, actual_output), _ = next(val_gen)\n",
    "decoded_sentence = decode_sequence(input_seq)\n",
    "print('Input wrong sentence:', X_train[k:k+1].values[0])\n",
    "print('Actual corrected sentence', y_train[k:k+1].values[0][6:-4])\n",
    "print('Predicted Translation:', decoded_sentence[:-4])"
   ]
  },
  {
   "cell_type": "code",
   "execution_count": 105,
   "metadata": {},
   "outputs": [
    {
     "name": "stdout",
     "output_type": "stream",
     "text": [
      "Input wrong sentence: ಅವನು ದೂರದರ್ಶನವನ್ನು ವೀಕ್ಷಿಸುತ್ತಿದ್ದಾರೆ . \n",
      "Actual corrected sentence  ಅವರು ದೂರದರ್ಶನವನ್ನು ವೀಕ್ಷಿಸುತ್ತಿದ್ದಾರೆ .  \n",
      "Predicted Translation:  ಅವಳು ಅಳುತ್ತಿದ್ದಾಳೆ . \n"
     ]
    }
   ],
   "source": [
    "k+=1\n",
    "(input_seq, actual_output), _ = next(val_gen)\n",
    "decoded_sentence = decode_sequence(input_seq)\n",
    "print('Input wrong sentence:', X_train[k:k+1].values[0])\n",
    "print('Actual corrected sentence', y_train[k:k+1].values[0][6:-4])\n",
    "print('Predicted Translation:', decoded_sentence[:-4])"
   ]
  },
  {
   "cell_type": "code",
   "execution_count": 106,
   "metadata": {},
   "outputs": [
    {
     "name": "stdout",
     "output_type": "stream",
     "text": [
      "Input wrong sentence: ನೀನು ಹೋಗಲು ಸಿದ್ಧವಾಗಿದ್ದೀಯ ! \n",
      "Actual corrected sentence  ನೀನು ಹೋಗಲು ಸಿದ್ಧವಾಗಿದ್ದೀಯಾ ?  \n",
      "Predicted Translation:  ಅವರು ಪ್ರತಿದಿನ ಶಾಲೆಗೆ ಹೋಗುತ್ತಾನೆ . \n"
     ]
    }
   ],
   "source": [
    "k+=1\n",
    "(input_seq, actual_output), _ = next(val_gen)\n",
    "decoded_sentence = decode_sequence(input_seq)\n",
    "print('Input wrong sentence:', X_train[k:k+1].values[0])\n",
    "print('Actual corrected sentence', y_train[k:k+1].values[0][6:-4])\n",
    "print('Predicted Translation:', decoded_sentence[:-4])"
   ]
  },
  {
   "cell_type": "code",
   "execution_count": 107,
   "metadata": {},
   "outputs": [
    {
     "name": "stdout",
     "output_type": "stream",
     "text": [
      "Input wrong sentence: ರಾಮನು ಗಾಜನ್ನು ಒಡೆದನು ! \n",
      "Actual corrected sentence  ರಾಮನು ಗಾಜನ್ನು ಒಡೆದನು .  \n",
      "Predicted Translation:  ಅವರು ಲೇಖನಗಳನ್ನು ಓದುತ್ತಿದ್ದರು . \n"
     ]
    }
   ],
   "source": [
    "k+=1\n",
    "(input_seq, actual_output), _ = next(val_gen)\n",
    "decoded_sentence = decode_sequence(input_seq)\n",
    "print('Input wrong sentence:', X_train[k:k+1].values[0])\n",
    "print('Actual corrected sentence', y_train[k:k+1].values[0][6:-4])\n",
    "print('Predicted Translation:', decoded_sentence[:-4])"
   ]
  },
  {
   "cell_type": "code",
   "execution_count": 108,
   "metadata": {},
   "outputs": [
    {
     "name": "stdout",
     "output_type": "stream",
     "text": [
      "Input wrong sentence: ಅವರು ಹೋರಾಟವನ್ನು ನಿಲ್ಲಿಸಲು ನಿರ್ಧರಿಸಿದನು . \n",
      "Actual corrected sentence  ಅವರು ಹೋರಾಟವನ್ನು ನಿಲ್ಲಿಸಲು ನಿರ್ಧರಿಸಿದರು .  \n",
      "Predicted Translation:  ನಮ್ಮ ರಜೆಗಳು ನಾಳೆಯಿಂದ ಪ್ರಾರಂಭವಾಗುತ್ತವೆ . \n"
     ]
    }
   ],
   "source": [
    "k+=1\n",
    "(input_seq, actual_output), _ = next(val_gen)\n",
    "decoded_sentence = decode_sequence(input_seq)\n",
    "print('Input wrong sentence:', X_train[k:k+1].values[0])\n",
    "print('Actual corrected sentence', y_train[k:k+1].values[0][6:-4])\n",
    "print('Predicted Translation:', decoded_sentence[:-4])"
   ]
  },
  {
   "cell_type": "code",
   "execution_count": 109,
   "metadata": {},
   "outputs": [
    {
     "name": "stdout",
     "output_type": "stream",
     "text": [
      "Input wrong sentence: ಅವನು ನಾಳೆ ಬರುತ್ತಿದ್ದಾರೆ ? \n",
      "Actual corrected sentence  ಅವನು ನಾಳೆ ಬರುತ್ತಿದ್ದಾನೆ .  \n",
      "Predicted Translation:  ನನ್ನ ಹತ್ತಿರ ಒಂದು ನಾಯಿ ಇದೆ . \n"
     ]
    }
   ],
   "source": [
    "k+=1\n",
    "(input_seq, actual_output), _ = next(val_gen)\n",
    "decoded_sentence = decode_sequence(input_seq)\n",
    "print('Input wrong sentence:', X_train[k:k+1].values[0])\n",
    "print('Actual corrected sentence', y_train[k:k+1].values[0][6:-4])\n",
    "print('Predicted Translation:', decoded_sentence[:-4])"
   ]
  },
  {
   "cell_type": "code",
   "execution_count": 110,
   "metadata": {},
   "outputs": [
    {
     "name": "stdout",
     "output_type": "stream",
     "text": [
      "Input wrong sentence: ಅವರಿಗೆ ಮೂರು ಮಗು ಇದ್ದಾರೆ . \n",
      "Actual corrected sentence  ಅವರಿಗೆ ಮೂರು ಮಕ್ಕಳು ಇದ್ದಾರೆ .  \n",
      "Predicted Translation:  ನೀವು ನಿಧಾನವಾಗಿ ಮಾತನಾಡಬಹುದಾ ? \n"
     ]
    }
   ],
   "source": [
    "k+=1\n",
    "(input_seq, actual_output), _ = next(val_gen)\n",
    "decoded_sentence = decode_sequence(input_seq)\n",
    "print('Input wrong sentence:', X_train[k:k+1].values[0])\n",
    "print('Actual corrected sentence', y_train[k:k+1].values[0][6:-4])\n",
    "print('Predicted Translation:', decoded_sentence[:-4])"
   ]
  },
  {
   "cell_type": "code",
   "execution_count": 111,
   "metadata": {},
   "outputs": [
    {
     "name": "stdout",
     "output_type": "stream",
     "text": [
      "Input wrong sentence: ನೀವು ಎಲ್ಲಿ ವಾಸಿಸುತ್ತೀರ . \n",
      "Actual corrected sentence  ನೀವು ಎಲ್ಲಿ ವಾಸಿಸುತ್ತೀರ ?  \n",
      "Predicted Translation:  ನನ್ನ ನೃತ್ಯ ಹೇಗಿತ್ತು ? \n"
     ]
    }
   ],
   "source": [
    "k+=1\n",
    "(input_seq, actual_output), _ = next(val_gen)\n",
    "decoded_sentence = decode_sequence(input_seq)\n",
    "print('Input wrong sentence:', X_train[k:k+1].values[0])\n",
    "print('Actual corrected sentence', y_train[k:k+1].values[0][6:-4])\n",
    "print('Predicted Translation:', decoded_sentence[:-4])"
   ]
  },
  {
   "cell_type": "code",
   "execution_count": 112,
   "metadata": {},
   "outputs": [
    {
     "name": "stdout",
     "output_type": "stream",
     "text": [
      "Input wrong sentence: ನಮ್ಮ ರಜೆಗಳು ನಾಳೆಯಿಂದ ಪ್ರಾರಂಭವಾಗುತ್ತಾಳಾ ? \n",
      "Actual corrected sentence  ನಮ್ಮ ರಜೆಗಳು ನಾಳೆಯಿಂದ ಪ್ರಾರಂಭವಾಗುತ್ತಾ ?  \n",
      "Predicted Translation:  ನೀವು ಅದನ್ನು ಅವಳಿಗೆ ಅನೆಕ ಇಮೇಲ್ ? \n"
     ]
    }
   ],
   "source": [
    "k+=1\n",
    "(input_seq, actual_output), _ = next(val_gen)\n",
    "decoded_sentence = decode_sequence(input_seq)\n",
    "print('Input wrong sentence:', X_train[k:k+1].values[0])\n",
    "print('Actual corrected sentence', y_train[k:k+1].values[0][6:-4])\n",
    "print('Predicted Translation:', decoded_sentence[:-4])"
   ]
  },
  {
   "cell_type": "code",
   "execution_count": 113,
   "metadata": {},
   "outputs": [
    {
     "name": "stdout",
     "output_type": "stream",
     "text": [
      "Input wrong sentence: ನಾನು ರಜೆಗಳು ನಾಳೆಯಿಂದ ಪ್ರಾರಂಭವಾಗುತ್ತವೆ . \n",
      "Actual corrected sentence  ನಮ್ಮ ರಜೆಗಳು ನಾಳೆಯಿಂದ ಪ್ರಾರಂಭವಾಗುತ್ತವೆ .  \n",
      "Predicted Translation:  ಏನು ಅದ್ಭುತ ಕಲ್ಪನೆ ! \n"
     ]
    }
   ],
   "source": [
    "k+=1\n",
    "(input_seq, actual_output), _ = next(val_gen)\n",
    "decoded_sentence = decode_sequence(input_seq)\n",
    "print('Input wrong sentence:', X_train[k:k+1].values[0])\n",
    "print('Actual corrected sentence', y_train[k:k+1].values[0][6:-4])\n",
    "print('Predicted Translation:', decoded_sentence[:-4])"
   ]
  },
  {
   "cell_type": "code",
   "execution_count": 114,
   "metadata": {},
   "outputs": [
    {
     "name": "stdout",
     "output_type": "stream",
     "text": [
      "Input wrong sentence: ಅವನು ಬೆಕ್ಕುಗಳು ಮತ್ತು ನಾಯಿಗಳನ್ನು ಇಷ್ಟಪಡುತ್ತದೆ . \n",
      "Actual corrected sentence  ಅವನು ಬೆಕ್ಕುಗಳು ಮತ್ತು ನಾಯಿಗಳನ್ನು ಇಷ್ಟಪಡುತ್ತಾನೆ .  \n",
      "Predicted Translation:  ನೀವು ಏನು ಮಾಡುತ್ತಿದ್ದೀರಾ ? \n"
     ]
    }
   ],
   "source": [
    "k+=1\n",
    "(input_seq, actual_output), _ = next(val_gen)\n",
    "decoded_sentence = decode_sequence(input_seq)\n",
    "print('Input wrong sentence:', X_train[k:k+1].values[0])\n",
    "print('Actual corrected sentence', y_train[k:k+1].values[0][6:-4])\n",
    "print('Predicted Translation:', decoded_sentence[:-4])"
   ]
  },
  {
   "cell_type": "code",
   "execution_count": 115,
   "metadata": {},
   "outputs": [
    {
     "name": "stdout",
     "output_type": "stream",
     "text": [
      "Input wrong sentence: ಆ ಸ್ಥಳ ಎಲ್ಲಿದೆ ! \n",
      "Actual corrected sentence  ಆ ಸ್ಥಳ ಎಲ್ಲಿದೆ ?  \n",
      "Predicted Translation:  ಅನೇಕ ವೈದ್ಯರು ಸಭೆಯಲ್ಲಿ ಭಾಗವಹಿಸಿದ್ದರು . \n"
     ]
    }
   ],
   "source": [
    "k+=1\n",
    "(input_seq, actual_output), _ = next(val_gen)\n",
    "decoded_sentence = decode_sequence(input_seq)\n",
    "print('Input wrong sentence:', X_train[k:k+1].values[0])\n",
    "print('Actual corrected sentence', y_train[k:k+1].values[0][6:-4])\n",
    "print('Predicted Translation:', decoded_sentence[:-4])"
   ]
  },
  {
   "cell_type": "code",
   "execution_count": 116,
   "metadata": {},
   "outputs": [
    {
     "name": "stdout",
     "output_type": "stream",
     "text": [
      "Input wrong sentence: ಅವಳು ಊರಿಗೆ ಹೋದರು . \n",
      "Actual corrected sentence  ಅವರು ಊರಿಗೆ ಹೋದರು .  \n",
      "Predicted Translation:  ನಾನು ಬೆಕ್ಕುಗಳು , ನಾಯಿಗಳು ಮತ್ತು ಪಕ್ಷಿಗಳನ್ನು ಇಷ್ಟಪಡುತ್\n"
     ]
    }
   ],
   "source": [
    "k+=1\n",
    "(input_seq, actual_output), _ = next(val_gen)\n",
    "decoded_sentence = decode_sequence(input_seq)\n",
    "print('Input wrong sentence:', X_train[k:k+1].values[0])\n",
    "print('Actual corrected sentence', y_train[k:k+1].values[0][6:-4])\n",
    "print('Predicted Translation:', decoded_sentence[:-4])"
   ]
  },
  {
   "cell_type": "code",
   "execution_count": 117,
   "metadata": {},
   "outputs": [
    {
     "name": "stdout",
     "output_type": "stream",
     "text": [
      "Input wrong sentence: ಅವನು ಸಂಗೀತ ಕಲಿತರು . \n",
      "Actual corrected sentence  ಅವನು ಸಂಗೀತ ಕಲಿತನು .  \n",
      "Predicted Translation:  ನೀವು ಕನ್ನಡ ಮಾತನಾಡುತ್ತೀರಾ ? \n"
     ]
    }
   ],
   "source": [
    "k+=1\n",
    "(input_seq, actual_output), _ = next(val_gen)\n",
    "decoded_sentence = decode_sequence(input_seq)\n",
    "print('Input wrong sentence:', X_train[k:k+1].values[0])\n",
    "print('Actual corrected sentence', y_train[k:k+1].values[0][6:-4])\n",
    "print('Predicted Translation:', decoded_sentence[:-4])"
   ]
  },
  {
   "cell_type": "code",
   "execution_count": 118,
   "metadata": {},
   "outputs": [
    {
     "name": "stdout",
     "output_type": "stream",
     "text": [
      "Input wrong sentence: ನಾನು ಇದನ್ನು ಎಲ್ಲಿ ಬಿಡಬಹುದು ! \n",
      "Actual corrected sentence  ನಾನು ಇದನ್ನು ಎಲ್ಲಿ ಬಿಡಬಹುದು ?  \n",
      "Predicted Translation:  ಅವರು ತುಂಬಾ ಕಲಿತನು . \n"
     ]
    }
   ],
   "source": [
    "k+=1\n",
    "(input_seq, actual_output), _ = next(val_gen)\n",
    "decoded_sentence = decode_sequence(input_seq)\n",
    "print('Input wrong sentence:', X_train[k:k+1].values[0])\n",
    "print('Actual corrected sentence', y_train[k:k+1].values[0][6:-4])\n",
    "print('Predicted Translation:', decoded_sentence[:-4])"
   ]
  },
  {
   "cell_type": "code",
   "execution_count": 119,
   "metadata": {},
   "outputs": [
    {
     "name": "stdout",
     "output_type": "stream",
     "text": [
      "Input wrong sentence: ನಮ್ಮ ಹತ್ತಿರ ಹತ್ತು ಮಾವಿನಹಣ್ಣುಗಳು ಇದೆ . \n",
      "Actual corrected sentence  ನಮ್ಮ ಹತ್ತಿರ ಹತ್ತು ಮಾವಿನಹಣ್ಣುಗಳು ಇವೆ .  \n",
      "Predicted Translation:  ನಾನು ಸಂಗೀತ ಕಲಿಯುತ್ತಿದ್ದೇನೆ . \n"
     ]
    }
   ],
   "source": [
    "k+=1\n",
    "(input_seq, actual_output), _ = next(val_gen)\n",
    "decoded_sentence = decode_sequence(input_seq)\n",
    "print('Input wrong sentence:', X_train[k:k+1].values[0])\n",
    "print('Actual corrected sentence', y_train[k:k+1].values[0][6:-4])\n",
    "print('Predicted Translation:', decoded_sentence[:-4])"
   ]
  },
  {
   "cell_type": "code",
   "execution_count": 86,
   "metadata": {},
   "outputs": [
    {
     "name": "stdout",
     "output_type": "stream",
     "text": [
      "Input English sentence: ನನ್ನ ಹತ್ತಿರ ಅನೇಕ ಪುಸ್ತಕಗಳು ಇದೆ . \n",
      "Actual Marathi Translation:  ನನ್ನ ಹತ್ತಿರ ಅನೇಕ ಪುಸ್ತಕಗಳು ಇವೆ .  \n",
      "Predicted Marathi Translation:  ನನ್ನ ಹತ್ತಿರ ಅನೇಕ ಪುಸ್ತಕಗಳು ಇವೆ . \n"
     ]
    }
   ],
   "source": [
    "k+=1\n",
    "(input_seq, actual_output), _ = next(val_gen)\n",
    "decoded_sentence = decode_sequence(input_seq)\n",
    "print('Input English sentence:', X_test[k:k+1].values[0])\n",
    "print('Actual Marathi Translation:', y_test[k:k+1].values[0][6:-4])\n",
    "print('Predicted Marathi Translation:', decoded_sentence[:-4])"
   ]
  },
  {
   "cell_type": "code",
   "execution_count": 120,
   "metadata": {},
   "outputs": [
    {
     "name": "stdout",
     "output_type": "stream",
     "text": [
      "Input wrong sentence: ಮತ್ತೆ ಭೇಟಿಮಾಡುವ . \n",
      "Actual corrected sentence  ಮತ್ತೆ ಭೇಟಿಮಾಡುವೆ .  \n",
      "Predicted Translation:  ಅವನು ಬೆಕ್ಕುಗಳು ಮತ್ತು ನಾಯಿಗಳನ್ನು ಇಷ್ಟಪಡುತ್ತಾನೆ . \n"
     ]
    }
   ],
   "source": [
    "k+=1\n",
    "(input_seq, actual_output), _ = next(val_gen)\n",
    "decoded_sentence = decode_sequence(input_seq)\n",
    "print('Input wrong sentence:', X_train[k:k+1].values[0])\n",
    "print('Actual corrected sentence', y_train[k:k+1].values[0][6:-4])\n",
    "print('Predicted Translation:', decoded_sentence[:-4])"
   ]
  },
  {
   "cell_type": "code",
   "execution_count": 121,
   "metadata": {},
   "outputs": [
    {
     "name": "stdout",
     "output_type": "stream",
     "text": [
      "Input wrong sentence: ಅವನು ನಗರದಲ್ಲಿ ವಾಸಿಸುತ್ತಾಳೆ . \n",
      "Actual corrected sentence  ಅವನು ನಗರದಲ್ಲಿ ವಾಸಿಸುತ್ತಾನೆ .  \n",
      "Predicted Translation:  ಎಷ್ಟು ಸುಂದರ ! \n"
     ]
    }
   ],
   "source": [
    "k+=1\n",
    "(input_seq, actual_output), _ = next(val_gen)\n",
    "decoded_sentence = decode_sequence(input_seq)\n",
    "print('Input wrong sentence:', X_train[k:k+1].values[0])\n",
    "print('Actual corrected sentence', y_train[k:k+1].values[0][6:-4])\n",
    "print('Predicted Translation:', decoded_sentence[:-4])"
   ]
  },
  {
   "cell_type": "code",
   "execution_count": 122,
   "metadata": {},
   "outputs": [
    {
     "name": "stdout",
     "output_type": "stream",
     "text": [
      "Input wrong sentence: ರಾಮನು ಗಾಜನ್ನು ಒಡೆದನು ? \n",
      "Actual corrected sentence  ರಾಮನು ಗಾಜನ್ನು ಒಡೆದನು .  \n",
      "Predicted Translation:  ನಿಮ್ಮ ಹತ್ತಿರ ಎಷ್ಟು ಹಣ್ಣುಗಳಿವೆ ? \n"
     ]
    }
   ],
   "source": [
    "k+=1\n",
    "(input_seq, actual_output), _ = next(val_gen)\n",
    "decoded_sentence = decode_sequence(input_seq)\n",
    "print('Input wrong sentence:', X_train[k:k+1].values[0])\n",
    "print('Actual corrected sentence', y_train[k:k+1].values[0][6:-4])\n",
    "print('Predicted Translation:', decoded_sentence[:-4])"
   ]
  },
  {
   "cell_type": "code",
   "execution_count": 123,
   "metadata": {},
   "outputs": [
    {
     "name": "stdout",
     "output_type": "stream",
     "text": [
      "Input wrong sentence: ನನಗೆ ತುಂಬಾ ಸ್ನೇಹಿತ ಇದಾನೆ . \n",
      "Actual corrected sentence  ನನಗೆ ತುಂಬಾ ಸ್ನೇಹಿತರಿದ್ದಾರೆ .  \n",
      "Predicted Translation:  ಕೋತಿಯು ಮರವನ್ನು ಹತ್ತುತ್ತದೆ . \n"
     ]
    }
   ],
   "source": [
    "k+=1\n",
    "(input_seq, actual_output), _ = next(val_gen)\n",
    "decoded_sentence = decode_sequence(input_seq)\n",
    "print('Input wrong sentence:', X_train[k:k+1].values[0])\n",
    "print('Actual corrected sentence', y_train[k:k+1].values[0][6:-4])\n",
    "print('Predicted Translation:', decoded_sentence[:-4])"
   ]
  },
  {
   "cell_type": "code",
   "execution_count": 124,
   "metadata": {},
   "outputs": [
    {
     "name": "stdout",
     "output_type": "stream",
     "text": [
      "Input wrong sentence: ಶಿಶು ಮಲಗಿದ್ದಾರೆ . \n",
      "Actual corrected sentence  ಶಿಶುಗಳು ಮಲಗಿದ್ದಾರೆ .  \n",
      "Predicted Translation:  ಕಮಲ ನಾಳೆ ಊಟ ಮಾಡುತ್ತಾಳೆ . \n"
     ]
    }
   ],
   "source": [
    "k+=1\n",
    "(input_seq, actual_output), _ = next(val_gen)\n",
    "decoded_sentence = decode_sequence(input_seq)\n",
    "print('Input wrong sentence:', X_train[k:k+1].values[0])\n",
    "print('Actual corrected sentence', y_train[k:k+1].values[0][6:-4])\n",
    "print('Predicted Translation:', decoded_sentence[:-4])"
   ]
  },
  {
   "cell_type": "code",
   "execution_count": 125,
   "metadata": {},
   "outputs": [
    {
     "name": "stdout",
     "output_type": "stream",
     "text": [
      "Input wrong sentence: ಅದು ಹತ್ತು ಪುಸ್ತಕಗಳನ್ನು ಖರೀದಿಸಿದಳು . \n",
      "Actual corrected sentence  ಅವಳು ಹತ್ತು ಪುಸ್ತಕಗಳನ್ನು ಖರೀದಿಸಿದಳು .  \n",
      "Predicted Translation:  ಅವನು ಅಳುತ್ತಿದ್ದಾನೆ . \n"
     ]
    }
   ],
   "source": [
    "k+=1\n",
    "(input_seq, actual_output), _ = next(val_gen)\n",
    "decoded_sentence = decode_sequence(input_seq)\n",
    "print('Input wrong sentence:', X_train[k:k+1].values[0])\n",
    "print('Actual corrected sentence', y_train[k:k+1].values[0][6:-4])\n",
    "print('Predicted Translation:', decoded_sentence[:-4])"
   ]
  },
  {
   "cell_type": "code",
   "execution_count": 126,
   "metadata": {},
   "outputs": [
    {
     "name": "stdout",
     "output_type": "stream",
     "text": [
      "Input wrong sentence: ನನ್ನ ನೃತ್ಯ ಹೇಗಿತ್ತು . \n",
      "Actual corrected sentence  ನನ್ನ ನೃತ್ಯ ಹೇಗಿತ್ತು ?  \n",
      "Predicted Translation:  ಶಿಶುಗಳು ಮಲಗಿದ್ದಾರೆ . \n"
     ]
    }
   ],
   "source": [
    "k+=1\n",
    "(input_seq, actual_output), _ = next(val_gen)\n",
    "decoded_sentence = decode_sequence(input_seq)\n",
    "print('Input wrong sentence:', X_train[k:k+1].values[0])\n",
    "print('Actual corrected sentence', y_train[k:k+1].values[0][6:-4])\n",
    "print('Predicted Translation:', decoded_sentence[:-4])"
   ]
  },
  {
   "cell_type": "code",
   "execution_count": 127,
   "metadata": {},
   "outputs": [
    {
     "name": "stdout",
     "output_type": "stream",
     "text": [
      "Input wrong sentence: ಅವನು ತನ್ನ ಬಟ್ಟೆಗಳನ್ನು ಬದಲಾಯಿಸಿದರು . \n",
      "Actual corrected sentence  ಅವನು ತನ್ನ ಬಟ್ಟೆಗಳನ್ನು ಬದಲಾಯಿಸಿದನು .  \n",
      "Predicted Translation:  ನೀವು ಕನ್ನಡ ಮಾತನಾಡುತ್ತೀರಾ ? \n"
     ]
    }
   ],
   "source": [
    "k+=1\n",
    "(input_seq, actual_output), _ = next(val_gen)\n",
    "decoded_sentence = decode_sequence(input_seq)\n",
    "print('Input wrong sentence:', X_train[k:k+1].values[0])\n",
    "print('Actual corrected sentence', y_train[k:k+1].values[0][6:-4])\n",
    "print('Predicted Translation:', decoded_sentence[:-4])"
   ]
  },
  {
   "cell_type": "code",
   "execution_count": 128,
   "metadata": {},
   "outputs": [
    {
     "name": "stdout",
     "output_type": "stream",
     "text": [
      "Input wrong sentence: ನಾನು ಪಕ್ಷಕ್ಕೆ ಬರುತ್ತಿದ್ದೀರಾ ? \n",
      "Actual corrected sentence  ನೀವು ಪಕ್ಷಕ್ಕೆ ಬರುತ್ತಿದ್ದೀರಾ ?  \n",
      "Predicted Translation:  ನೀವು ಎಲ್ಲಿನವರು ? \n"
     ]
    }
   ],
   "source": [
    "k+=1\n",
    "(input_seq, actual_output), _ = next(val_gen)\n",
    "decoded_sentence = decode_sequence(input_seq)\n",
    "print('Input wrong sentence:', X_train[k:k+1].values[0])\n",
    "print('Actual corrected sentence', y_train[k:k+1].values[0][6:-4])\n",
    "print('Predicted Translation:', decoded_sentence[:-4])"
   ]
  },
  {
   "cell_type": "code",
   "execution_count": 129,
   "metadata": {},
   "outputs": [
    {
     "name": "stdout",
     "output_type": "stream",
     "text": [
      "Input wrong sentence: ಅವನಿಗೆ ಈಗ ತಿನ್ನುತ್ತಿದ್ದಾನೆ ? \n",
      "Actual corrected sentence  ಅವನು ಈಗ ತಿನ್ನುತ್ತಿದ್ದಾನೆ .  \n",
      "Predicted Translation:  ಶಿಶುಗಳು ಮಲಗಿದ್ದಾರೆ . \n"
     ]
    }
   ],
   "source": [
    "k+=1\n",
    "(input_seq, actual_output), _ = next(val_gen)\n",
    "decoded_sentence = decode_sequence(input_seq)\n",
    "print('Input wrong sentence:', X_train[k:k+1].values[0])\n",
    "print('Actual corrected sentence', y_train[k:k+1].values[0][6:-4])\n",
    "print('Predicted Translation:', decoded_sentence[:-4])"
   ]
  },
  {
   "cell_type": "code",
   "execution_count": 130,
   "metadata": {},
   "outputs": [
    {
     "name": "stdout",
     "output_type": "stream",
     "text": [
      "Input wrong sentence: ಆಗ ಅವಳು ಏನು ಮಾಡುತ್ತಿದ್ದಳು . \n",
      "Actual corrected sentence  ಆಗ ಅವಳು ಏನು ಮಾಡುತ್ತಿದ್ದಳು ?  \n",
      "Predicted Translation:  ಅವನು ಆಟವಾಡುತ್ತಿದ್ದಾನೆ . \n"
     ]
    }
   ],
   "source": [
    "k+=1\n",
    "(input_seq, actual_output), _ = next(val_gen)\n",
    "decoded_sentence = decode_sequence(input_seq)\n",
    "print('Input wrong sentence:', X_train[k:k+1].values[0])\n",
    "print('Actual corrected sentence', y_train[k:k+1].values[0][6:-4])\n",
    "print('Predicted Translation:', decoded_sentence[:-4])"
   ]
  },
  {
   "cell_type": "code",
   "execution_count": 131,
   "metadata": {},
   "outputs": [
    {
     "name": "stdout",
     "output_type": "stream",
     "text": [
      "Input wrong sentence: ಹುಡುಗಿ ಆಡುತ್ತಿದ್ದಾರೆ . \n",
      "Actual corrected sentence  ಹುಡುಗರು ಆಡುತ್ತಿದ್ದಾರೆ .  \n",
      "Predicted Translation:  ಅವನು ಈಗ ತಿನ್ನುತ್ತಿದ್ದಾನೆ . \n"
     ]
    }
   ],
   "source": [
    "k+=1\n",
    "(input_seq, actual_output), _ = next(val_gen)\n",
    "decoded_sentence = decode_sequence(input_seq)\n",
    "print('Input wrong sentence:', X_train[k:k+1].values[0])\n",
    "print('Actual corrected sentence', y_train[k:k+1].values[0][6:-4])\n",
    "print('Predicted Translation:', decoded_sentence[:-4])"
   ]
  },
  {
   "cell_type": "code",
   "execution_count": 132,
   "metadata": {},
   "outputs": [
    {
     "name": "stdout",
     "output_type": "stream",
     "text": [
      "Input wrong sentence: ನಮ್ಮ ರಜೆಗಳು ನಾಳೆಯಿಂದ ಪ್ರಾರಂಭವಾಗುತ್ತದ ? \n",
      "Actual corrected sentence  ನಮ್ಮ ರಜೆಗಳು ನಾಳೆಯಿಂದ ಪ್ರಾರಂಭವಾಗುತ್ತಾ ?  \n",
      "Predicted Translation:  ಅವಳು ಹೊರಡುವ ಮೊದಲು ನಿನ್ನನ್ನು ನೋಡುತ್ತಾಳೆ . \n"
     ]
    }
   ],
   "source": [
    "k+=1\n",
    "(input_seq, actual_output), _ = next(val_gen)\n",
    "decoded_sentence = decode_sequence(input_seq)\n",
    "print('Input wrong sentence:', X_train[k:k+1].values[0])\n",
    "print('Actual corrected sentence', y_train[k:k+1].values[0][6:-4])\n",
    "print('Predicted Translation:', decoded_sentence[:-4])"
   ]
  },
  {
   "cell_type": "code",
   "execution_count": 133,
   "metadata": {},
   "outputs": [
    {
     "name": "stdout",
     "output_type": "stream",
     "text": [
      "Input wrong sentence: ನಾನು ಬೆಕ್ಕುಗಳು ಮತ್ತು ನಾಯಿಗಳನ್ನು ಇಷ್ಟಪಡುತ್ತಾಳೆ . \n",
      "Actual corrected sentence  ನಾನು ಬೆಕ್ಕುಗಳು ಮತ್ತು ನಾಯಿಗಳನ್ನು ಇಷ್ಟಪಡುತ್ತೇನೆ .  \n",
      "Predicted Translation:  ಅಪ್ಪ ಕೆಲಸಕ್ಕೆ ಹೋಗಿದಾರೆ . \n"
     ]
    }
   ],
   "source": [
    "k+=1\n",
    "(input_seq, actual_output), _ = next(val_gen)\n",
    "decoded_sentence = decode_sequence(input_seq)\n",
    "print('Input wrong sentence:', X_train[k:k+1].values[0])\n",
    "print('Actual corrected sentence', y_train[k:k+1].values[0][6:-4])\n",
    "print('Predicted Translation:', decoded_sentence[:-4])"
   ]
  },
  {
   "cell_type": "code",
   "execution_count": 134,
   "metadata": {},
   "outputs": [
    {
     "name": "stdout",
     "output_type": "stream",
     "text": [
      "Input wrong sentence: ಅವರು ನಿದ್ರೆಯಿಂದ ಎದ್ದನು . \n",
      "Actual corrected sentence  ಅವರು ನಿದ್ರೆಯಿಂದ ಎದ್ದರು .  \n",
      "Predicted Translation:  ಅದು ಒನ್ದು ಕೋಳಿ . \n"
     ]
    }
   ],
   "source": [
    "k+=1\n",
    "(input_seq, actual_output), _ = next(val_gen)\n",
    "decoded_sentence = decode_sequence(input_seq)\n",
    "print('Input wrong sentence:', X_train[k:k+1].values[0])\n",
    "print('Actual corrected sentence', y_train[k:k+1].values[0][6:-4])\n",
    "print('Predicted Translation:', decoded_sentence[:-4])"
   ]
  },
  {
   "cell_type": "code",
   "execution_count": 135,
   "metadata": {},
   "outputs": [
    {
     "name": "stdout",
     "output_type": "stream",
     "text": [
      "Input wrong sentence: ಅದು ತನ್ನ ಬೆಕ್ಕುಗಳ ಜೊತೆ ಆಡುತ್ತಾಳೆ . \n",
      "Actual corrected sentence  ಅವಳು ತನ್ನ ಬೆಕ್ಕುಗಳ ಜೊತೆ ಆಡುತ್ತಾಳೆ .  \n",
      "Predicted Translation:  ಅಂಗಡಿಯಲ್ಲಿ ನೂರಾರು ಟೋಪಿಗಳು ಇವೆ . \n"
     ]
    }
   ],
   "source": [
    "k+=1\n",
    "(input_seq, actual_output), _ = next(val_gen)\n",
    "decoded_sentence = decode_sequence(input_seq)\n",
    "print('Input wrong sentence:', X_train[k:k+1].values[0])\n",
    "print('Actual corrected sentence', y_train[k:k+1].values[0][6:-4])\n",
    "print('Predicted Translation:', decoded_sentence[:-4])"
   ]
  },
  {
   "cell_type": "code",
   "execution_count": 40,
   "metadata": {},
   "outputs": [
    {
     "name": "stdout",
     "output_type": "stream",
     "text": [
      " ನನ್ನ ಹತ್ತಿರ ಅನೇಕ ಪುಸ್ತಕಗಳು ಇವೆ . _END\n"
     ]
    }
   ],
   "source": [
    "text='ನನ್ನ ಹತ್ತಿರ ಪುಸ್ತಕಗಳು ಇದಾನೆ .'\n",
    "input_seq=np.zeros([1,19],dtype='float32')\n",
    "j=0\n",
    "for word in text.split():\n",
    "    input_seq[0][j]=(input_token_index[word])\n",
    "    j=j+1\n",
    "print(decode_sequence(input_seq))"
   ]
  },
  {
   "cell_type": "code",
   "execution_count": null,
   "metadata": {},
   "outputs": [],
   "source": []
  },
  {
   "cell_type": "code",
   "execution_count": null,
   "metadata": {},
   "outputs": [],
   "source": []
  },
  {
   "cell_type": "code",
   "execution_count": null,
   "metadata": {},
   "outputs": [],
   "source": []
  }
 ],
 "metadata": {
  "kernelspec": {
   "display_name": "Python 3",
   "language": "python",
   "name": "python3"
  },
  "language_info": {
   "codemirror_mode": {
    "name": "ipython",
    "version": 3
   },
   "file_extension": ".py",
   "mimetype": "text/x-python",
   "name": "python",
   "nbconvert_exporter": "python",
   "pygments_lexer": "ipython3",
   "version": "3.7.3"
  }
 },
 "nbformat": 4,
 "nbformat_minor": 2
}
